{
 "cells": [
  {
   "cell_type": "markdown",
   "metadata": {
    "toc": true
   },
   "source": [
    "<h1>Table of Contents<span class=\"tocSkip\"></span></h1>\n",
    "<div class=\"toc\"><ul class=\"toc-item\"><li><span><a href=\"#Loan-Prediction---EDA\" data-toc-modified-id=\"Loan-Prediction---EDA-1\"><span class=\"toc-item-num\">1&nbsp;&nbsp;</span>Loan Prediction - EDA</a></span><ul class=\"toc-item\"><li><span><a href=\"#Read-the-Training-Data-File\" data-toc-modified-id=\"Read-the-Training-Data-File-1.1\"><span class=\"toc-item-num\">1.1&nbsp;&nbsp;</span>Read the Training Data File</a></span></li><li><span><a href=\"#Imputing-Missing-Values\" data-toc-modified-id=\"Imputing-Missing-Values-1.2\"><span class=\"toc-item-num\">1.2&nbsp;&nbsp;</span>Imputing Missing Values</a></span><ul class=\"toc-item\"><li><span><a href=\"#X1---Response-Variable---Interest-Rates\" data-toc-modified-id=\"X1---Response-Variable---Interest-Rates-1.2.1\"><span class=\"toc-item-num\">1.2.1&nbsp;&nbsp;</span>X1 - Response Variable - Interest Rates</a></span></li><li><span><a href=\"#X2---Unique-ID-for-the-loan\" data-toc-modified-id=\"X2---Unique-ID-for-the-loan-1.2.2\"><span class=\"toc-item-num\">1.2.2&nbsp;&nbsp;</span>X2 - Unique ID for the loan</a></span></li><li><span><a href=\"#X18-field---Loan-Title-as-provided-by-borrower\" data-toc-modified-id=\"X18-field---Loan-Title-as-provided-by-borrower-1.2.3\"><span class=\"toc-item-num\">1.2.3&nbsp;&nbsp;</span>X18 field - Loan Title as provided by borrower</a></span></li><li><span><a href=\"#X30---Revolving-Line-Utilization-Rate\" data-toc-modified-id=\"X30---Revolving-Line-Utilization-Rate-1.2.4\"><span class=\"toc-item-num\">1.2.4&nbsp;&nbsp;</span>X30 - Revolving Line Utilization Rate</a></span></li><li><span><a href=\"#X11---Numbers-of-year-employed-(0-to-10;-10-=-10-or-more)\" data-toc-modified-id=\"X11---Numbers-of-year-employed-(0-to-10;-10-=-10-or-more)-1.2.5\"><span class=\"toc-item-num\">1.2.5&nbsp;&nbsp;</span>X11 - Numbers of year employed (0 to 10; 10 = 10 or more)</a></span></li><li><span><a href=\"#X10----Employer-or-job-title-(self-filled)\" data-toc-modified-id=\"X10----Employer-or-job-title-(self-filled)-1.2.6\"><span class=\"toc-item-num\">1.2.6&nbsp;&nbsp;</span>X10  - Employer or job title (self-filled)</a></span></li><li><span><a href=\"#X13---Annual-income-of-the-borrower\" data-toc-modified-id=\"X13---Annual-income-of-the-borrower-1.2.7\"><span class=\"toc-item-num\">1.2.7&nbsp;&nbsp;</span>X13 - Annual income of the borrower</a></span></li><li><span><a href=\"#X12---Home-Ownership-status-RENT,-OWN,-MORTGAGE,-OTHER.&quot;\" data-toc-modified-id=\"X12---Home-Ownership-status-RENT,-OWN,-MORTGAGE,-OTHER.&quot;-1.2.8\"><span class=\"toc-item-num\">1.2.8&nbsp;&nbsp;</span>X12 - Home Ownership status RENT, OWN, MORTGAGE, OTHER.\"</a></span></li><li><span><a href=\"#X1---transform-X1-to-numeric\" data-toc-modified-id=\"X1---transform-X1-to-numeric-1.2.9\"><span class=\"toc-item-num\">1.2.9&nbsp;&nbsp;</span>X1 - transform X1 to numeric</a></span></li><li><span><a href=\"#X25---Number-of-months-since-the-borrower's-last-delinquency.\" data-toc-modified-id=\"X25---Number-of-months-since-the-borrower's-last-delinquency.-1.2.10\"><span class=\"toc-item-num\">1.2.10&nbsp;&nbsp;</span>X25 - Number of months since the borrower's last delinquency.</a></span></li><li><span><a href=\"#X26---Number-of-months-since-the-last-public-record.\" data-toc-modified-id=\"X26---Number-of-months-since-the-last-public-record.-1.2.11\"><span class=\"toc-item-num\">1.2.11&nbsp;&nbsp;</span>X26 - Number of months since the last public record.</a></span></li><li><span><a href=\"#X16---Reason-for-loan-provided-by-borrower\" data-toc-modified-id=\"X16---Reason-for-loan-provided-by-borrower-1.2.12\"><span class=\"toc-item-num\">1.2.12&nbsp;&nbsp;</span>X16 - Reason for loan provided by borrower</a></span></li><li><span><a href=\"#X8---Loan-grade-,-X9---Loan-subgrade\" data-toc-modified-id=\"X8---Loan-grade-,-X9---Loan-subgrade-1.2.13\"><span class=\"toc-item-num\">1.2.13&nbsp;&nbsp;</span>X8 - Loan grade , X9 - Loan subgrade</a></span></li></ul></li><li><span><a href=\"#All-above-transformations-have-now-resolved-missing-values\" data-toc-modified-id=\"All-above-transformations-have-now-resolved-missing-values-1.3\"><span class=\"toc-item-num\">1.3&nbsp;&nbsp;</span>All above transformations have now resolved missing values</a></span><ul class=\"toc-item\"><li><span><a href=\"#Final-shape-of-the-loan-dataframe-with-all-nulls-removed\" data-toc-modified-id=\"Final-shape-of-the-loan-dataframe-with-all-nulls-removed-1.3.1\"><span class=\"toc-item-num\">1.3.1&nbsp;&nbsp;</span>Final shape of the loan dataframe with all nulls removed</a></span></li></ul></li><li><span><a href=\"#Handling-Dates---X15---Date-loan-was-issued-,-X23---Date-the-borrower's-earliest-reported-credit-line-was-opened\" data-toc-modified-id=\"Handling-Dates---X15---Date-loan-was-issued-,-X23---Date-the-borrower's-earliest-reported-credit-line-was-opened-1.4\"><span class=\"toc-item-num\">1.4&nbsp;&nbsp;</span>Handling Dates - X15 - Date loan was issued , X23 - Date the borrower's earliest reported credit line was opened</a></span><ul class=\"toc-item\"><li><span><a href=\"#Convert-X23-to-number-of-days-from-first-opened-credit-line\" data-toc-modified-id=\"Convert-X23-to-number-of-days-from-first-opened-credit-line-1.4.1\"><span class=\"toc-item-num\">1.4.1&nbsp;&nbsp;</span>Convert X23 to number of days from first opened credit line</a></span></li><li><span><a href=\"#Create-two-new-columns-Issue-Month-and-Issue-Year-from-X15\" data-toc-modified-id=\"Create-two-new-columns-Issue-Month-and-Issue-Year-from-X15-1.4.2\"><span class=\"toc-item-num\">1.4.2&nbsp;&nbsp;</span>Create two new columns Issue Month and Issue Year from X15</a></span></li><li><span><a href=\"#Drop-X15\" data-toc-modified-id=\"Drop-X15-1.4.3\"><span class=\"toc-item-num\">1.4.3&nbsp;&nbsp;</span>Drop X15</a></span></li></ul></li><li><span><a href=\"#Feature-Engineering-and-conversions\" data-toc-modified-id=\"Feature-Engineering-and-conversions-1.5\"><span class=\"toc-item-num\">1.5&nbsp;&nbsp;</span>Feature Engineering and conversions</a></span><ul class=\"toc-item\"><li><span><a href=\"#X2,-X3-are-id-fields---make-them-integer---will-consider-dropping-them-later\" data-toc-modified-id=\"X2,-X3-are-id-fields---make-them-integer---will-consider-dropping-them-later-1.5.1\"><span class=\"toc-item-num\">1.5.1&nbsp;&nbsp;</span>X2, X3 are id fields - make them integer - will consider dropping them later</a></span></li><li><span><a href=\"#X4,X5,X6---remove-dollar-sign-from-the-data\" data-toc-modified-id=\"X4,X5,X6---remove-dollar-sign-from-the-data-1.5.2\"><span class=\"toc-item-num\">1.5.2&nbsp;&nbsp;</span>X4,X5,X6 - remove dollar sign from the data</a></span></li><li><span><a href=\"#X7---Number-of-payments-(36-or-60)\" data-toc-modified-id=\"X7---Number-of-payments-(36-or-60)-1.5.3\"><span class=\"toc-item-num\">1.5.3&nbsp;&nbsp;</span>X7 - Number of payments (36 or 60)</a></span></li><li><span><a href=\"#X25---Create-feature-Has_Delinquency-with-values-as-0-and-1\" data-toc-modified-id=\"X25---Create-feature-Has_Delinquency-with-values-as-0-and-1-1.5.4\"><span class=\"toc-item-num\">1.5.4&nbsp;&nbsp;</span>X25 - Create feature Has_Delinquency with values as 0 and 1</a></span></li><li><span><a href=\"#X26---Create-feature-Has_Public_Record-with-values-0-and-1\" data-toc-modified-id=\"X26---Create-feature-Has_Public_Record-with-values-0-and-1-1.5.5\"><span class=\"toc-item-num\">1.5.5&nbsp;&nbsp;</span>X26 - Create feature Has_Public_Record with values 0 and 1</a></span></li><li><span><a href=\"#X30---Removing-%age-sign-from-the-data\" data-toc-modified-id=\"X30---Removing-%age-sign-from-the-data-1.5.6\"><span class=\"toc-item-num\">1.5.6&nbsp;&nbsp;</span>X30 - Removing %age sign from the data</a></span></li><li><span><a href=\"#X32---values-of-W-or-F---map-them-to-0-or-1\" data-toc-modified-id=\"X32---values-of-W-or-F---map-them-to-0-or-1-1.5.7\"><span class=\"toc-item-num\">1.5.7&nbsp;&nbsp;</span>X32 - values of W or F - map them to 0 or 1</a></span></li><li><span><a href=\"#X14---&quot;Income-verified,-not-verified,-or-income-source-was-verified&quot;---check-unique-values-and-encode\" data-toc-modified-id=\"X14---&quot;Income-verified,-not-verified,-or-income-source-was-verified&quot;---check-unique-values-and-encode-1.5.8\"><span class=\"toc-item-num\">1.5.8&nbsp;&nbsp;</span>X14 - \"Income verified, not verified, or income source was verified\" - check unique values and encode</a></span></li><li><span><a href=\"#X17---&quot;Loan-category,-as-provided-by-borrower&quot;---check-unique-values\" data-toc-modified-id=\"X17---&quot;Loan-category,-as-provided-by-borrower&quot;---check-unique-values-1.5.9\"><span class=\"toc-item-num\">1.5.9&nbsp;&nbsp;</span>X17 - \"Loan category, as provided by borrower\" - check unique values</a></span></li><li><span><a href=\"#X8,-X9---make-them-categorical\" data-toc-modified-id=\"X8,-X9---make-them-categorical-1.5.10\"><span class=\"toc-item-num\">1.5.10&nbsp;&nbsp;</span>X8, X9 - make them categorical</a></span></li><li><span><a href=\"#X12---Home-ownership---make-it-categorical\" data-toc-modified-id=\"X12---Home-ownership---make-it-categorical-1.5.11\"><span class=\"toc-item-num\">1.5.11&nbsp;&nbsp;</span>X12 - Home ownership - make it categorical</a></span></li><li><span><a href=\"#X19---zip-code---drop-for-now\" data-toc-modified-id=\"X19---zip-code---drop-for-now-1.5.12\"><span class=\"toc-item-num\">1.5.12&nbsp;&nbsp;</span>X19 - zip code - drop for now</a></span></li><li><span><a href=\"#X20---state---make-it-categorical\" data-toc-modified-id=\"X20---state---make-it-categorical-1.5.13\"><span class=\"toc-item-num\">1.5.13&nbsp;&nbsp;</span>X20 - state - make it categorical</a></span></li></ul></li></ul></li><li><span><a href=\"#Create-a-function-to-combine-all-above-data-preprocessing-steps\" data-toc-modified-id=\"Create-a-function-to-combine-all-above-data-preprocessing-steps-2\"><span class=\"toc-item-num\">2&nbsp;&nbsp;</span>Create a function to combine all above data preprocessing steps</a></span><ul class=\"toc-item\"><li><span><a href=\"#Read-the-training-file-again-and-run-it-through-the-above-function\" data-toc-modified-id=\"Read-the-training-file-again-and-run-it-through-the-above-function-2.1\"><span class=\"toc-item-num\">2.1&nbsp;&nbsp;</span>Read the training file again and run it through the above function</a></span></li><li><span><a href=\"#Save-the-processed-training-dataset-to-a-pickle-file\" data-toc-modified-id=\"Save-the-processed-training-dataset-to-a-pickle-file-2.2\"><span class=\"toc-item-num\">2.2&nbsp;&nbsp;</span>Save the processed training dataset to a pickle file</a></span></li></ul></li><li><span><a href=\"#Create-preprocessing-function-for-hold-out-set\" data-toc-modified-id=\"Create-preprocessing-function-for-hold-out-set-3\"><span class=\"toc-item-num\">3&nbsp;&nbsp;</span>Create preprocessing function for hold out set</a></span><ul class=\"toc-item\"><li><span><a href=\"#Read-the-hold-out-set-and-process-using-above-function\" data-toc-modified-id=\"Read-the-hold-out-set-and-process-using-above-function-3.1\"><span class=\"toc-item-num\">3.1&nbsp;&nbsp;</span>Read the hold out set and process using above function</a></span></li><li><span><a href=\"#Save-processed-hold-out-set-to-a-pickle-file\" data-toc-modified-id=\"Save-processed-hold-out-set-to-a-pickle-file-3.2\"><span class=\"toc-item-num\">3.2&nbsp;&nbsp;</span>Save processed hold out set to a pickle file</a></span></li></ul></li><li><span><a href=\"#Applying-ML-models\" data-toc-modified-id=\"Applying-ML-models-4\"><span class=\"toc-item-num\">4&nbsp;&nbsp;</span>Applying ML models</a></span><ul class=\"toc-item\"><li><span><a href=\"#Decision-Tree-Regressor\" data-toc-modified-id=\"Decision-Tree-Regressor-4.1\"><span class=\"toc-item-num\">4.1&nbsp;&nbsp;</span>Decision Tree Regressor</a></span></li><li><span><a href=\"#Random-Forest-Regressor\" data-toc-modified-id=\"Random-Forest-Regressor-4.2\"><span class=\"toc-item-num\">4.2&nbsp;&nbsp;</span>Random Forest Regressor</a></span><ul class=\"toc-item\"><li><span><a href=\"#Grid-Search-CV-for-Random-Forest\" data-toc-modified-id=\"Grid-Search-CV-for-Random-Forest-4.2.1\"><span class=\"toc-item-num\">4.2.1&nbsp;&nbsp;</span>Grid Search CV for Random Forest</a></span></li><li><span><a href=\"#Feature-Importances\" data-toc-modified-id=\"Feature-Importances-4.2.2\"><span class=\"toc-item-num\">4.2.2&nbsp;&nbsp;</span>Feature Importances</a></span></li></ul></li><li><span><a href=\"#AdaBoost\" data-toc-modified-id=\"AdaBoost-4.3\"><span class=\"toc-item-num\">4.3&nbsp;&nbsp;</span>AdaBoost</a></span></li><li><span><a href=\"#GBM\" data-toc-modified-id=\"GBM-4.4\"><span class=\"toc-item-num\">4.4&nbsp;&nbsp;</span>GBM</a></span></li><li><span><a href=\"#XGBOOST\" data-toc-modified-id=\"XGBOOST-4.5\"><span class=\"toc-item-num\">4.5&nbsp;&nbsp;</span>XGBOOST</a></span></li><li><span><a href=\"#LightGBM\" data-toc-modified-id=\"LightGBM-4.6\"><span class=\"toc-item-num\">4.6&nbsp;&nbsp;</span>LightGBM</a></span></li><li><span><a href=\"#Trying-Standardization-of-Continous-Features\" data-toc-modified-id=\"Trying-Standardization-of-Continous-Features-4.7\"><span class=\"toc-item-num\">4.7&nbsp;&nbsp;</span>Trying Standardization of Continous Features</a></span><ul class=\"toc-item\"><li><span><a href=\"#LGBM\" data-toc-modified-id=\"LGBM-4.7.1\"><span class=\"toc-item-num\">4.7.1&nbsp;&nbsp;</span>LGBM</a></span></li><li><span><a href=\"#Random-Forest\" data-toc-modified-id=\"Random-Forest-4.7.2\"><span class=\"toc-item-num\">4.7.2&nbsp;&nbsp;</span>Random Forest</a></span></li></ul></li><li><span><a href=\"#Trying-dummy-encoding-of-Categorical-variables\" data-toc-modified-id=\"Trying-dummy-encoding-of-Categorical-variables-4.8\"><span class=\"toc-item-num\">4.8&nbsp;&nbsp;</span>Trying dummy encoding of Categorical variables</a></span><ul class=\"toc-item\"><li><span><a href=\"#Random-Forest\" data-toc-modified-id=\"Random-Forest-4.8.1\"><span class=\"toc-item-num\">4.8.1&nbsp;&nbsp;</span>Random Forest</a></span></li><li><span><a href=\"#LGBM\" data-toc-modified-id=\"LGBM-4.8.2\"><span class=\"toc-item-num\">4.8.2&nbsp;&nbsp;</span>LGBM</a></span></li></ul></li></ul></li><li><span><a href=\"#Model-Comparison-and-Selection\" data-toc-modified-id=\"Model-Comparison-and-Selection-5\"><span class=\"toc-item-num\">5&nbsp;&nbsp;</span>Model Comparison and Selection</a></span><ul class=\"toc-item\"><li><span><a href=\"#Comparison\" data-toc-modified-id=\"Comparison-5.1\"><span class=\"toc-item-num\">5.1&nbsp;&nbsp;</span>Comparison</a></span></li><li><span><a href=\"#Final-Model\" data-toc-modified-id=\"Final-Model-5.2\"><span class=\"toc-item-num\">5.2&nbsp;&nbsp;</span>Final Model</a></span></li></ul></li><li><span><a href=\"#Submission---Running-on-Hold-out-Set\" data-toc-modified-id=\"Submission---Running-on-Hold-out-Set-6\"><span class=\"toc-item-num\">6&nbsp;&nbsp;</span>Submission - Running on Hold out Set</a></span><ul class=\"toc-item\"><li><span><a href=\"#Read-in-Processed-hold-out-file\" data-toc-modified-id=\"Read-in-Processed-hold-out-file-6.1\"><span class=\"toc-item-num\">6.1&nbsp;&nbsp;</span>Read in Processed hold out file</a></span></li><li><span><a href=\"#Run-final-model-on-hold-out-set\" data-toc-modified-id=\"Run-final-model-on-hold-out-set-6.2\"><span class=\"toc-item-num\">6.2&nbsp;&nbsp;</span>Run final model on hold out set</a></span></li><li><span><a href=\"#Create-Submission-file\" data-toc-modified-id=\"Create-Submission-file-6.3\"><span class=\"toc-item-num\">6.3&nbsp;&nbsp;</span>Create Submission file</a></span></li></ul></li></ul></div>"
   ]
  },
  {
   "cell_type": "markdown",
   "metadata": {},
   "source": [
    "# Loan Prediction - EDA"
   ]
  },
  {
   "cell_type": "markdown",
   "metadata": {},
   "source": [
    "\n",
    "Step 1:\n",
    "Clean and prepare your data: There are several entries where values have been deleted to simulate dirty data. Please clean the data with whatever method(s) you believe is best/most suitable. Note that some of the missing values are truly blank (unknown answers) and thus may be impossible to clean; use your discretion.\n",
    "\n",
    "Step 2:\n",
    "Build your models: Please build machine learning/statistical models in Python to predict the interest rate assigned to a loan. When writing the code associated with each model, please have the first part produce and save the model, followed by a second part that loads and applies the model.\n",
    "\n",
    "Step 3:\n",
    "Test your models using the data found within the \"Holdout for Testing\" file. Save the results of the final model (remember you will only predict the first column in holdout test set with your best model results) in a single, separate CSV titled \"Results from\" *insert your name or UChicago net ID.\n",
    "\n",
    "Step 4:\n",
    "Submit your work: Please submit all of your code for cleaning, prepping, and modeling your data, your \"Results\" file, a brief write-up comparing the pros and cons of the modeling techniques you used (no more than a paragraph). Your work will be scored on techniques used (appropriateness and complexity), model performance - measured by RMSE - on the data hold out, an understanding of the techniques you compared in your write-up, and your overall code.\n"
   ]
  },
  {
   "cell_type": "code",
   "execution_count": 3,
   "metadata": {},
   "outputs": [],
   "source": [
    "import numpy as np\n",
    "import pandas as pd\n",
    "import matplotlib.pyplot as plt\n",
    "import warnings\n",
    "import seaborn as sns\n",
    "warnings.filterwarnings('ignore')\n",
    "pd.set_option('max_columns',500)"
   ]
  },
  {
   "cell_type": "markdown",
   "metadata": {},
   "source": [
    "## Read the Training Data File"
   ]
  },
  {
   "cell_type": "code",
   "execution_count": 746,
   "metadata": {},
   "outputs": [],
   "source": [
    "#Read the data file \n",
    "train_loan_df = pd.read_csv('Data for Cleaning & Modeling.csv')\n",
    "loan_df = train_loan_df"
   ]
  },
  {
   "cell_type": "markdown",
   "metadata": {},
   "source": [
    "**Check first 5 rows of data**"
   ]
  },
  {
   "cell_type": "code",
   "execution_count": 747,
   "metadata": {},
   "outputs": [
    {
     "data": {
      "text/html": [
       "<div>\n",
       "<style scoped>\n",
       "    .dataframe tbody tr th:only-of-type {\n",
       "        vertical-align: middle;\n",
       "    }\n",
       "\n",
       "    .dataframe tbody tr th {\n",
       "        vertical-align: top;\n",
       "    }\n",
       "\n",
       "    .dataframe thead th {\n",
       "        text-align: right;\n",
       "    }\n",
       "</style>\n",
       "<table border=\"1\" class=\"dataframe\">\n",
       "  <thead>\n",
       "    <tr style=\"text-align: right;\">\n",
       "      <th></th>\n",
       "      <th>X1</th>\n",
       "      <th>X2</th>\n",
       "      <th>X3</th>\n",
       "      <th>X4</th>\n",
       "      <th>X5</th>\n",
       "      <th>X6</th>\n",
       "      <th>X7</th>\n",
       "      <th>X8</th>\n",
       "      <th>X9</th>\n",
       "      <th>X10</th>\n",
       "      <th>X11</th>\n",
       "      <th>X12</th>\n",
       "      <th>X13</th>\n",
       "      <th>X14</th>\n",
       "      <th>X15</th>\n",
       "      <th>X16</th>\n",
       "      <th>X17</th>\n",
       "      <th>X18</th>\n",
       "      <th>X19</th>\n",
       "      <th>X20</th>\n",
       "      <th>X21</th>\n",
       "      <th>X22</th>\n",
       "      <th>X23</th>\n",
       "      <th>X24</th>\n",
       "      <th>X25</th>\n",
       "      <th>X26</th>\n",
       "      <th>X27</th>\n",
       "      <th>X28</th>\n",
       "      <th>X29</th>\n",
       "      <th>X30</th>\n",
       "      <th>X31</th>\n",
       "      <th>X32</th>\n",
       "    </tr>\n",
       "  </thead>\n",
       "  <tbody>\n",
       "    <tr>\n",
       "      <th>0</th>\n",
       "      <td>11.89%</td>\n",
       "      <td>54734.0</td>\n",
       "      <td>80364.0</td>\n",
       "      <td>$25,000</td>\n",
       "      <td>$25,000</td>\n",
       "      <td>$19,080</td>\n",
       "      <td>36 months</td>\n",
       "      <td>B</td>\n",
       "      <td>B4</td>\n",
       "      <td>NaN</td>\n",
       "      <td>&lt; 1 year</td>\n",
       "      <td>RENT</td>\n",
       "      <td>85000.0</td>\n",
       "      <td>VERIFIED - income</td>\n",
       "      <td>2019-08-09</td>\n",
       "      <td>Due to a lack of personal finance education an...</td>\n",
       "      <td>debt_consolidation</td>\n",
       "      <td>Debt consolidation for on-time payer</td>\n",
       "      <td>941xx</td>\n",
       "      <td>CA</td>\n",
       "      <td>19.48</td>\n",
       "      <td>0.0</td>\n",
       "      <td>1994-02-01</td>\n",
       "      <td>0.0</td>\n",
       "      <td>NaN</td>\n",
       "      <td>NaN</td>\n",
       "      <td>10.0</td>\n",
       "      <td>0.0</td>\n",
       "      <td>28854.0</td>\n",
       "      <td>52.10%</td>\n",
       "      <td>42.0</td>\n",
       "      <td>f</td>\n",
       "    </tr>\n",
       "    <tr>\n",
       "      <th>1</th>\n",
       "      <td>10.71%</td>\n",
       "      <td>55742.0</td>\n",
       "      <td>114426.0</td>\n",
       "      <td>$7,000</td>\n",
       "      <td>$7,000</td>\n",
       "      <td>$673</td>\n",
       "      <td>36 months</td>\n",
       "      <td>B</td>\n",
       "      <td>B5</td>\n",
       "      <td>CNN</td>\n",
       "      <td>&lt; 1 year</td>\n",
       "      <td>RENT</td>\n",
       "      <td>65000.0</td>\n",
       "      <td>not verified</td>\n",
       "      <td>2019-05-08</td>\n",
       "      <td>Just want to pay off the last bit of credit ca...</td>\n",
       "      <td>credit_card</td>\n",
       "      <td>Credit Card payoff</td>\n",
       "      <td>112xx</td>\n",
       "      <td>NY</td>\n",
       "      <td>14.29</td>\n",
       "      <td>0.0</td>\n",
       "      <td>2000-10-01</td>\n",
       "      <td>0.0</td>\n",
       "      <td>NaN</td>\n",
       "      <td>NaN</td>\n",
       "      <td>7.0</td>\n",
       "      <td>0.0</td>\n",
       "      <td>33623.0</td>\n",
       "      <td>76.70%</td>\n",
       "      <td>7.0</td>\n",
       "      <td>f</td>\n",
       "    </tr>\n",
       "    <tr>\n",
       "      <th>2</th>\n",
       "      <td>16.99%</td>\n",
       "      <td>57167.0</td>\n",
       "      <td>137225.0</td>\n",
       "      <td>$25,000</td>\n",
       "      <td>$25,000</td>\n",
       "      <td>$24,725</td>\n",
       "      <td>36 months</td>\n",
       "      <td>D</td>\n",
       "      <td>D3</td>\n",
       "      <td>Web Programmer</td>\n",
       "      <td>1 year</td>\n",
       "      <td>RENT</td>\n",
       "      <td>70000.0</td>\n",
       "      <td>VERIFIED - income</td>\n",
       "      <td>2019-08-14</td>\n",
       "      <td>Trying to pay a friend back for apartment brok...</td>\n",
       "      <td>debt_consolidation</td>\n",
       "      <td>mlue</td>\n",
       "      <td>100xx</td>\n",
       "      <td>NY</td>\n",
       "      <td>10.50</td>\n",
       "      <td>0.0</td>\n",
       "      <td>2000-06-01</td>\n",
       "      <td>0.0</td>\n",
       "      <td>41.0</td>\n",
       "      <td>NaN</td>\n",
       "      <td>10.0</td>\n",
       "      <td>0.0</td>\n",
       "      <td>19878.0</td>\n",
       "      <td>66.30%</td>\n",
       "      <td>17.0</td>\n",
       "      <td>f</td>\n",
       "    </tr>\n",
       "    <tr>\n",
       "      <th>3</th>\n",
       "      <td>13.11%</td>\n",
       "      <td>57245.0</td>\n",
       "      <td>138150.0</td>\n",
       "      <td>$1,200</td>\n",
       "      <td>$1,200</td>\n",
       "      <td>$1,200</td>\n",
       "      <td>36 months</td>\n",
       "      <td>C</td>\n",
       "      <td>C2</td>\n",
       "      <td>city of beaumont texas</td>\n",
       "      <td>10+ years</td>\n",
       "      <td>OWN</td>\n",
       "      <td>54000.0</td>\n",
       "      <td>not verified</td>\n",
       "      <td>2019-03-10</td>\n",
       "      <td>If funded, I would use this loan consolidate t...</td>\n",
       "      <td>debt_consolidation</td>\n",
       "      <td>zxcvb</td>\n",
       "      <td>777xx</td>\n",
       "      <td>TX</td>\n",
       "      <td>5.47</td>\n",
       "      <td>0.0</td>\n",
       "      <td>1985-01-01</td>\n",
       "      <td>0.0</td>\n",
       "      <td>64.0</td>\n",
       "      <td>NaN</td>\n",
       "      <td>5.0</td>\n",
       "      <td>0.0</td>\n",
       "      <td>2584.0</td>\n",
       "      <td>40.40%</td>\n",
       "      <td>31.0</td>\n",
       "      <td>f</td>\n",
       "    </tr>\n",
       "    <tr>\n",
       "      <th>4</th>\n",
       "      <td>13.57%</td>\n",
       "      <td>57416.0</td>\n",
       "      <td>139635.0</td>\n",
       "      <td>$10,800</td>\n",
       "      <td>$10,800</td>\n",
       "      <td>$10,692</td>\n",
       "      <td>36 months</td>\n",
       "      <td>C</td>\n",
       "      <td>C3</td>\n",
       "      <td>State Farm Insurance</td>\n",
       "      <td>6 years</td>\n",
       "      <td>RENT</td>\n",
       "      <td>32000.0</td>\n",
       "      <td>not verified</td>\n",
       "      <td>2019-11-09</td>\n",
       "      <td>I currently have a personal loan with Citifina...</td>\n",
       "      <td>debt_consolidation</td>\n",
       "      <td>Nicolechr1978</td>\n",
       "      <td>067xx</td>\n",
       "      <td>CT</td>\n",
       "      <td>11.63</td>\n",
       "      <td>0.0</td>\n",
       "      <td>1996-12-01</td>\n",
       "      <td>1.0</td>\n",
       "      <td>58.0</td>\n",
       "      <td>NaN</td>\n",
       "      <td>14.0</td>\n",
       "      <td>0.0</td>\n",
       "      <td>3511.0</td>\n",
       "      <td>25.60%</td>\n",
       "      <td>40.0</td>\n",
       "      <td>f</td>\n",
       "    </tr>\n",
       "  </tbody>\n",
       "</table>\n",
       "</div>"
      ],
      "text/plain": [
       "       X1       X2        X3        X4        X5        X6          X7 X8  X9  \\\n",
       "0  11.89%  54734.0   80364.0  $25,000   $25,000   $19,080    36 months  B  B4   \n",
       "1  10.71%  55742.0  114426.0   $7,000    $7,000      $673    36 months  B  B5   \n",
       "2  16.99%  57167.0  137225.0  $25,000   $25,000   $24,725    36 months  D  D3   \n",
       "3  13.11%  57245.0  138150.0   $1,200    $1,200    $1,200    36 months  C  C2   \n",
       "4  13.57%  57416.0  139635.0  $10,800   $10,800   $10,692    36 months  C  C3   \n",
       "\n",
       "                      X10        X11   X12      X13                X14  \\\n",
       "0                     NaN   < 1 year  RENT  85000.0  VERIFIED - income   \n",
       "1                     CNN   < 1 year  RENT  65000.0       not verified   \n",
       "2          Web Programmer     1 year  RENT  70000.0  VERIFIED - income   \n",
       "3  city of beaumont texas  10+ years   OWN  54000.0       not verified   \n",
       "4    State Farm Insurance    6 years  RENT  32000.0       not verified   \n",
       "\n",
       "          X15                                                X16  \\\n",
       "0  2019-08-09  Due to a lack of personal finance education an...   \n",
       "1  2019-05-08  Just want to pay off the last bit of credit ca...   \n",
       "2  2019-08-14  Trying to pay a friend back for apartment brok...   \n",
       "3  2019-03-10  If funded, I would use this loan consolidate t...   \n",
       "4  2019-11-09  I currently have a personal loan with Citifina...   \n",
       "\n",
       "                  X17                                   X18    X19 X20    X21  \\\n",
       "0  debt_consolidation  Debt consolidation for on-time payer  941xx  CA  19.48   \n",
       "1         credit_card                    Credit Card payoff  112xx  NY  14.29   \n",
       "2  debt_consolidation                                  mlue  100xx  NY  10.50   \n",
       "3  debt_consolidation                                 zxcvb  777xx  TX   5.47   \n",
       "4  debt_consolidation                         Nicolechr1978  067xx  CT  11.63   \n",
       "\n",
       "   X22         X23  X24   X25  X26   X27  X28      X29     X30   X31 X32  \n",
       "0  0.0  1994-02-01  0.0   NaN  NaN  10.0  0.0  28854.0  52.10%  42.0   f  \n",
       "1  0.0  2000-10-01  0.0   NaN  NaN   7.0  0.0  33623.0  76.70%   7.0   f  \n",
       "2  0.0  2000-06-01  0.0  41.0  NaN  10.0  0.0  19878.0  66.30%  17.0   f  \n",
       "3  0.0  1985-01-01  0.0  64.0  NaN   5.0  0.0   2584.0  40.40%  31.0   f  \n",
       "4  0.0  1996-12-01  1.0  58.0  NaN  14.0  0.0   3511.0  25.60%  40.0   f  "
      ]
     },
     "execution_count": 747,
     "metadata": {},
     "output_type": "execute_result"
    }
   ],
   "source": [
    "loan_df.head()"
   ]
  },
  {
   "cell_type": "markdown",
   "metadata": {},
   "source": [
    "**Get info on the data set to check columns names, num rows, missing values and datatypes**"
   ]
  },
  {
   "cell_type": "code",
   "execution_count": 748,
   "metadata": {},
   "outputs": [
    {
     "name": "stdout",
     "output_type": "stream",
     "text": [
      "<class 'pandas.core.frame.DataFrame'>\n",
      "RangeIndex: 400000 entries, 0 to 399999\n",
      "Data columns (total 32 columns):\n",
      "X1     338990 non-null object\n",
      "X2     399999 non-null float64\n",
      "X3     399999 non-null float64\n",
      "X4     399999 non-null object\n",
      "X5     399999 non-null object\n",
      "X6     399999 non-null object\n",
      "X7     399999 non-null object\n",
      "X8     338730 non-null object\n",
      "X9     338730 non-null object\n",
      "X10    376014 non-null object\n",
      "X11    382462 non-null object\n",
      "X12    338639 non-null object\n",
      "X13    338972 non-null float64\n",
      "X14    399999 non-null object\n",
      "X15    399999 non-null object\n",
      "X16    123560 non-null object\n",
      "X17    399999 non-null object\n",
      "X18    399981 non-null object\n",
      "X19    399999 non-null object\n",
      "X20    399999 non-null object\n",
      "X21    399999 non-null float64\n",
      "X22    399999 non-null float64\n",
      "X23    399999 non-null object\n",
      "X24    399999 non-null float64\n",
      "X25    181198 non-null float64\n",
      "X26    51155 non-null float64\n",
      "X27    399999 non-null float64\n",
      "X28    399999 non-null float64\n",
      "X29    399999 non-null float64\n",
      "X30    399733 non-null object\n",
      "X31    399999 non-null float64\n",
      "X32    399999 non-null object\n",
      "dtypes: float64(12), object(20)\n",
      "memory usage: 97.7+ MB\n"
     ]
    }
   ],
   "source": [
    "loan_df.info()"
   ]
  },
  {
   "cell_type": "code",
   "execution_count": 749,
   "metadata": {},
   "outputs": [
    {
     "data": {
      "text/plain": [
       "(400000, 32)"
      ]
     },
     "execution_count": 749,
     "metadata": {},
     "output_type": "execute_result"
    }
   ],
   "source": [
    "loan_df.shape"
   ]
  },
  {
   "cell_type": "markdown",
   "metadata": {},
   "source": [
    "## Imputing Missing Values"
   ]
  },
  {
   "cell_type": "markdown",
   "metadata": {},
   "source": [
    "### X1 - Response Variable - Interest Rates"
   ]
  },
  {
   "cell_type": "markdown",
   "metadata": {},
   "source": [
    "**As X1 is the response variable we can remove all rows where it is blank because it is of no use to us**"
   ]
  },
  {
   "cell_type": "code",
   "execution_count": 750,
   "metadata": {},
   "outputs": [],
   "source": [
    "loan_df = loan_df.dropna(subset=['X1'])"
   ]
  },
  {
   "cell_type": "markdown",
   "metadata": {},
   "source": [
    "### X2 - Unique ID for the loan"
   ]
  },
  {
   "cell_type": "markdown",
   "metadata": {},
   "source": [
    "**X2 is missing for one row for which all fields are Therefore, Dropping this row**"
   ]
  },
  {
   "cell_type": "code",
   "execution_count": 751,
   "metadata": {},
   "outputs": [],
   "source": [
    "loan_df = loan_df.dropna(subset=['X2'])"
   ]
  },
  {
   "cell_type": "code",
   "execution_count": 752,
   "metadata": {},
   "outputs": [],
   "source": [
    "#write a function to return all columns in a dataframe with NUll values\n",
    "def printNullColsFromDF(df):\n",
    "    nullcols = pd.isnull(df).any(axis=0)\n",
    "    nullcols = df.columns[nullcols]\n",
    "    nullcols.tolist()\n",
    "    print(df[nullcols].info())"
   ]
  },
  {
   "cell_type": "code",
   "execution_count": 753,
   "metadata": {},
   "outputs": [
    {
     "name": "stdout",
     "output_type": "stream",
     "text": [
      "<class 'pandas.core.frame.DataFrame'>\n",
      "Int64Index: 338989 entries, 0 to 399999\n",
      "Data columns (total 11 columns):\n",
      "X8     287123 non-null object\n",
      "X9     287123 non-null object\n",
      "X10    318733 non-null object\n",
      "X11    324195 non-null object\n",
      "X12    287030 non-null object\n",
      "X13    287238 non-null float64\n",
      "X16    105056 non-null object\n",
      "X18    338973 non-null object\n",
      "X25    153533 non-null float64\n",
      "X26    43400 non-null float64\n",
      "X30    338765 non-null object\n",
      "dtypes: float64(3), object(8)\n",
      "memory usage: 31.0+ MB\n",
      "None\n"
     ]
    }
   ],
   "source": [
    "printNullColsFromDF(loan_df)"
   ]
  },
  {
   "cell_type": "code",
   "execution_count": 754,
   "metadata": {},
   "outputs": [],
   "source": [
    "import operator\n",
    "def printPercentNullsFromDF(df):\n",
    "    total = df.shape[0]\n",
    "    nullcols = pd.isnull(df).any(axis=0)\n",
    "    nullcols = df.columns[nullcols]\n",
    "    count = 0\n",
    "    result = {}\n",
    "    for col in nullcols:\n",
    "        count = np.sum(df[col].isnull())\n",
    "        percent = round((count/total)*100,2)\n",
    "        result[col] = percent\n",
    "    for key,value in sorted(result.items(), key=operator.itemgetter(1), reverse =True):\n",
    "        print('{}:{}%'.format(key,value))\n",
    "    return result"
   ]
  },
  {
   "cell_type": "code",
   "execution_count": 755,
   "metadata": {},
   "outputs": [
    {
     "name": "stdout",
     "output_type": "stream",
     "text": [
      "X26:87.2%\n",
      "X16:69.01%\n",
      "X25:54.71%\n",
      "X12:15.33%\n",
      "X8:15.3%\n",
      "X9:15.3%\n",
      "X13:15.27%\n",
      "X10:5.98%\n",
      "X11:4.36%\n",
      "X30:0.07%\n",
      "X18:0.0%\n",
      "{'X8': 15.3, 'X9': 15.3, 'X10': 5.98, 'X11': 4.36, 'X12': 15.33, 'X13': 15.27, 'X16': 69.01, 'X18': 0.0, 'X25': 54.71, 'X26': 87.2, 'X30': 0.07}\n"
     ]
    }
   ],
   "source": [
    "print(printPercentNullsFromDF(loan_df))"
   ]
  },
  {
   "cell_type": "code",
   "execution_count": 756,
   "metadata": {},
   "outputs": [],
   "source": [
    "#field = loan_df.loc[~loan_df['X13'].isnull(),'X13']\n",
    "#sns.distplot(field);\n",
    "#plt.boxplot(field);\n",
    "#plt.hist(field,bins=1000);\n",
    "#plt.figure(figsize=(10,10))\n",
    "#plt.scatter(field,loan_df.loc[~loan_df['X13'].isnull(),'X1'])\n",
    "#sns.pairplot(loan_df,dropna=True)"
   ]
  },
  {
   "cell_type": "markdown",
   "metadata": {},
   "source": [
    "### X18 field - Loan Title as provided by borrower"
   ]
  },
  {
   "cell_type": "code",
   "execution_count": 757,
   "metadata": {},
   "outputs": [
    {
     "data": {
      "text/plain": [
       "Debt consolidation                         105698\n",
       "Credit card refinancing                     40499\n",
       "Debt Consolidation                          13275\n",
       "Home improvement                             9888\n",
       "Other                                        8188\n",
       "Consolidation                                4504\n",
       "debt consolidation                           4075\n",
       "Debt Consolidation Loan                      3247\n",
       "Major purchase                               3010\n",
       "Business                                     2397\n",
       "Credit Card Consolidation                    1982\n",
       "consolidation                                1827\n",
       "Personal Loan                                1806\n",
       "Medical expenses                             1803\n",
       "Consolidation Loan                           1499\n",
       "Home Improvement                             1481\n",
       "Car financing                                1373\n",
       "Credit Card Refinance                        1246\n",
       "Credit Card Payoff                           1177\n",
       "Vacation                                     1078\n",
       "Consolidate                                  1038\n",
       "Personal                                      979\n",
       "Moving and relocation                         947\n",
       "Loan                                          885\n",
       "Freedom                                       680\n",
       "Credit Card Loan                              669\n",
       "consolidate                                   656\n",
       "personal                                      637\n",
       "Home buying                                   615\n",
       "personal loan                                 614\n",
       "                                            ...  \n",
       "should have done this before                    1\n",
       "debtconsoleloan                                 1\n",
       "Debt Consolidation & Car Financing Loan         1\n",
       "credit cards,car loan                           1\n",
       "joekat loan                                     1\n",
       "Loan to Lower Rates & Improve Cash Flow         1\n",
       "Freedom Acct                                    1\n",
       "3rd LC Loan, No Late Payments                   1\n",
       "For The Team                                    1\n",
       "Moped Fund                                      1\n",
       "Cap One Payoff                                  1\n",
       "SophieLoan                                      1\n",
       "Fixing Credit                                   1\n",
       "citifi auto                                     1\n",
       "14Turkeys                                       1\n",
       "SOLAR PV                                        1\n",
       "getting bills paid off                          1\n",
       "Screened porch+ misc.                           1\n",
       "eBay used vehicle loan                          1\n",
       "Consolidate to One Payment                      1\n",
       "Ojans Loan                                      1\n",
       "Consolidate Debt and Contribute to IRA          1\n",
       "Pay off bills and other needs.                  1\n",
       "mc loan                                         1\n",
       "Group 5                                         1\n",
       " Consolidation                                  1\n",
       "pay of cards                                    1\n",
       "Credit card reconciliation                      1\n",
       "DO AWAY WITH CREDIT CARDS                       1\n",
       "Wheels to Work                                  1\n",
       "Name: X18, Length: 53614, dtype: int64"
      ]
     },
     "execution_count": 757,
     "metadata": {},
     "output_type": "execute_result"
    }
   ],
   "source": [
    "loan_df['X18'].value_counts()"
   ]
  },
  {
   "cell_type": "code",
   "execution_count": 758,
   "metadata": {},
   "outputs": [
    {
     "data": {
      "text/html": [
       "<div>\n",
       "<style scoped>\n",
       "    .dataframe tbody tr th:only-of-type {\n",
       "        vertical-align: middle;\n",
       "    }\n",
       "\n",
       "    .dataframe tbody tr th {\n",
       "        vertical-align: top;\n",
       "    }\n",
       "\n",
       "    .dataframe thead th {\n",
       "        text-align: right;\n",
       "    }\n",
       "</style>\n",
       "<table border=\"1\" class=\"dataframe\">\n",
       "  <thead>\n",
       "    <tr style=\"text-align: right;\">\n",
       "      <th></th>\n",
       "      <th>X17</th>\n",
       "      <th>X18</th>\n",
       "    </tr>\n",
       "  </thead>\n",
       "  <tbody>\n",
       "    <tr>\n",
       "      <th>1350</th>\n",
       "      <td>debt_consolidation</td>\n",
       "      <td>NaN</td>\n",
       "    </tr>\n",
       "    <tr>\n",
       "      <th>1967</th>\n",
       "      <td>major_purchase</td>\n",
       "      <td>NaN</td>\n",
       "    </tr>\n",
       "    <tr>\n",
       "      <th>8303</th>\n",
       "      <td>debt_consolidation</td>\n",
       "      <td>NaN</td>\n",
       "    </tr>\n",
       "    <tr>\n",
       "      <th>9560</th>\n",
       "      <td>educational</td>\n",
       "      <td>NaN</td>\n",
       "    </tr>\n",
       "    <tr>\n",
       "      <th>10859</th>\n",
       "      <td>educational</td>\n",
       "      <td>NaN</td>\n",
       "    </tr>\n",
       "    <tr>\n",
       "      <th>10885</th>\n",
       "      <td>debt_consolidation</td>\n",
       "      <td>NaN</td>\n",
       "    </tr>\n",
       "    <tr>\n",
       "      <th>11115</th>\n",
       "      <td>small_business</td>\n",
       "      <td>NaN</td>\n",
       "    </tr>\n",
       "    <tr>\n",
       "      <th>11159</th>\n",
       "      <td>small_business</td>\n",
       "      <td>NaN</td>\n",
       "    </tr>\n",
       "    <tr>\n",
       "      <th>11170</th>\n",
       "      <td>debt_consolidation</td>\n",
       "      <td>NaN</td>\n",
       "    </tr>\n",
       "    <tr>\n",
       "      <th>11225</th>\n",
       "      <td>other</td>\n",
       "      <td>NaN</td>\n",
       "    </tr>\n",
       "    <tr>\n",
       "      <th>12415</th>\n",
       "      <td>credit_card</td>\n",
       "      <td>NaN</td>\n",
       "    </tr>\n",
       "    <tr>\n",
       "      <th>14716</th>\n",
       "      <td>other</td>\n",
       "      <td>NaN</td>\n",
       "    </tr>\n",
       "    <tr>\n",
       "      <th>72469</th>\n",
       "      <td>debt_consolidation</td>\n",
       "      <td>NaN</td>\n",
       "    </tr>\n",
       "    <tr>\n",
       "      <th>86632</th>\n",
       "      <td>debt_consolidation</td>\n",
       "      <td>NaN</td>\n",
       "    </tr>\n",
       "    <tr>\n",
       "      <th>124656</th>\n",
       "      <td>debt_consolidation</td>\n",
       "      <td>NaN</td>\n",
       "    </tr>\n",
       "    <tr>\n",
       "      <th>124739</th>\n",
       "      <td>debt_consolidation</td>\n",
       "      <td>NaN</td>\n",
       "    </tr>\n",
       "  </tbody>\n",
       "</table>\n",
       "</div>"
      ],
      "text/plain": [
       "                       X17  X18\n",
       "1350    debt_consolidation  NaN\n",
       "1967        major_purchase  NaN\n",
       "8303    debt_consolidation  NaN\n",
       "9560           educational  NaN\n",
       "10859          educational  NaN\n",
       "10885   debt_consolidation  NaN\n",
       "11115       small_business  NaN\n",
       "11159       small_business  NaN\n",
       "11170   debt_consolidation  NaN\n",
       "11225                other  NaN\n",
       "12415          credit_card  NaN\n",
       "14716                other  NaN\n",
       "72469   debt_consolidation  NaN\n",
       "86632   debt_consolidation  NaN\n",
       "124656  debt_consolidation  NaN\n",
       "124739  debt_consolidation  NaN"
      ]
     },
     "execution_count": 758,
     "metadata": {},
     "output_type": "execute_result"
    }
   ],
   "source": [
    "loan_df.loc[loan_df['X18'].isnull(),['X17','X18']]"
   ]
  },
  {
   "cell_type": "markdown",
   "metadata": {},
   "source": [
    "**X18 looks like very similar to X17 so we can drop the X18 column\n",
    "Also it is user provided and can contain incorrect values and also there are missing values in it\n",
    "so it makes sense to drop this column**"
   ]
  },
  {
   "cell_type": "code",
   "execution_count": 759,
   "metadata": {},
   "outputs": [],
   "source": [
    "loan_df = loan_df.drop(['X18'],axis=1)"
   ]
  },
  {
   "cell_type": "code",
   "execution_count": 760,
   "metadata": {},
   "outputs": [
    {
     "name": "stdout",
     "output_type": "stream",
     "text": [
      "X26:87.2%\n",
      "X16:69.01%\n",
      "X25:54.71%\n",
      "X12:15.33%\n",
      "X8:15.3%\n",
      "X9:15.3%\n",
      "X13:15.27%\n",
      "X10:5.98%\n",
      "X11:4.36%\n",
      "X30:0.07%\n"
     ]
    },
    {
     "data": {
      "text/plain": [
       "{'X8': 15.3,\n",
       " 'X9': 15.3,\n",
       " 'X10': 5.98,\n",
       " 'X11': 4.36,\n",
       " 'X12': 15.33,\n",
       " 'X13': 15.27,\n",
       " 'X16': 69.01,\n",
       " 'X25': 54.71,\n",
       " 'X26': 87.2,\n",
       " 'X30': 0.07}"
      ]
     },
     "execution_count": 760,
     "metadata": {},
     "output_type": "execute_result"
    }
   ],
   "source": [
    "printPercentNullsFromDF(loan_df)"
   ]
  },
  {
   "cell_type": "markdown",
   "metadata": {},
   "source": [
    "### X30 - Revolving Line Utilization Rate"
   ]
  },
  {
   "cell_type": "code",
   "execution_count": 761,
   "metadata": {},
   "outputs": [
    {
     "data": {
      "text/plain": [
       "0    52.10%\n",
       "1    76.70%\n",
       "2    66.30%\n",
       "3    40.40%\n",
       "4    25.60%\n",
       "Name: X30, dtype: object"
      ]
     },
     "execution_count": 761,
     "metadata": {},
     "output_type": "execute_result"
    }
   ],
   "source": [
    "loan_df['X30'].head()"
   ]
  },
  {
   "cell_type": "code",
   "execution_count": 762,
   "metadata": {},
   "outputs": [
    {
     "data": {
      "text/plain": [
       "count     338765\n",
       "unique      1204\n",
       "top           0%\n",
       "freq        1708\n",
       "Name: X30, dtype: object"
      ]
     },
     "execution_count": 762,
     "metadata": {},
     "output_type": "execute_result"
    }
   ],
   "source": [
    "loan_df['X30'].describe()"
   ]
  },
  {
   "cell_type": "code",
   "execution_count": 763,
   "metadata": {},
   "outputs": [
    {
     "data": {
      "text/plain": [
       "0%     1708\n",
       "57%     619\n",
       "53%     613\n",
       "59%     602\n",
       "60%     598\n",
       "Name: X30, dtype: int64"
      ]
     },
     "execution_count": 763,
     "metadata": {},
     "output_type": "execute_result"
    }
   ],
   "source": [
    "loan_df['X30'].value_counts().head()"
   ]
  },
  {
   "cell_type": "markdown",
   "metadata": {},
   "source": [
    "**The top most value is 0% so populating 0% in missing values makes sense\n",
    "also there are not many missing values so it should not make much difference**"
   ]
  },
  {
   "cell_type": "code",
   "execution_count": 764,
   "metadata": {},
   "outputs": [],
   "source": [
    "loan_df.loc[loan_df['X30'].isnull(),'X30'] = '0%'"
   ]
  },
  {
   "cell_type": "code",
   "execution_count": 765,
   "metadata": {},
   "outputs": [
    {
     "name": "stdout",
     "output_type": "stream",
     "text": [
      "X26:87.2%\n",
      "X16:69.01%\n",
      "X25:54.71%\n",
      "X12:15.33%\n",
      "X8:15.3%\n",
      "X9:15.3%\n",
      "X13:15.27%\n",
      "X10:5.98%\n",
      "X11:4.36%\n"
     ]
    },
    {
     "data": {
      "text/plain": [
       "{'X8': 15.3,\n",
       " 'X9': 15.3,\n",
       " 'X10': 5.98,\n",
       " 'X11': 4.36,\n",
       " 'X12': 15.33,\n",
       " 'X13': 15.27,\n",
       " 'X16': 69.01,\n",
       " 'X25': 54.71,\n",
       " 'X26': 87.2}"
      ]
     },
     "execution_count": 765,
     "metadata": {},
     "output_type": "execute_result"
    }
   ],
   "source": [
    "printPercentNullsFromDF(loan_df)\n",
    "#X30 is now gone from the list"
   ]
  },
  {
   "cell_type": "markdown",
   "metadata": {},
   "source": [
    "### X11 - Numbers of year employed (0 to 10; 10 = 10 or more)"
   ]
  },
  {
   "cell_type": "code",
   "execution_count": 766,
   "metadata": {},
   "outputs": [
    {
     "data": {
      "text/plain": [
       "10+ years    108491\n",
       "2 years       30117\n",
       "3 years       26670\n",
       "< 1 year      26003\n",
       "5 years       23072\n",
       "1 year        21432\n",
       "4 years       20259\n",
       "6 years       19601\n",
       "7 years       19445\n",
       "8 years       16212\n",
       "9 years       12893\n",
       "Name: X11, dtype: int64"
      ]
     },
     "execution_count": 766,
     "metadata": {},
     "output_type": "execute_result"
    }
   ],
   "source": [
    "loan_df['X11'].value_counts()"
   ]
  },
  {
   "cell_type": "markdown",
   "metadata": {},
   "source": [
    "**most applications are with 10+ years of experience**"
   ]
  },
  {
   "cell_type": "markdown",
   "metadata": {},
   "source": [
    "**check how many rows are blank**"
   ]
  },
  {
   "cell_type": "code",
   "execution_count": 767,
   "metadata": {},
   "outputs": [
    {
     "data": {
      "text/plain": [
       "14794"
      ]
     },
     "execution_count": 767,
     "metadata": {},
     "output_type": "execute_result"
    }
   ],
   "source": [
    "\n",
    "np.sum(loan_df['X11'].isnull())"
   ]
  },
  {
   "cell_type": "markdown",
   "metadata": {},
   "source": [
    "**lets first convert this field to numeric values\n",
    "first lets make <1 year as 0**"
   ]
  },
  {
   "cell_type": "code",
   "execution_count": 768,
   "metadata": {},
   "outputs": [],
   "source": [
    "loan_df.loc[loan_df['X11'] == '< 1 year','X11'] = '0' "
   ]
  },
  {
   "cell_type": "markdown",
   "metadata": {},
   "source": [
    "**Split and keep the number part from the field value**"
   ]
  },
  {
   "cell_type": "code",
   "execution_count": 769,
   "metadata": {},
   "outputs": [],
   "source": [
    "loan_df['X11'] = loan_df['X11'].apply(lambda x: x.split()[0] if type(x) == str else x )"
   ]
  },
  {
   "cell_type": "markdown",
   "metadata": {},
   "source": [
    "**Convert 10+ to 10**"
   ]
  },
  {
   "cell_type": "code",
   "execution_count": 770,
   "metadata": {},
   "outputs": [],
   "source": [
    "loan_df.loc[loan_df['X11'] == '10+','X11'] = '10' "
   ]
  },
  {
   "cell_type": "markdown",
   "metadata": {},
   "source": [
    "**Check mean value of this column**"
   ]
  },
  {
   "cell_type": "code",
   "execution_count": 771,
   "metadata": {},
   "outputs": [
    {
     "data": {
      "text/plain": [
       "5.991566803929734"
      ]
     },
     "execution_count": 771,
     "metadata": {},
     "output_type": "execute_result"
    }
   ],
   "source": [
    "np.sum(loan_df['X11'].fillna('0').astype('int'))/np.sum(~loan_df['X11'].isnull())"
   ]
  },
  {
   "cell_type": "code",
   "execution_count": 772,
   "metadata": {},
   "outputs": [
    {
     "data": {
      "text/plain": [
       "<matplotlib.axes._subplots.AxesSubplot at 0x1aafa3b4a8>"
      ]
     },
     "execution_count": 772,
     "metadata": {},
     "output_type": "execute_result"
    },
    {
     "data": {
      "image/png": "[encoded data removed]",
      "text/plain": [
       "<Figure size 432x288 with 1 Axes>"
      ]
     },
     "metadata": {
      "needs_background": "light"
     },
     "output_type": "display_data"
    }
   ],
   "source": [
    "sns.distplot(loan_df.loc[~loan_df['X11'].isnull(),'X11'].astype('int'))"
   ]
  },
  {
   "cell_type": "code",
   "execution_count": 773,
   "metadata": {},
   "outputs": [
    {
     "data": {
      "text/plain": [
       "<matplotlib.axes._subplots.AxesSubplot at 0x1aaf850a90>"
      ]
     },
     "execution_count": 773,
     "metadata": {},
     "output_type": "execute_result"
    },
    {
     "data": {
      "image/png": "[encoded data removed]",
      "text/plain": [
       "<Figure size 432x288 with 1 Axes>"
      ]
     },
     "metadata": {
      "needs_background": "light"
     },
     "output_type": "display_data"
    }
   ],
   "source": [
    "#check distribution\n",
    "sns.distplot(loan_df['X11'].fillna('0').astype('int'))"
   ]
  },
  {
   "cell_type": "code",
   "execution_count": 774,
   "metadata": {},
   "outputs": [
    {
     "data": {
      "text/plain": [
       "<matplotlib.axes._subplots.AxesSubplot at 0x1ab01189b0>"
      ]
     },
     "execution_count": 774,
     "metadata": {},
     "output_type": "execute_result"
    },
    {
     "data": {
      "image/png": "[encoded data removed]",
      "text/plain": [
       "<Figure size 432x288 with 1 Axes>"
      ]
     },
     "metadata": {
      "needs_background": "light"
     },
     "output_type": "display_data"
    }
   ],
   "source": [
    "#check distribution\n",
    "sns.distplot(loan_df['X11'].fillna('6').astype('int'))"
   ]
  },
  {
   "cell_type": "code",
   "execution_count": 775,
   "metadata": {},
   "outputs": [
    {
     "data": {
      "text/plain": [
       "<matplotlib.axes._subplots.AxesSubplot at 0x1aafa23128>"
      ]
     },
     "execution_count": 775,
     "metadata": {},
     "output_type": "execute_result"
    },
    {
     "data": {
      "image/png": "[encoded data removed]",
      "text/plain": [
       "<Figure size 432x288 with 1 Axes>"
      ]
     },
     "metadata": {
      "needs_background": "light"
     },
     "output_type": "display_data"
    }
   ],
   "source": [
    "#check distribution\n",
    "sns.distplot(loan_df['X11'].fillna('10').astype('int'))"
   ]
  },
  {
   "cell_type": "markdown",
   "metadata": {},
   "source": [
    "**As seen by distplot replacing missing values with 10+ years experince does not change the\n",
    "distribution by much, therefore filling in the missing values with 10**"
   ]
  },
  {
   "cell_type": "code",
   "execution_count": 776,
   "metadata": {},
   "outputs": [],
   "source": [
    "loan_df['X11'] = loan_df['X11'].fillna('10')"
   ]
  },
  {
   "cell_type": "code",
   "execution_count": 777,
   "metadata": {},
   "outputs": [
    {
     "data": {
      "text/plain": [
       "10    123285\n",
       "2      30117\n",
       "3      26670\n",
       "0      26003\n",
       "5      23072\n",
       "1      21432\n",
       "4      20259\n",
       "6      19601\n",
       "7      19445\n",
       "8      16212\n",
       "9      12893\n",
       "Name: X11, dtype: int64"
      ]
     },
     "execution_count": 777,
     "metadata": {},
     "output_type": "execute_result"
    }
   ],
   "source": [
    "loan_df['X11'].value_counts()"
   ]
  },
  {
   "cell_type": "code",
   "execution_count": 778,
   "metadata": {},
   "outputs": [],
   "source": [
    "loan_df['X11'] = loan_df['X11'].astype('int')"
   ]
  },
  {
   "cell_type": "code",
   "execution_count": 779,
   "metadata": {},
   "outputs": [
    {
     "data": {
      "text/plain": [
       "0     0\n",
       "1     0\n",
       "2     1\n",
       "3    10\n",
       "4     6\n",
       "Name: X11, dtype: int64"
      ]
     },
     "execution_count": 779,
     "metadata": {},
     "output_type": "execute_result"
    }
   ],
   "source": [
    "loan_df['X11'].head()"
   ]
  },
  {
   "cell_type": "code",
   "execution_count": 780,
   "metadata": {
    "scrolled": true
   },
   "outputs": [
    {
     "data": {
      "text/plain": [
       "count    338989.000000\n",
       "mean          6.166501\n",
       "std           3.627805\n",
       "min           0.000000\n",
       "25%           3.000000\n",
       "50%           7.000000\n",
       "75%          10.000000\n",
       "max          10.000000\n",
       "Name: X11, dtype: float64"
      ]
     },
     "execution_count": 780,
     "metadata": {},
     "output_type": "execute_result"
    }
   ],
   "source": [
    "loan_df['X11'].describe()"
   ]
  },
  {
   "cell_type": "code",
   "execution_count": 781,
   "metadata": {},
   "outputs": [
    {
     "name": "stdout",
     "output_type": "stream",
     "text": [
      "X26:87.2%\n",
      "X16:69.01%\n",
      "X25:54.71%\n",
      "X12:15.33%\n",
      "X8:15.3%\n",
      "X9:15.3%\n",
      "X13:15.27%\n",
      "X10:5.98%\n"
     ]
    },
    {
     "data": {
      "text/plain": [
       "{'X8': 15.3,\n",
       " 'X9': 15.3,\n",
       " 'X10': 5.98,\n",
       " 'X12': 15.33,\n",
       " 'X13': 15.27,\n",
       " 'X16': 69.01,\n",
       " 'X25': 54.71,\n",
       " 'X26': 87.2}"
      ]
     },
     "execution_count": 781,
     "metadata": {},
     "output_type": "execute_result"
    }
   ],
   "source": [
    "printPercentNullsFromDF(loan_df)"
   ]
  },
  {
   "cell_type": "markdown",
   "metadata": {},
   "source": [
    "### X10  - Employer or job title (self-filled)"
   ]
  },
  {
   "cell_type": "code",
   "execution_count": 782,
   "metadata": {},
   "outputs": [
    {
     "data": {
      "text/plain": [
       "0                       NaN\n",
       "1                       CNN\n",
       "2            Web Programmer\n",
       "3    city of beaumont texas\n",
       "4      State Farm Insurance\n",
       "Name: X10, dtype: object"
      ]
     },
     "execution_count": 782,
     "metadata": {},
     "output_type": "execute_result"
    }
   ],
   "source": [
    "loan_df['X10'].head()"
   ]
  },
  {
   "cell_type": "markdown",
   "metadata": {},
   "source": [
    "Check number of blank values"
   ]
  },
  {
   "cell_type": "code",
   "execution_count": 783,
   "metadata": {},
   "outputs": [
    {
     "data": {
      "text/plain": [
       "20256"
      ]
     },
     "execution_count": 783,
     "metadata": {},
     "output_type": "execute_result"
    }
   ],
   "source": [
    "np.sum(loan_df['X10'].isnull())"
   ]
  },
  {
   "cell_type": "code",
   "execution_count": 784,
   "metadata": {},
   "outputs": [
    {
     "data": {
      "text/plain": [
       "Teacher                                     3602\n",
       "Manager                                     2875\n",
       "Registered Nurse                            1537\n",
       "RN                                          1452\n",
       "Supervisor                                  1286\n",
       "Project Manager                             1095\n",
       "Sales                                       1048\n",
       "Office Manager                               912\n",
       "Owner                                        870\n",
       "manager                                      866\n",
       "Driver                                       842\n",
       "General Manager                              806\n",
       "Director                                     783\n",
       "teacher                                      761\n",
       "Engineer                                     704\n",
       "Vice President                               618\n",
       "driver                                       612\n",
       "President                                    557\n",
       "Administrative Assistant                     549\n",
       "Operations Manager                           548\n",
       "Attorney                                     543\n",
       "Accountant                                   524\n",
       "supervisor                                   524\n",
       "US Army                                      514\n",
       "Police Officer                               485\n",
       "sales                                        461\n",
       "owner                                        457\n",
       "Sales Manager                                451\n",
       "Executive Assistant                          444\n",
       "Account Manager                              431\n",
       "                                            ... \n",
       "Media Planning Group                           1\n",
       "culpeper co schools                            1\n",
       "Farella Braun + Martel LLP                     1\n",
       "warrior coal                                   1\n",
       "Heaton Dainard Real Estate                     1\n",
       "co-owner/production manager                    1\n",
       "cheers                                         1\n",
       "Program and Policy Director                    1\n",
       "local 158                                      1\n",
       "Automotive Rentals, Inc.                       1\n",
       "Dept of Justice - Federal Bureau of Pris       1\n",
       "BILLING/RECEIVING                              1\n",
       "HCA Mercy Hospital                             1\n",
       "Johnson Mfg. Co                                1\n",
       "San Gabriel Hospital                           1\n",
       "DecisionHR                                     1\n",
       "Phone Banker 2                                 1\n",
       "Construction supervised                        1\n",
       "Sole Owner                                     1\n",
       "SURGICAL RN                                    1\n",
       "Watson Rounds                                  1\n",
       "tint specialist                                1\n",
       "Sr Performance analyst                         1\n",
       "Branch Manager/ Lead Counter Person            1\n",
       "Tumwater School District                       1\n",
       "Forge Supervising Engineer                     1\n",
       "Skadden                                        1\n",
       "Document manager                               1\n",
       "Regional Sales Executive                       1\n",
       "Office of personnel Management                 1\n",
       "Name: X10, Length: 163395, dtype: int64"
      ]
     },
     "execution_count": 784,
     "metadata": {},
     "output_type": "execute_result"
    }
   ],
   "source": [
    "loan_df['X10'].value_counts()"
   ]
  },
  {
   "cell_type": "markdown",
   "metadata": {},
   "source": [
    "**As there is no standard value for this field due to being self filled\n",
    "dropping this column is wise**"
   ]
  },
  {
   "cell_type": "code",
   "execution_count": 785,
   "metadata": {},
   "outputs": [],
   "source": [
    "loan_df = loan_df.drop(['X10'],axis=1)"
   ]
  },
  {
   "cell_type": "code",
   "execution_count": 786,
   "metadata": {},
   "outputs": [
    {
     "name": "stdout",
     "output_type": "stream",
     "text": [
      "X26:87.2%\n",
      "X16:69.01%\n",
      "X25:54.71%\n",
      "X12:15.33%\n",
      "X8:15.3%\n",
      "X9:15.3%\n",
      "X13:15.27%\n"
     ]
    },
    {
     "data": {
      "text/plain": [
       "{'X8': 15.3,\n",
       " 'X9': 15.3,\n",
       " 'X12': 15.33,\n",
       " 'X13': 15.27,\n",
       " 'X16': 69.01,\n",
       " 'X25': 54.71,\n",
       " 'X26': 87.2}"
      ]
     },
     "execution_count": 786,
     "metadata": {},
     "output_type": "execute_result"
    }
   ],
   "source": [
    "printPercentNullsFromDF(loan_df)"
   ]
  },
  {
   "cell_type": "markdown",
   "metadata": {},
   "source": [
    "### X13 - Annual income of the borrower"
   ]
  },
  {
   "cell_type": "markdown",
   "metadata": {},
   "source": [
    "**Filling missing Annual income with median value**"
   ]
  },
  {
   "cell_type": "code",
   "execution_count": 787,
   "metadata": {},
   "outputs": [
    {
     "data": {
      "text/plain": [
       "51751"
      ]
     },
     "execution_count": 787,
     "metadata": {},
     "output_type": "execute_result"
    }
   ],
   "source": [
    "np.sum(loan_df['X13'].isnull())"
   ]
  },
  {
   "cell_type": "code",
   "execution_count": 788,
   "metadata": {},
   "outputs": [
    {
     "data": {
      "text/plain": [
       "count    2.872380e+05\n",
       "mean     7.315146e+04\n",
       "std      5.618967e+04\n",
       "min      3.000000e+03\n",
       "25%      4.500000e+04\n",
       "50%      6.300000e+04\n",
       "75%      8.807875e+04\n",
       "max      7.500000e+06\n",
       "Name: X13, dtype: float64"
      ]
     },
     "execution_count": 788,
     "metadata": {},
     "output_type": "execute_result"
    }
   ],
   "source": [
    "loan_df['X13'].describe()"
   ]
  },
  {
   "cell_type": "code",
   "execution_count": 789,
   "metadata": {},
   "outputs": [
    {
     "data": {
      "text/plain": [
       "63000.0"
      ]
     },
     "execution_count": 789,
     "metadata": {},
     "output_type": "execute_result"
    }
   ],
   "source": [
    "loan_df['X13'].median()"
   ]
  },
  {
   "cell_type": "code",
   "execution_count": 790,
   "metadata": {},
   "outputs": [],
   "source": [
    "loan_df.loc[loan_df['X13'].isnull(),'X13'] = loan_df['X13'].median()"
   ]
  },
  {
   "cell_type": "code",
   "execution_count": 791,
   "metadata": {},
   "outputs": [
    {
     "data": {
      "text/plain": [
       "0"
      ]
     },
     "execution_count": 791,
     "metadata": {},
     "output_type": "execute_result"
    }
   ],
   "source": [
    "np.sum(loan_df['X13'].isnull())"
   ]
  },
  {
   "cell_type": "code",
   "execution_count": 792,
   "metadata": {},
   "outputs": [
    {
     "data": {
      "text/plain": [
       "count    3.389890e+05\n",
       "mean     7.160171e+04\n",
       "std      5.185180e+04\n",
       "min      3.000000e+03\n",
       "25%      4.858100e+04\n",
       "50%      6.300000e+04\n",
       "75%      8.200000e+04\n",
       "max      7.500000e+06\n",
       "Name: X13, dtype: float64"
      ]
     },
     "execution_count": 792,
     "metadata": {},
     "output_type": "execute_result"
    }
   ],
   "source": [
    "loan_df['X13'].describe()"
   ]
  },
  {
   "cell_type": "code",
   "execution_count": 793,
   "metadata": {},
   "outputs": [
    {
     "name": "stdout",
     "output_type": "stream",
     "text": [
      "X26:87.2%\n",
      "X16:69.01%\n",
      "X25:54.71%\n",
      "X12:15.33%\n",
      "X8:15.3%\n",
      "X9:15.3%\n"
     ]
    },
    {
     "data": {
      "text/plain": [
       "{'X8': 15.3, 'X9': 15.3, 'X12': 15.33, 'X16': 69.01, 'X25': 54.71, 'X26': 87.2}"
      ]
     },
     "execution_count": 793,
     "metadata": {},
     "output_type": "execute_result"
    }
   ],
   "source": [
    "printPercentNullsFromDF(loan_df)"
   ]
  },
  {
   "cell_type": "markdown",
   "metadata": {},
   "source": [
    "### X12 - Home Ownership status RENT, OWN, MORTGAGE, OTHER.\""
   ]
  },
  {
   "cell_type": "code",
   "execution_count": 794,
   "metadata": {},
   "outputs": [
    {
     "data": {
      "text/plain": [
       "51959"
      ]
     },
     "execution_count": 794,
     "metadata": {},
     "output_type": "execute_result"
    }
   ],
   "source": [
    "np.sum(loan_df['X12'].isnull())"
   ]
  },
  {
   "cell_type": "code",
   "execution_count": 795,
   "metadata": {},
   "outputs": [
    {
     "data": {
      "text/plain": [
       "MORTGAGE    145958\n",
       "RENT        115958\n",
       "OWN          24976\n",
       "OTHER          107\n",
       "NONE            30\n",
       "ANY              1\n",
       "Name: X12, dtype: int64"
      ]
     },
     "execution_count": 795,
     "metadata": {},
     "output_type": "execute_result"
    }
   ],
   "source": [
    "loan_df['X12'].value_counts()"
   ]
  },
  {
   "cell_type": "code",
   "execution_count": 796,
   "metadata": {},
   "outputs": [
    {
     "data": {
      "text/plain": [
       "<BarContainer object of 6 artists>"
      ]
     },
     "execution_count": 796,
     "metadata": {},
     "output_type": "execute_result"
    },
    {
     "data": {
      "image/png": "[encoded data removed]",
      "text/plain": [
       "<Figure size 432x288 with 1 Axes>"
      ]
     },
     "metadata": {
      "needs_background": "light"
     },
     "output_type": "display_data"
    }
   ],
   "source": [
    "plt.barh(loan_df['X12'].value_counts().index,loan_df['X12'].value_counts())"
   ]
  },
  {
   "cell_type": "markdown",
   "metadata": {},
   "source": [
    "**Strategy assign half of missing values as Mortgage and other half as Rent - two most used categories**"
   ]
  },
  {
   "cell_type": "code",
   "execution_count": 797,
   "metadata": {},
   "outputs": [],
   "source": [
    "nullIndex = loan_df.loc[loan_df['X12'].isnull()].index.tolist()"
   ]
  },
  {
   "cell_type": "code",
   "execution_count": 798,
   "metadata": {},
   "outputs": [
    {
     "data": {
      "text/plain": [
       "25979"
      ]
     },
     "execution_count": 798,
     "metadata": {},
     "output_type": "execute_result"
    }
   ],
   "source": [
    "size = len(nullIndex)//2\n",
    "size"
   ]
  },
  {
   "cell_type": "code",
   "execution_count": 799,
   "metadata": {},
   "outputs": [],
   "source": [
    "fillRentIndex = np.random.choice(nullIndex,size,replace=False)"
   ]
  },
  {
   "cell_type": "code",
   "execution_count": 800,
   "metadata": {},
   "outputs": [],
   "source": [
    "loan_df.loc[fillRentIndex,'X12'] = 'RENT'"
   ]
  },
  {
   "cell_type": "code",
   "execution_count": 801,
   "metadata": {},
   "outputs": [
    {
     "data": {
      "text/plain": [
       "25980"
      ]
     },
     "execution_count": 801,
     "metadata": {},
     "output_type": "execute_result"
    }
   ],
   "source": [
    "nullIndex = loan_df.loc[loan_df['X12'].isnull()].index.tolist()\n",
    "len(nullIndex)"
   ]
  },
  {
   "cell_type": "code",
   "execution_count": 802,
   "metadata": {},
   "outputs": [],
   "source": [
    "size = len(nullIndex)"
   ]
  },
  {
   "cell_type": "code",
   "execution_count": 803,
   "metadata": {},
   "outputs": [],
   "source": [
    "fillMortIndex = np.random.choice(nullIndex,size,replace=False)"
   ]
  },
  {
   "cell_type": "code",
   "execution_count": 804,
   "metadata": {},
   "outputs": [],
   "source": [
    "loan_df.loc[fillMortIndex,'X12'] ='MORTGAGE'"
   ]
  },
  {
   "cell_type": "code",
   "execution_count": 805,
   "metadata": {},
   "outputs": [
    {
     "data": {
      "text/plain": [
       "<BarContainer object of 6 artists>"
      ]
     },
     "execution_count": 805,
     "metadata": {},
     "output_type": "execute_result"
    },
    {
     "data": {
      "image/png": "[encoded data removed]",
      "text/plain": [
       "<Figure size 432x288 with 1 Axes>"
      ]
     },
     "metadata": {
      "needs_background": "light"
     },
     "output_type": "display_data"
    }
   ],
   "source": [
    "plt.barh(loan_df['X12'].value_counts().index,loan_df['X12'].value_counts())"
   ]
  },
  {
   "cell_type": "code",
   "execution_count": 806,
   "metadata": {},
   "outputs": [
    {
     "data": {
      "text/plain": [
       "0"
      ]
     },
     "execution_count": 806,
     "metadata": {},
     "output_type": "execute_result"
    }
   ],
   "source": [
    "np.sum(loan_df['X12'].isnull())"
   ]
  },
  {
   "cell_type": "code",
   "execution_count": 807,
   "metadata": {},
   "outputs": [
    {
     "name": "stdout",
     "output_type": "stream",
     "text": [
      "X26:87.2%\n",
      "X16:69.01%\n",
      "X25:54.71%\n",
      "X8:15.3%\n",
      "X9:15.3%\n"
     ]
    },
    {
     "data": {
      "text/plain": [
       "{'X8': 15.3, 'X9': 15.3, 'X16': 69.01, 'X25': 54.71, 'X26': 87.2}"
      ]
     },
     "execution_count": 807,
     "metadata": {},
     "output_type": "execute_result"
    }
   ],
   "source": [
    "printPercentNullsFromDF(loan_df)"
   ]
  },
  {
   "cell_type": "markdown",
   "metadata": {},
   "source": [
    "### X1 - transform X1 to numeric"
   ]
  },
  {
   "cell_type": "code",
   "execution_count": 808,
   "metadata": {
    "scrolled": true
   },
   "outputs": [
    {
     "data": {
      "text/plain": [
       "0    11.89%\n",
       "1    10.71%\n",
       "2    16.99%\n",
       "3    13.11%\n",
       "4    13.57%\n",
       "Name: X1, dtype: object"
      ]
     },
     "execution_count": 808,
     "metadata": {},
     "output_type": "execute_result"
    }
   ],
   "source": [
    "loan_df['X1'].head()"
   ]
  },
  {
   "cell_type": "code",
   "execution_count": 809,
   "metadata": {},
   "outputs": [],
   "source": [
    "loan_df['X1'] = loan_df['X1'].str.replace('%','')"
   ]
  },
  {
   "cell_type": "code",
   "execution_count": 810,
   "metadata": {},
   "outputs": [],
   "source": [
    "loan_df['X1']  = loan_df['X1'].astype('float64')"
   ]
  },
  {
   "cell_type": "code",
   "execution_count": 811,
   "metadata": {},
   "outputs": [
    {
     "data": {
      "text/plain": [
       "0    11.89\n",
       "1    10.71\n",
       "2    16.99\n",
       "3    13.11\n",
       "4    13.57\n",
       "Name: X1, dtype: float64"
      ]
     },
     "execution_count": 811,
     "metadata": {},
     "output_type": "execute_result"
    }
   ],
   "source": [
    "loan_df['X1'].head()"
   ]
  },
  {
   "cell_type": "code",
   "execution_count": 812,
   "metadata": {},
   "outputs": [
    {
     "data": {
      "text/plain": [
       "count    338989.000000\n",
       "mean         13.946289\n",
       "std           4.377945\n",
       "min           5.420000\n",
       "25%          10.990000\n",
       "50%          13.680000\n",
       "75%          16.780000\n",
       "max          26.060000\n",
       "Name: X1, dtype: float64"
      ]
     },
     "execution_count": 812,
     "metadata": {},
     "output_type": "execute_result"
    }
   ],
   "source": [
    "loan_df['X1'].describe()"
   ]
  },
  {
   "cell_type": "markdown",
   "metadata": {},
   "source": [
    "### X25 - Number of months since the borrower's last delinquency."
   ]
  },
  {
   "cell_type": "markdown",
   "metadata": {},
   "source": [
    "**Total missing values**"
   ]
  },
  {
   "cell_type": "code",
   "execution_count": 813,
   "metadata": {},
   "outputs": [
    {
     "data": {
      "text/plain": [
       "185456"
      ]
     },
     "execution_count": 813,
     "metadata": {},
     "output_type": "execute_result"
    }
   ],
   "source": [
    "np.sum(loan_df['X25'].isnull())"
   ]
  },
  {
   "cell_type": "code",
   "execution_count": 814,
   "metadata": {},
   "outputs": [
    {
     "data": {
      "text/plain": [
       "<matplotlib.axes._subplots.AxesSubplot at 0x1ac71bbc50>"
      ]
     },
     "execution_count": 814,
     "metadata": {},
     "output_type": "execute_result"
    },
    {
     "data": {
      "image/png": "[encoded data removed]",
      "text/plain": [
       "<Figure size 432x288 with 1 Axes>"
      ]
     },
     "metadata": {
      "needs_background": "light"
     },
     "output_type": "display_data"
    }
   ],
   "source": [
    "sns.distplot(loan_df.loc[~loan_df['X25'].isnull(),'X25'])"
   ]
  },
  {
   "cell_type": "code",
   "execution_count": 815,
   "metadata": {},
   "outputs": [
    {
     "data": {
      "text/plain": [
       "count    153533.000000\n",
       "mean         34.325787\n",
       "std          21.788655\n",
       "min           0.000000\n",
       "25%          16.000000\n",
       "50%          31.000000\n",
       "75%          50.000000\n",
       "max         188.000000\n",
       "Name: X25, dtype: float64"
      ]
     },
     "execution_count": 815,
     "metadata": {},
     "output_type": "execute_result"
    }
   ],
   "source": [
    "loan_df['X25'].describe()"
   ]
  },
  {
   "cell_type": "code",
   "execution_count": 816,
   "metadata": {},
   "outputs": [
    {
     "data": {
      "image/png": "[encoded data removed]",
      "text/plain": [
       "<Figure size 432x288 with 1 Axes>"
      ]
     },
     "metadata": {
      "needs_background": "light"
     },
     "output_type": "display_data"
    }
   ],
   "source": [
    "#check scatter plot between X25 and X1\n",
    "x = loan_df.loc[~loan_df['X25'].isnull(),'X25']\n",
    "y = loan_df.loc[~loan_df['X25'].isnull(),'X1']\n",
    "plt.scatter(x,y);"
   ]
  },
  {
   "cell_type": "code",
   "execution_count": 817,
   "metadata": {},
   "outputs": [
    {
     "data": {
      "text/plain": [
       "26.06"
      ]
     },
     "execution_count": 817,
     "metadata": {},
     "output_type": "execute_result"
    }
   ],
   "source": [
    "np.max(y)"
   ]
  },
  {
   "cell_type": "markdown",
   "metadata": {},
   "source": [
    "**check scatter plot between X25 and X1**"
   ]
  },
  {
   "cell_type": "code",
   "execution_count": 818,
   "metadata": {},
   "outputs": [
    {
     "data": {
      "image/png": "[encoded data removed]",
      "text/plain": [
       "<Figure size 432x288 with 1 Axes>"
      ]
     },
     "metadata": {
      "needs_background": "light"
     },
     "output_type": "display_data"
    }
   ],
   "source": [
    "#check scatter plot between X25 and X1\n",
    "x = loan_df.loc[~loan_df['X25'].isnull(),'X25']\n",
    "y = loan_df.loc[~loan_df['X25'].isnull(),'X22']\n",
    "plt.scatter(x,y);"
   ]
  },
  {
   "cell_type": "code",
   "execution_count": 819,
   "metadata": {},
   "outputs": [
    {
     "data": {
      "image/png": "[encoded data removed]",
      "text/plain": [
       "<Figure size 432x288 with 1 Axes>"
      ]
     },
     "metadata": {
      "needs_background": "light"
     },
     "output_type": "display_data"
    }
   ],
   "source": [
    "#check scatter plot between X25 and X1\n",
    "x = loan_df.loc[loan_df['X25']==0.0,'X25']\n",
    "y = loan_df.loc[loan_df['X25']==0.0,'X22']\n",
    "plt.scatter(x,y);"
   ]
  },
  {
   "cell_type": "code",
   "execution_count": 820,
   "metadata": {},
   "outputs": [
    {
     "data": {
      "text/plain": [
       "0"
      ]
     },
     "execution_count": 820,
     "metadata": {},
     "output_type": "execute_result"
    }
   ],
   "source": [
    "np.sum(loan_df.loc[loan_df['X25'].isnull(),'X22'].isnull())"
   ]
  },
  {
   "cell_type": "code",
   "execution_count": 821,
   "metadata": {},
   "outputs": [
    {
     "data": {
      "image/png": "[encoded data removed]",
      "text/plain": [
       "<Figure size 432x288 with 1 Axes>"
      ]
     },
     "metadata": {
      "needs_background": "light"
     },
     "output_type": "display_data"
    }
   ],
   "source": [
    "#check scatter plot between X25 and X1\n",
    "x = loan_df.loc[:,'X22']\n",
    "y = loan_df.loc[:,'X25']\n",
    "plt.scatter(x,y);"
   ]
  },
  {
   "cell_type": "markdown",
   "metadata": {},
   "source": [
    "**Fill it with Zero for now**"
   ]
  },
  {
   "cell_type": "code",
   "execution_count": 822,
   "metadata": {},
   "outputs": [],
   "source": [
    "loan_df.loc[loan_df['X25'].isnull(),'X25'] = 0.0"
   ]
  },
  {
   "cell_type": "code",
   "execution_count": 823,
   "metadata": {},
   "outputs": [
    {
     "name": "stdout",
     "output_type": "stream",
     "text": [
      "X26:87.2%\n",
      "X16:69.01%\n",
      "X8:15.3%\n",
      "X9:15.3%\n"
     ]
    },
    {
     "data": {
      "text/plain": [
       "{'X8': 15.3, 'X9': 15.3, 'X16': 69.01, 'X26': 87.2}"
      ]
     },
     "execution_count": 823,
     "metadata": {},
     "output_type": "execute_result"
    }
   ],
   "source": [
    "printPercentNullsFromDF(loan_df)"
   ]
  },
  {
   "cell_type": "markdown",
   "metadata": {},
   "source": [
    "### X26 - Number of months since the last public record."
   ]
  },
  {
   "cell_type": "markdown",
   "metadata": {},
   "source": [
    "**Fill this with zero as well like X25**"
   ]
  },
  {
   "cell_type": "code",
   "execution_count": 824,
   "metadata": {},
   "outputs": [
    {
     "data": {
      "text/plain": [
       "295589"
      ]
     },
     "execution_count": 824,
     "metadata": {},
     "output_type": "execute_result"
    }
   ],
   "source": [
    "np.sum(loan_df['X26'].isnull())"
   ]
  },
  {
   "cell_type": "code",
   "execution_count": 825,
   "metadata": {},
   "outputs": [
    {
     "data": {
      "text/plain": [
       "count    43400.000000\n",
       "mean        76.163410\n",
       "std         30.000884\n",
       "min          0.000000\n",
       "25%         54.000000\n",
       "50%         80.000000\n",
       "75%        103.000000\n",
       "max        129.000000\n",
       "Name: X26, dtype: float64"
      ]
     },
     "execution_count": 825,
     "metadata": {},
     "output_type": "execute_result"
    }
   ],
   "source": [
    "loan_df['X26'].describe()"
   ]
  },
  {
   "cell_type": "code",
   "execution_count": 826,
   "metadata": {},
   "outputs": [],
   "source": [
    "loan_df.loc[loan_df['X26'].isnull(),'X26'] = 0.0"
   ]
  },
  {
   "cell_type": "code",
   "execution_count": 827,
   "metadata": {},
   "outputs": [
    {
     "name": "stdout",
     "output_type": "stream",
     "text": [
      "X16:69.01%\n",
      "X8:15.3%\n",
      "X9:15.3%\n"
     ]
    },
    {
     "data": {
      "text/plain": [
       "{'X8': 15.3, 'X9': 15.3, 'X16': 69.01}"
      ]
     },
     "execution_count": 827,
     "metadata": {},
     "output_type": "execute_result"
    }
   ],
   "source": [
    "printPercentNullsFromDF(loan_df)"
   ]
  },
  {
   "cell_type": "markdown",
   "metadata": {},
   "source": [
    "### X16 - Reason for loan provided by borrower"
   ]
  },
  {
   "cell_type": "markdown",
   "metadata": {},
   "source": [
    "**This is a borrower provided reason. Lets drop it for the first model - later i can try NLP based techniques**"
   ]
  },
  {
   "cell_type": "code",
   "execution_count": 828,
   "metadata": {},
   "outputs": [],
   "source": [
    "loan_df = loan_df.drop(['X16'],axis=1)"
   ]
  },
  {
   "cell_type": "code",
   "execution_count": 829,
   "metadata": {},
   "outputs": [
    {
     "name": "stdout",
     "output_type": "stream",
     "text": [
      "X8:15.3%\n",
      "X9:15.3%\n"
     ]
    },
    {
     "data": {
      "text/plain": [
       "{'X8': 15.3, 'X9': 15.3}"
      ]
     },
     "execution_count": 829,
     "metadata": {},
     "output_type": "execute_result"
    }
   ],
   "source": [
    "printPercentNullsFromDF(loan_df)"
   ]
  },
  {
   "cell_type": "markdown",
   "metadata": {},
   "source": [
    "### X8 - Loan grade , X9 - Loan subgrade"
   ]
  },
  {
   "cell_type": "code",
   "execution_count": 830,
   "metadata": {},
   "outputs": [
    {
     "data": {
      "text/plain": [
       "count     287123\n",
       "unique         7\n",
       "top            B\n",
       "freq       86121\n",
       "Name: X8, dtype: object"
      ]
     },
     "execution_count": 830,
     "metadata": {},
     "output_type": "execute_result"
    }
   ],
   "source": [
    "loan_df['X8'].describe()"
   ]
  },
  {
   "cell_type": "code",
   "execution_count": 831,
   "metadata": {},
   "outputs": [
    {
     "data": {
      "text/plain": [
       "B    86121\n",
       "C    76446\n",
       "D    46984\n",
       "A    45525\n",
       "E    21628\n",
       "F     8395\n",
       "G     2024\n",
       "Name: X8, dtype: int64"
      ]
     },
     "execution_count": 831,
     "metadata": {},
     "output_type": "execute_result"
    }
   ],
   "source": [
    "loan_df['X8'].value_counts()"
   ]
  },
  {
   "cell_type": "code",
   "execution_count": 832,
   "metadata": {},
   "outputs": [
    {
     "data": {
      "text/plain": [
       "count     287123\n",
       "unique        35\n",
       "top           B3\n",
       "freq       20352\n",
       "Name: X9, dtype: object"
      ]
     },
     "execution_count": 832,
     "metadata": {},
     "output_type": "execute_result"
    }
   ],
   "source": [
    "loan_df['X9'].describe()"
   ]
  },
  {
   "cell_type": "code",
   "execution_count": 833,
   "metadata": {},
   "outputs": [
    {
     "data": {
      "text/plain": [
       "B3    20352\n",
       "B4    19137\n",
       "B2    16767\n",
       "C1    16342\n",
       "C2    16310\n",
       "B5    15521\n",
       "C3    15425\n",
       "C4    14646\n",
       "B1    14344\n",
       "C5    13723\n",
       "A5    13086\n",
       "A4    11806\n",
       "D1    11720\n",
       "D2    10498\n",
       "D3     9091\n",
       "D4     8573\n",
       "A3     7653\n",
       "D5     7102\n",
       "A2     6496\n",
       "A1     6484\n",
       "E1     5447\n",
       "E2     5246\n",
       "E3     4230\n",
       "E4     3640\n",
       "E5     3065\n",
       "F1     2490\n",
       "F2     1873\n",
       "F3     1712\n",
       "F4     1331\n",
       "F5      989\n",
       "G1      677\n",
       "G2      511\n",
       "G3      378\n",
       "G4      252\n",
       "G5      206\n",
       "Name: X9, dtype: int64"
      ]
     },
     "execution_count": 833,
     "metadata": {},
     "output_type": "execute_result"
    }
   ],
   "source": [
    "loan_df['X9'].value_counts()"
   ]
  },
  {
   "cell_type": "markdown",
   "metadata": {},
   "source": [
    "**Filling it with the mode of the column**"
   ]
  },
  {
   "cell_type": "code",
   "execution_count": 834,
   "metadata": {},
   "outputs": [],
   "source": [
    "loan_df['X8'].fillna(loan_df['X8'].mode(),inplace=True)"
   ]
  },
  {
   "cell_type": "code",
   "execution_count": 835,
   "metadata": {},
   "outputs": [
    {
     "data": {
      "text/plain": [
       "B    86121\n",
       "C    76446\n",
       "D    46984\n",
       "A    45525\n",
       "E    21628\n",
       "F     8395\n",
       "G     2024\n",
       "Name: X8, dtype: int64"
      ]
     },
     "execution_count": 835,
     "metadata": {},
     "output_type": "execute_result"
    }
   ],
   "source": [
    "loan_df['X8'].value_counts()"
   ]
  },
  {
   "cell_type": "code",
   "execution_count": 836,
   "metadata": {},
   "outputs": [],
   "source": [
    "loan_df['X9'].fillna(loan_df['X9'].mode(),inplace=True)"
   ]
  },
  {
   "cell_type": "code",
   "execution_count": 837,
   "metadata": {},
   "outputs": [
    {
     "data": {
      "text/plain": [
       "B3    20352\n",
       "B4    19137\n",
       "B2    16767\n",
       "C1    16342\n",
       "C2    16310\n",
       "B5    15521\n",
       "C3    15425\n",
       "C4    14646\n",
       "B1    14344\n",
       "C5    13723\n",
       "A5    13086\n",
       "A4    11806\n",
       "D1    11720\n",
       "D2    10498\n",
       "D3     9091\n",
       "D4     8573\n",
       "A3     7653\n",
       "D5     7102\n",
       "A2     6496\n",
       "A1     6484\n",
       "E1     5447\n",
       "E2     5246\n",
       "E3     4230\n",
       "E4     3640\n",
       "E5     3065\n",
       "F1     2490\n",
       "F2     1873\n",
       "F3     1712\n",
       "F4     1331\n",
       "F5      989\n",
       "G1      677\n",
       "G2      511\n",
       "G3      378\n",
       "G4      252\n",
       "G5      206\n",
       "Name: X9, dtype: int64"
      ]
     },
     "execution_count": 837,
     "metadata": {},
     "output_type": "execute_result"
    }
   ],
   "source": [
    "loan_df['X9'].value_counts()"
   ]
  },
  {
   "cell_type": "code",
   "execution_count": 838,
   "metadata": {},
   "outputs": [
    {
     "name": "stdout",
     "output_type": "stream",
     "text": [
      "X8:15.3%\n",
      "X9:15.3%\n"
     ]
    },
    {
     "data": {
      "text/plain": [
       "{'X8': 15.3, 'X9': 15.3}"
      ]
     },
     "execution_count": 838,
     "metadata": {},
     "output_type": "execute_result"
    }
   ],
   "source": [
    "printPercentNullsFromDF(loan_df)"
   ]
  },
  {
   "cell_type": "markdown",
   "metadata": {},
   "source": [
    "## All above transformations have now resolved missing values"
   ]
  },
  {
   "cell_type": "markdown",
   "metadata": {},
   "source": [
    "### Final shape of the loan dataframe with all nulls removed"
   ]
  },
  {
   "cell_type": "code",
   "execution_count": 839,
   "metadata": {},
   "outputs": [
    {
     "data": {
      "text/plain": [
       "(338989, 29)"
      ]
     },
     "execution_count": 839,
     "metadata": {},
     "output_type": "execute_result"
    }
   ],
   "source": [
    "loan_df.shape"
   ]
  },
  {
   "cell_type": "code",
   "execution_count": 840,
   "metadata": {},
   "outputs": [
    {
     "name": "stdout",
     "output_type": "stream",
     "text": [
      "<class 'pandas.core.frame.DataFrame'>\n",
      "Int64Index: 338989 entries, 0 to 399999\n",
      "Data columns (total 29 columns):\n",
      "X1     338989 non-null float64\n",
      "X2     338989 non-null float64\n",
      "X3     338989 non-null float64\n",
      "X4     338989 non-null object\n",
      "X5     338989 non-null object\n",
      "X6     338989 non-null object\n",
      "X7     338989 non-null object\n",
      "X8     287123 non-null object\n",
      "X9     287123 non-null object\n",
      "X11    338989 non-null int64\n",
      "X12    338989 non-null object\n",
      "X13    338989 non-null float64\n",
      "X14    338989 non-null object\n",
      "X15    338989 non-null object\n",
      "X17    338989 non-null object\n",
      "X19    338989 non-null object\n",
      "X20    338989 non-null object\n",
      "X21    338989 non-null float64\n",
      "X22    338989 non-null float64\n",
      "X23    338989 non-null object\n",
      "X24    338989 non-null float64\n",
      "X25    338989 non-null float64\n",
      "X26    338989 non-null float64\n",
      "X27    338989 non-null float64\n",
      "X28    338989 non-null float64\n",
      "X29    338989 non-null float64\n",
      "X30    338989 non-null object\n",
      "X31    338989 non-null float64\n",
      "X32    338989 non-null object\n",
      "dtypes: float64(13), int64(1), object(15)\n",
      "memory usage: 87.6+ MB\n"
     ]
    }
   ],
   "source": [
    "loan_df.info()"
   ]
  },
  {
   "cell_type": "markdown",
   "metadata": {},
   "source": [
    "## Handling Dates - X15 - Date loan was issued , X23 - Date the borrower's earliest reported credit line was opened"
   ]
  },
  {
   "cell_type": "markdown",
   "metadata": {},
   "source": [
    "**Convert to Date time format**"
   ]
  },
  {
   "cell_type": "code",
   "execution_count": 841,
   "metadata": {},
   "outputs": [],
   "source": [
    "field = 'X15'\n",
    "#loan_df[field].value_counts()\n",
    "loan_df[field] = pd.to_datetime(loan_df[field], format='%Y-%m-%d')\n",
    "a = loan_df[field]"
   ]
  },
  {
   "cell_type": "code",
   "execution_count": 842,
   "metadata": {},
   "outputs": [],
   "source": [
    "field = 'X23'\n",
    "b = pd.to_datetime(loan_df[field], format='%Y-%m-%d')"
   ]
  },
  {
   "cell_type": "markdown",
   "metadata": {},
   "source": [
    "### Convert X23 to number of days from first opened credit line"
   ]
  },
  {
   "cell_type": "code",
   "execution_count": 843,
   "metadata": {},
   "outputs": [],
   "source": [
    "field = 'X23'\n",
    "loan_df[field] = (b-a).dt.days"
   ]
  },
  {
   "cell_type": "markdown",
   "metadata": {},
   "source": [
    "### Create two new columns Issue Month and Issue Year from X15"
   ]
  },
  {
   "cell_type": "code",
   "execution_count": 844,
   "metadata": {},
   "outputs": [],
   "source": [
    "#Feature Engineering\n",
    "loan_df['Issue_Month'] = loan_df['X15'].dt.month\n",
    "loan_df['Issue_Year'] = loan_df['X15'].dt.year"
   ]
  },
  {
   "cell_type": "markdown",
   "metadata": {},
   "source": [
    "### Drop X15"
   ]
  },
  {
   "cell_type": "code",
   "execution_count": 845,
   "metadata": {},
   "outputs": [],
   "source": [
    "#Drop X15 field\n",
    "loan_df = loan_df.drop(['X15'],axis=1)"
   ]
  },
  {
   "cell_type": "markdown",
   "metadata": {},
   "source": [
    "## Feature Engineering and conversions"
   ]
  },
  {
   "cell_type": "markdown",
   "metadata": {},
   "source": [
    "### X2, X3 are id fields - make them integer - will consider dropping them later"
   ]
  },
  {
   "cell_type": "code",
   "execution_count": 846,
   "metadata": {},
   "outputs": [],
   "source": [
    "loan_df['X2'] = loan_df['X2'].astype('int')"
   ]
  },
  {
   "cell_type": "code",
   "execution_count": 847,
   "metadata": {},
   "outputs": [],
   "source": [
    "loan_df['X3'] = loan_df['X3'].astype('int')"
   ]
  },
  {
   "cell_type": "markdown",
   "metadata": {},
   "source": [
    "### X4,X5,X6 - remove dollar sign from the data"
   ]
  },
  {
   "cell_type": "code",
   "execution_count": 848,
   "metadata": {},
   "outputs": [
    {
     "data": {
      "text/plain": [
       "0    25000.0\n",
       "1     7000.0\n",
       "2    25000.0\n",
       "3     1200.0\n",
       "4    10800.0\n",
       "Name: X4, dtype: float64"
      ]
     },
     "execution_count": 848,
     "metadata": {},
     "output_type": "execute_result"
    }
   ],
   "source": [
    "field = 'X4'\n",
    "loan_df[field] = loan_df[field].str.replace('$','')\n",
    "loan_df[field] = loan_df[field].str.replace(',','')\n",
    "loan_df[field]  = loan_df[field].astype('float64')\n",
    "loan_df[field].head() "
   ]
  },
  {
   "cell_type": "code",
   "execution_count": 849,
   "metadata": {},
   "outputs": [
    {
     "data": {
      "text/plain": [
       "0    25000.0\n",
       "1     7000.0\n",
       "2    25000.0\n",
       "3     1200.0\n",
       "4    10800.0\n",
       "Name: X5, dtype: float64"
      ]
     },
     "execution_count": 849,
     "metadata": {},
     "output_type": "execute_result"
    }
   ],
   "source": [
    "field = 'X5'\n",
    "loan_df[field] = loan_df[field].str.replace('$','')\n",
    "loan_df[field] = loan_df[field].str.replace(',','')\n",
    "loan_df[field]  = loan_df[field].astype('float64')\n",
    "loan_df[field].head() "
   ]
  },
  {
   "cell_type": "code",
   "execution_count": 850,
   "metadata": {},
   "outputs": [
    {
     "data": {
      "text/plain": [
       "0    19080.0\n",
       "1      673.0\n",
       "2    24725.0\n",
       "3     1200.0\n",
       "4    10692.0\n",
       "Name: X6, dtype: float64"
      ]
     },
     "execution_count": 850,
     "metadata": {},
     "output_type": "execute_result"
    }
   ],
   "source": [
    "field = 'X6'\n",
    "loan_df[field] = loan_df[field].str.replace('$','')\n",
    "loan_df[field] = loan_df[field].str.replace(',','')\n",
    "loan_df[field]  = loan_df[field].astype('float64')\n",
    "loan_df[field].head() "
   ]
  },
  {
   "cell_type": "markdown",
   "metadata": {},
   "source": [
    "### X7 - Number of payments (36 or 60)"
   ]
  },
  {
   "cell_type": "markdown",
   "metadata": {},
   "source": [
    "**Remove months string from the column and make it int**"
   ]
  },
  {
   "cell_type": "code",
   "execution_count": 851,
   "metadata": {},
   "outputs": [
    {
     "data": {
      "text/plain": [
       "0     36 months\n",
       "1     36 months\n",
       "2     36 months\n",
       "3     36 months\n",
       "4     36 months\n",
       "Name: X7, dtype: object"
      ]
     },
     "execution_count": 851,
     "metadata": {},
     "output_type": "execute_result"
    }
   ],
   "source": [
    "field ='X7'\n",
    "loan_df[field].head()"
   ]
  },
  {
   "cell_type": "code",
   "execution_count": 852,
   "metadata": {},
   "outputs": [
    {
     "data": {
      "text/plain": [
       "array([' 36 months', ' 60 months'], dtype=object)"
      ]
     },
     "execution_count": 852,
     "metadata": {},
     "output_type": "execute_result"
    }
   ],
   "source": [
    "loan_df[field].unique()"
   ]
  },
  {
   "cell_type": "code",
   "execution_count": 853,
   "metadata": {},
   "outputs": [
    {
     "data": {
      "text/plain": [
       "0    36\n",
       "1    36\n",
       "2    36\n",
       "3    36\n",
       "4    36\n",
       "Name: X7, dtype: int64"
      ]
     },
     "execution_count": 853,
     "metadata": {},
     "output_type": "execute_result"
    }
   ],
   "source": [
    "field = 'X7'\n",
    "loan_df[field] = loan_df[field].str.replace(' months','')\n",
    "loan_df[field]  = loan_df[field].astype('int')\n",
    "loan_df[field].head() "
   ]
  },
  {
   "cell_type": "code",
   "execution_count": 854,
   "metadata": {},
   "outputs": [
    {
     "data": {
      "text/plain": [
       "array([36, 60])"
      ]
     },
     "execution_count": 854,
     "metadata": {},
     "output_type": "execute_result"
    }
   ],
   "source": [
    "loan_df[field].unique()"
   ]
  },
  {
   "cell_type": "markdown",
   "metadata": {},
   "source": [
    "### X25 - Create feature Has_Delinquency with values as 0 and 1"
   ]
  },
  {
   "cell_type": "code",
   "execution_count": 855,
   "metadata": {},
   "outputs": [
    {
     "data": {
      "text/plain": [
       "0    186160\n",
       "1    152829\n",
       "Name: Has_Delinq, dtype: int64"
      ]
     },
     "execution_count": 855,
     "metadata": {},
     "output_type": "execute_result"
    }
   ],
   "source": [
    "loan_df['Has_Delinq'] = loan_df['X25'].apply(lambda x: 0 if x==0 else 1)\n",
    "loan_df['Has_Delinq'].value_counts()"
   ]
  },
  {
   "cell_type": "markdown",
   "metadata": {},
   "source": [
    "\n",
    "### X26 - Create feature Has_Public_Record with values 0 and 1"
   ]
  },
  {
   "cell_type": "code",
   "execution_count": 856,
   "metadata": {},
   "outputs": [
    {
     "data": {
      "text/plain": [
       "0    296230\n",
       "1     42759\n",
       "Name: Has_PublicRecord, dtype: int64"
      ]
     },
     "execution_count": 856,
     "metadata": {},
     "output_type": "execute_result"
    }
   ],
   "source": [
    "loan_df['Has_PublicRecord'] = loan_df['X26'].apply(lambda x: 0 if x==0 else 1)\n",
    "loan_df['Has_PublicRecord'].value_counts()"
   ]
  },
  {
   "cell_type": "markdown",
   "metadata": {},
   "source": [
    "### X30 - Removing %age sign from the data"
   ]
  },
  {
   "cell_type": "code",
   "execution_count": 857,
   "metadata": {},
   "outputs": [
    {
     "data": {
      "text/plain": [
       "0    52.1\n",
       "1    76.7\n",
       "2    66.3\n",
       "3    40.4\n",
       "4    25.6\n",
       "Name: X30, dtype: float64"
      ]
     },
     "execution_count": 857,
     "metadata": {},
     "output_type": "execute_result"
    }
   ],
   "source": [
    "field = 'X30'\n",
    "loan_df[field] = loan_df[field].str.replace('%','')\n",
    "loan_df[field]  = loan_df[field].astype('float64')\n",
    "loan_df[field].head() "
   ]
  },
  {
   "cell_type": "markdown",
   "metadata": {},
   "source": [
    "### X32 - values of W or F - map them to 0 or 1"
   ]
  },
  {
   "cell_type": "code",
   "execution_count": 858,
   "metadata": {},
   "outputs": [
    {
     "data": {
      "text/plain": [
       "f    232600\n",
       "w    106389\n",
       "Name: X32, dtype: int64"
      ]
     },
     "execution_count": 858,
     "metadata": {},
     "output_type": "execute_result"
    }
   ],
   "source": [
    "field = 'X32'\n",
    "loan_df[field].value_counts()"
   ]
  },
  {
   "cell_type": "code",
   "execution_count": 859,
   "metadata": {},
   "outputs": [],
   "source": [
    "field = 'X32'\n",
    "loan_df[field] = loan_df[field].map({'f':0,'w':1})"
   ]
  },
  {
   "cell_type": "code",
   "execution_count": 883,
   "metadata": {},
   "outputs": [
    {
     "data": {
      "text/plain": [
       "0    232600\n",
       "1    106389\n",
       "Name: X32, dtype: int64"
      ]
     },
     "execution_count": 883,
     "metadata": {},
     "output_type": "execute_result"
    }
   ],
   "source": [
    "loan_df['X32'].value_counts()"
   ]
  },
  {
   "cell_type": "code",
   "execution_count": 861,
   "metadata": {},
   "outputs": [],
   "source": [
    "field = 'X32'\n",
    "loan_df[field] = pd.Categorical(loan_df[field])"
   ]
  },
  {
   "cell_type": "code",
   "execution_count": 884,
   "metadata": {},
   "outputs": [
    {
     "data": {
      "text/plain": [
       "0    232600\n",
       "1    106389\n",
       "Name: X32, dtype: int64"
      ]
     },
     "execution_count": 884,
     "metadata": {},
     "output_type": "execute_result"
    }
   ],
   "source": [
    "loan_df['X32'].value_counts()"
   ]
  },
  {
   "cell_type": "code",
   "execution_count": 862,
   "metadata": {},
   "outputs": [
    {
     "name": "stdout",
     "output_type": "stream",
     "text": [
      "<class 'pandas.core.frame.DataFrame'>\n",
      "Int64Index: 338989 entries, 0 to 399999\n",
      "Data columns (total 32 columns):\n",
      "X1                  338989 non-null float64\n",
      "X2                  338989 non-null int64\n",
      "X3                  338989 non-null int64\n",
      "X4                  338989 non-null float64\n",
      "X5                  338989 non-null float64\n",
      "X6                  338989 non-null float64\n",
      "X7                  338989 non-null int64\n",
      "X8                  287123 non-null object\n",
      "X9                  287123 non-null object\n",
      "X11                 338989 non-null int64\n",
      "X12                 338989 non-null object\n",
      "X13                 338989 non-null float64\n",
      "X14                 338989 non-null object\n",
      "X17                 338989 non-null object\n",
      "X19                 338989 non-null object\n",
      "X20                 338989 non-null object\n",
      "X21                 338989 non-null float64\n",
      "X22                 338989 non-null float64\n",
      "X23                 338989 non-null int64\n",
      "X24                 338989 non-null float64\n",
      "X25                 338989 non-null float64\n",
      "X26                 338989 non-null float64\n",
      "X27                 338989 non-null float64\n",
      "X28                 338989 non-null float64\n",
      "X29                 338989 non-null float64\n",
      "X30                 338989 non-null float64\n",
      "X31                 338989 non-null float64\n",
      "X32                 338989 non-null category\n",
      "Issue_Month         338989 non-null int64\n",
      "Issue_Year          338989 non-null int64\n",
      "Has_Delinq          338989 non-null int64\n",
      "Has_PublicRecord    338989 non-null int64\n",
      "dtypes: category(1), float64(15), int64(9), object(7)\n",
      "memory usage: 93.1+ MB\n"
     ]
    }
   ],
   "source": [
    "loan_df.info()"
   ]
  },
  {
   "cell_type": "markdown",
   "metadata": {},
   "source": [
    "### X14 - \"Income verified, not verified, or income source was verified\" - check unique values and encode"
   ]
  },
  {
   "cell_type": "code",
   "execution_count": 863,
   "metadata": {},
   "outputs": [
    {
     "data": {
      "text/plain": [
       "array(['VERIFIED - income', 'not verified', 'VERIFIED - income source'],\n",
       "      dtype=object)"
      ]
     },
     "execution_count": 863,
     "metadata": {},
     "output_type": "execute_result"
    }
   ],
   "source": [
    "field = 'X14'\n",
    "loan_df[field].unique()"
   ]
  },
  {
   "cell_type": "code",
   "execution_count": 864,
   "metadata": {},
   "outputs": [],
   "source": [
    "#map to integers \n",
    "field = 'X14'\n",
    "loan_df[field] = loan_df[field].map({'not verified':0,'VERIFIED - income':1,'VERIFIED - income source':2})"
   ]
  },
  {
   "cell_type": "code",
   "execution_count": 865,
   "metadata": {},
   "outputs": [
    {
     "data": {
      "text/plain": [
       "array([1, 0, 2])"
      ]
     },
     "execution_count": 865,
     "metadata": {},
     "output_type": "execute_result"
    }
   ],
   "source": [
    "loan_df[field].unique()"
   ]
  },
  {
   "cell_type": "markdown",
   "metadata": {},
   "source": [
    "### X17 - \"Loan category, as provided by borrower\" - check unique values "
   ]
  },
  {
   "cell_type": "code",
   "execution_count": 866,
   "metadata": {},
   "outputs": [
    {
     "data": {
      "text/plain": [
       "array(['debt_consolidation', 'credit_card', 'car', 'home_improvement',\n",
       "       'small_business', 'major_purchase', 'other', 'house', 'vacation',\n",
       "       'educational', 'moving', 'wedding', 'medical', 'renewable_energy'],\n",
       "      dtype=object)"
      ]
     },
     "execution_count": 866,
     "metadata": {},
     "output_type": "execute_result"
    }
   ],
   "source": [
    "field = 'X17'\n",
    "loan_df[field].unique()"
   ]
  },
  {
   "cell_type": "code",
   "execution_count": 867,
   "metadata": {},
   "outputs": [
    {
     "data": {
      "text/plain": [
       "debt_consolidation    198226\n",
       "credit_card            75680\n",
       "home_improvement       19625\n",
       "other                  17154\n",
       "major_purchase          7312\n",
       "small_business          5359\n",
       "car                     4115\n",
       "medical                 3329\n",
       "moving                  2138\n",
       "wedding                 1934\n",
       "vacation                1848\n",
       "house                   1723\n",
       "educational              279\n",
       "renewable_energy         267\n",
       "Name: X17, dtype: int64"
      ]
     },
     "execution_count": 867,
     "metadata": {},
     "output_type": "execute_result"
    }
   ],
   "source": [
    "field = 'X17'\n",
    "loan_df[field].value_counts()"
   ]
  },
  {
   "cell_type": "markdown",
   "metadata": {},
   "source": [
    "Lets make these variables categorical"
   ]
  },
  {
   "cell_type": "code",
   "execution_count": 868,
   "metadata": {},
   "outputs": [],
   "source": [
    "field='X17'\n",
    "loan_df[field] = pd.Categorical(loan_df[field])"
   ]
  },
  {
   "cell_type": "code",
   "execution_count": 869,
   "metadata": {},
   "outputs": [
    {
     "data": {
      "text/plain": [
       "count                 338989\n",
       "unique                    14\n",
       "top       debt_consolidation\n",
       "freq                  198226\n",
       "Name: X17, dtype: object"
      ]
     },
     "execution_count": 869,
     "metadata": {},
     "output_type": "execute_result"
    }
   ],
   "source": [
    "field='X17'\n",
    "loan_df[field].describe()"
   ]
  },
  {
   "cell_type": "markdown",
   "metadata": {},
   "source": [
    "### X8, X9 - make them categorical"
   ]
  },
  {
   "cell_type": "code",
   "execution_count": 870,
   "metadata": {},
   "outputs": [
    {
     "data": {
      "text/plain": [
       "B    86121\n",
       "C    76446\n",
       "D    46984\n",
       "A    45525\n",
       "E    21628\n",
       "F     8395\n",
       "G     2024\n",
       "Name: X8, dtype: int64"
      ]
     },
     "execution_count": 870,
     "metadata": {},
     "output_type": "execute_result"
    }
   ],
   "source": [
    "field = 'X8'\n",
    "loan_df[field] = pd.Categorical(loan_df[field])\n",
    "loan_df[field].value_counts()"
   ]
  },
  {
   "cell_type": "code",
   "execution_count": 871,
   "metadata": {},
   "outputs": [
    {
     "data": {
      "text/plain": [
       "B3    20352\n",
       "B4    19137\n",
       "B2    16767\n",
       "C1    16342\n",
       "C2    16310\n",
       "B5    15521\n",
       "C3    15425\n",
       "C4    14646\n",
       "B1    14344\n",
       "C5    13723\n",
       "A5    13086\n",
       "A4    11806\n",
       "D1    11720\n",
       "D2    10498\n",
       "D3     9091\n",
       "D4     8573\n",
       "A3     7653\n",
       "D5     7102\n",
       "A2     6496\n",
       "A1     6484\n",
       "E1     5447\n",
       "E2     5246\n",
       "E3     4230\n",
       "E4     3640\n",
       "E5     3065\n",
       "F1     2490\n",
       "F2     1873\n",
       "F3     1712\n",
       "F4     1331\n",
       "F5      989\n",
       "G1      677\n",
       "G2      511\n",
       "G3      378\n",
       "G4      252\n",
       "G5      206\n",
       "Name: X9, dtype: int64"
      ]
     },
     "execution_count": 871,
     "metadata": {},
     "output_type": "execute_result"
    }
   ],
   "source": [
    "field = 'X9'\n",
    "loan_df[field] = pd.Categorical(loan_df[field])\n",
    "loan_df[field].value_counts()"
   ]
  },
  {
   "cell_type": "markdown",
   "metadata": {},
   "source": [
    "### X12 - Home ownership - make it categorical"
   ]
  },
  {
   "cell_type": "code",
   "execution_count": 872,
   "metadata": {},
   "outputs": [
    {
     "data": {
      "text/plain": [
       "MORTGAGE    171938\n",
       "RENT        141937\n",
       "OWN          24976\n",
       "OTHER          107\n",
       "NONE            30\n",
       "ANY              1\n",
       "Name: X12, dtype: int64"
      ]
     },
     "execution_count": 872,
     "metadata": {},
     "output_type": "execute_result"
    }
   ],
   "source": [
    "field = 'X12'\n",
    "loan_df[field].value_counts()"
   ]
  },
  {
   "cell_type": "code",
   "execution_count": 873,
   "metadata": {},
   "outputs": [
    {
     "data": {
      "text/plain": [
       "MORTGAGE    171938\n",
       "RENT        141937\n",
       "OWN          24976\n",
       "OTHER          107\n",
       "NONE            30\n",
       "ANY              1\n",
       "Name: X12, dtype: int64"
      ]
     },
     "execution_count": 873,
     "metadata": {},
     "output_type": "execute_result"
    }
   ],
   "source": [
    "field = 'X12'\n",
    "loan_df[field] = pd.Categorical(loan_df[field])\n",
    "loan_df[field].value_counts()"
   ]
  },
  {
   "cell_type": "markdown",
   "metadata": {},
   "source": [
    "### X19 - zip code - drop for now"
   ]
  },
  {
   "cell_type": "code",
   "execution_count": 874,
   "metadata": {},
   "outputs": [],
   "source": [
    "field = 'X19'\n",
    "loan_df = loan_df.drop([field],axis=1)"
   ]
  },
  {
   "cell_type": "markdown",
   "metadata": {},
   "source": [
    "### X20 - state - make it categorical"
   ]
  },
  {
   "cell_type": "code",
   "execution_count": 875,
   "metadata": {},
   "outputs": [
    {
     "data": {
      "text/plain": [
       "CA    52835\n",
       "NY    29226\n",
       "TX    26493\n",
       "FL    22756\n",
       "IL    13483\n",
       "NJ    13188\n",
       "PA    11877\n",
       "OH    11040\n",
       "GA    10851\n",
       "VA    10338\n",
       "NC     9303\n",
       "MI     8350\n",
       "MA     8038\n",
       "MD     8016\n",
       "AZ     7747\n",
       "WA     7706\n",
       "CO     7119\n",
       "MN     5865\n",
       "MO     5398\n",
       "CT     5243\n",
       "NV     4753\n",
       "IN     4608\n",
       "OR     4411\n",
       "WI     4245\n",
       "TN     4215\n",
       "AL     4188\n",
       "LA     4017\n",
       "SC     3979\n",
       "KY     3173\n",
       "KS     3096\n",
       "OK     3014\n",
       "AR     2532\n",
       "UT     2531\n",
       "NM     1848\n",
       "HI     1798\n",
       "WV     1738\n",
       "NH     1648\n",
       "RI     1486\n",
       "DC     1080\n",
       "MT      995\n",
       "AK      947\n",
       "DE      896\n",
       "WY      853\n",
       "SD      730\n",
       "MS      707\n",
       "VT      604\n",
       "ID        8\n",
       "IA        7\n",
       "NE        6\n",
       "ME        4\n",
       "Name: X20, dtype: int64"
      ]
     },
     "execution_count": 875,
     "metadata": {},
     "output_type": "execute_result"
    }
   ],
   "source": [
    "field = 'X20'\n",
    "#loan_df[field].value_counts()\n",
    "loan_df[field] = pd.Categorical(loan_df[field])\n",
    "loan_df[field].value_counts()"
   ]
  },
  {
   "cell_type": "markdown",
   "metadata": {},
   "source": [
    "# Create a function to combine all above data preprocessing steps"
   ]
  },
  {
   "cell_type": "code",
   "execution_count": 876,
   "metadata": {
    "code_folding": []
   },
   "outputs": [],
   "source": [
    "def preprocessLoanData(df):\n",
    "    #Drop NaNs response and all NaNs rows\n",
    "    df = df.dropna(subset=['X2','X1']) \n",
    "    \n",
    "    #X1 \n",
    "    df['X1'] = df['X1'].str.replace('%','')\n",
    "    df['X1']  = df['X1'].astype('float64')\n",
    "    \n",
    "    #X2\n",
    "    df['X2'] = df['X2'].astype('int')\n",
    "    \n",
    "    #X3\n",
    "    df['X3'] = df['X3'].astype('int')\n",
    "    \n",
    "    #X4,X5,X6 - remove dollar sign\n",
    "    for field in ['X4','X5','X6']:\n",
    "        df[field] = df[field].str.replace('$','')\n",
    "        df[field] = df[field].str.replace(',','')\n",
    "        df[field]  = df[field].astype('float64')\n",
    "\n",
    "        \n",
    "    #X7\n",
    "    field = 'X7'\n",
    "    df[field] = df[field].str.replace(' months','')\n",
    "    df[field]  = df[field].astype('int')\n",
    "\n",
    "    #X8\n",
    "    #df['X8'] = df['X8'].ffill()\n",
    "    df['X8'].fillna(df['X8'].mode(),inplace=True)\n",
    "    \n",
    "    #X9\n",
    "    #df.loc[df['X9'].isnull(),'X9'] = df['X8']+'1'\n",
    "    df['X9'].fillna(df['X9'].mode(),inplace=True)\n",
    "    \n",
    "    #X10\n",
    "    df = df.drop(['X10'],axis=1)\n",
    "    \n",
    "    #X11\n",
    "    df.loc[df['X11'] == '< 1 year','X11'] = '0' \n",
    "    df['X11'] = df['X11'].apply(lambda x: x.split()[0] if type(x) == str else x )\n",
    "    df.loc[df['X11'] == '10+','X11'] = '10'\n",
    "    df['X11'] = df['X11'].fillna('10')\n",
    "    df['X11'] = df['X11'].astype('int')\n",
    "    \n",
    "    \n",
    "    #X12\n",
    "    nullIndex = df.loc[df['X12'].isnull()].index.tolist()\n",
    "    size = len(nullIndex)//2\n",
    "    fillRentIndex = np.random.choice(nullIndex,size,replace=False)\n",
    "    df.loc[fillRentIndex,'X12'] = 'RENT'\n",
    "    nullIndex = df.loc[df['X12'].isnull()].index.tolist()\n",
    "    size = len(nullIndex)\n",
    "    fillMortIndex = np.random.choice(nullIndex,size,replace=False)\n",
    "    df.loc[fillMortIndex,'X12'] ='MORTGAGE'\n",
    "    \n",
    "    #X13\n",
    "    df.loc[df['X13'].isnull(),'X13'] = df['X13'].median()\n",
    "    \n",
    "    #X14 map to integers \n",
    "    field = 'X14'\n",
    "    df[field] = df[field].map({'not verified':0,'VERIFIED - income':1,'VERIFIED - income source':2})    \n",
    "    \n",
    "    #X15, #X23  - Date Fields\n",
    "    field = 'X15'\n",
    "    #df[field].value_counts()\n",
    "    df[field] = pd.to_datetime(df[field], format='%Y-%m-%d')\n",
    "    a = df[field]\n",
    "    \n",
    "    field = 'X23'\n",
    "    b = pd.to_datetime(df[field], format='%Y-%m-%d')\n",
    "    df[field] = (b-a).dt.days\n",
    "    \n",
    "    #Feature Engineering\n",
    "    df['Issue_Month'] = df['X15'].dt.month\n",
    "    df['Issue_Year'] = df['X15'].dt.year\n",
    "    \n",
    "    #Drop X15 field\n",
    "    df = df.drop(['X15'],axis=1)\n",
    "    \n",
    "    #X16\n",
    "    df = df.drop(['X16'],axis=1)\n",
    "    \n",
    "    #X17\n",
    "    field='X17'\n",
    "    df[field] = pd.Categorical(df[field])\n",
    "    \n",
    "    #X18\n",
    "    df = df.drop(['X18'],axis=1)\n",
    "    \n",
    "    #X19\n",
    "    field = 'X19'\n",
    "    df = df.drop([field],axis=1)\n",
    "    \n",
    "    #X20\n",
    "    field = 'X20'\n",
    "    #df[field].value_counts()\n",
    "    df[field] = pd.Categorical(df[field])\n",
    "    \n",
    "    #X25 Try with zero first\n",
    "    df.loc[df['X25'].isnull(),'X25'] = 0.0\n",
    "    df['Has_Delinq'] = df['X25'].apply(lambda x: 0 if x==0 else 1)\n",
    "    \n",
    "    #X26 #Try with zero first\n",
    "    df.loc[df['X26'].isnull(),'X26'] = 0.0\n",
    "    df['Has_PublicRecord'] = df['X26'].apply(lambda x: 0 if x==0 else 1)\n",
    "    \n",
    "    #X30\n",
    "    field = 'X30'\n",
    "    df.loc[df[field].isnull(),field] = '0%'\n",
    "    df[field] = df[field].str.replace('%','')\n",
    "    df[field]  = df[field].astype('float64')\n",
    "    \n",
    "    \n",
    "    #X32\n",
    "    field = 'X32'\n",
    "    df[field] = df[field].map({'f':0,'w':1})\n",
    "    df[field] = pd.Categorical(df[field])\n",
    "    \n",
    "    #Make Categoricaldf['X8'] = df['X8'].cat.codes\n",
    "    field = 'X8'\n",
    "    df[field] = pd.Categorical(df[field])\n",
    "    field = 'X9'\n",
    "    df[field] = pd.Categorical(df[field])\n",
    "    field = 'X12'\n",
    "    df[field] = pd.Categorical(df[field])\n",
    "    field='X17'\n",
    "    df[field] = pd.Categorical(df[field])\n",
    "    df['X8'] = df['X8'].cat.codes\n",
    "    df['X9'] = df['X9'].cat.codes\n",
    "    df['X12'] = df['X12'].cat.codes\n",
    "    df['X17'] = df['X17'].cat.codes\n",
    "    df['X20'] = df['X20'].cat.codes\n",
    "    df['X32'] = df['X32'].cat.codes\n",
    "    \n",
    "    return df"
   ]
  },
  {
   "cell_type": "markdown",
   "metadata": {},
   "source": [
    "## Read the training file again and run it through the above function"
   ]
  },
  {
   "cell_type": "code",
   "execution_count": 877,
   "metadata": {},
   "outputs": [
    {
     "data": {
      "text/html": [
       "<div>\n",
       "<style scoped>\n",
       "    .dataframe tbody tr th:only-of-type {\n",
       "        vertical-align: middle;\n",
       "    }\n",
       "\n",
       "    .dataframe tbody tr th {\n",
       "        vertical-align: top;\n",
       "    }\n",
       "\n",
       "    .dataframe thead th {\n",
       "        text-align: right;\n",
       "    }\n",
       "</style>\n",
       "<table border=\"1\" class=\"dataframe\">\n",
       "  <thead>\n",
       "    <tr style=\"text-align: right;\">\n",
       "      <th></th>\n",
       "      <th>X1</th>\n",
       "      <th>X2</th>\n",
       "      <th>X3</th>\n",
       "      <th>X4</th>\n",
       "      <th>X5</th>\n",
       "      <th>X6</th>\n",
       "      <th>X7</th>\n",
       "      <th>X8</th>\n",
       "      <th>X9</th>\n",
       "      <th>X11</th>\n",
       "      <th>X12</th>\n",
       "      <th>X13</th>\n",
       "      <th>X14</th>\n",
       "      <th>X17</th>\n",
       "      <th>X20</th>\n",
       "      <th>X21</th>\n",
       "      <th>X22</th>\n",
       "      <th>X23</th>\n",
       "      <th>X24</th>\n",
       "      <th>X25</th>\n",
       "      <th>X26</th>\n",
       "      <th>X27</th>\n",
       "      <th>X28</th>\n",
       "      <th>X29</th>\n",
       "      <th>X30</th>\n",
       "      <th>X31</th>\n",
       "      <th>X32</th>\n",
       "      <th>Issue_Month</th>\n",
       "      <th>Issue_Year</th>\n",
       "      <th>Has_Delinq</th>\n",
       "      <th>Has_PublicRecord</th>\n",
       "    </tr>\n",
       "  </thead>\n",
       "  <tbody>\n",
       "    <tr>\n",
       "      <th>0</th>\n",
       "      <td>11.89</td>\n",
       "      <td>54734</td>\n",
       "      <td>80364</td>\n",
       "      <td>25000.0</td>\n",
       "      <td>25000.0</td>\n",
       "      <td>19080.0</td>\n",
       "      <td>36</td>\n",
       "      <td>1</td>\n",
       "      <td>8</td>\n",
       "      <td>0</td>\n",
       "      <td>5</td>\n",
       "      <td>85000.0</td>\n",
       "      <td>1</td>\n",
       "      <td>2</td>\n",
       "      <td>4</td>\n",
       "      <td>19.48</td>\n",
       "      <td>0.0</td>\n",
       "      <td>-9320</td>\n",
       "      <td>0.0</td>\n",
       "      <td>0.0</td>\n",
       "      <td>0.0</td>\n",
       "      <td>10.0</td>\n",
       "      <td>0.0</td>\n",
       "      <td>28854.0</td>\n",
       "      <td>52.1</td>\n",
       "      <td>42.0</td>\n",
       "      <td>0</td>\n",
       "      <td>8</td>\n",
       "      <td>2019</td>\n",
       "      <td>0</td>\n",
       "      <td>0</td>\n",
       "    </tr>\n",
       "    <tr>\n",
       "      <th>1</th>\n",
       "      <td>10.71</td>\n",
       "      <td>55742</td>\n",
       "      <td>114426</td>\n",
       "      <td>7000.0</td>\n",
       "      <td>7000.0</td>\n",
       "      <td>673.0</td>\n",
       "      <td>36</td>\n",
       "      <td>1</td>\n",
       "      <td>9</td>\n",
       "      <td>0</td>\n",
       "      <td>5</td>\n",
       "      <td>65000.0</td>\n",
       "      <td>0</td>\n",
       "      <td>1</td>\n",
       "      <td>33</td>\n",
       "      <td>14.29</td>\n",
       "      <td>0.0</td>\n",
       "      <td>-6793</td>\n",
       "      <td>0.0</td>\n",
       "      <td>0.0</td>\n",
       "      <td>0.0</td>\n",
       "      <td>7.0</td>\n",
       "      <td>0.0</td>\n",
       "      <td>33623.0</td>\n",
       "      <td>76.7</td>\n",
       "      <td>7.0</td>\n",
       "      <td>0</td>\n",
       "      <td>5</td>\n",
       "      <td>2019</td>\n",
       "      <td>0</td>\n",
       "      <td>0</td>\n",
       "    </tr>\n",
       "    <tr>\n",
       "      <th>2</th>\n",
       "      <td>16.99</td>\n",
       "      <td>57167</td>\n",
       "      <td>137225</td>\n",
       "      <td>25000.0</td>\n",
       "      <td>25000.0</td>\n",
       "      <td>24725.0</td>\n",
       "      <td>36</td>\n",
       "      <td>3</td>\n",
       "      <td>17</td>\n",
       "      <td>1</td>\n",
       "      <td>5</td>\n",
       "      <td>70000.0</td>\n",
       "      <td>1</td>\n",
       "      <td>2</td>\n",
       "      <td>33</td>\n",
       "      <td>10.50</td>\n",
       "      <td>0.0</td>\n",
       "      <td>-7013</td>\n",
       "      <td>0.0</td>\n",
       "      <td>41.0</td>\n",
       "      <td>0.0</td>\n",
       "      <td>10.0</td>\n",
       "      <td>0.0</td>\n",
       "      <td>19878.0</td>\n",
       "      <td>66.3</td>\n",
       "      <td>17.0</td>\n",
       "      <td>0</td>\n",
       "      <td>8</td>\n",
       "      <td>2019</td>\n",
       "      <td>1</td>\n",
       "      <td>0</td>\n",
       "    </tr>\n",
       "    <tr>\n",
       "      <th>3</th>\n",
       "      <td>13.11</td>\n",
       "      <td>57245</td>\n",
       "      <td>138150</td>\n",
       "      <td>1200.0</td>\n",
       "      <td>1200.0</td>\n",
       "      <td>1200.0</td>\n",
       "      <td>36</td>\n",
       "      <td>2</td>\n",
       "      <td>11</td>\n",
       "      <td>10</td>\n",
       "      <td>4</td>\n",
       "      <td>54000.0</td>\n",
       "      <td>0</td>\n",
       "      <td>2</td>\n",
       "      <td>42</td>\n",
       "      <td>5.47</td>\n",
       "      <td>0.0</td>\n",
       "      <td>-12486</td>\n",
       "      <td>0.0</td>\n",
       "      <td>64.0</td>\n",
       "      <td>0.0</td>\n",
       "      <td>5.0</td>\n",
       "      <td>0.0</td>\n",
       "      <td>2584.0</td>\n",
       "      <td>40.4</td>\n",
       "      <td>31.0</td>\n",
       "      <td>0</td>\n",
       "      <td>3</td>\n",
       "      <td>2019</td>\n",
       "      <td>1</td>\n",
       "      <td>0</td>\n",
       "    </tr>\n",
       "    <tr>\n",
       "      <th>4</th>\n",
       "      <td>13.57</td>\n",
       "      <td>57416</td>\n",
       "      <td>139635</td>\n",
       "      <td>10800.0</td>\n",
       "      <td>10800.0</td>\n",
       "      <td>10692.0</td>\n",
       "      <td>36</td>\n",
       "      <td>2</td>\n",
       "      <td>12</td>\n",
       "      <td>6</td>\n",
       "      <td>5</td>\n",
       "      <td>32000.0</td>\n",
       "      <td>0</td>\n",
       "      <td>2</td>\n",
       "      <td>6</td>\n",
       "      <td>11.63</td>\n",
       "      <td>0.0</td>\n",
       "      <td>-8378</td>\n",
       "      <td>1.0</td>\n",
       "      <td>58.0</td>\n",
       "      <td>0.0</td>\n",
       "      <td>14.0</td>\n",
       "      <td>0.0</td>\n",
       "      <td>3511.0</td>\n",
       "      <td>25.6</td>\n",
       "      <td>40.0</td>\n",
       "      <td>0</td>\n",
       "      <td>11</td>\n",
       "      <td>2019</td>\n",
       "      <td>1</td>\n",
       "      <td>0</td>\n",
       "    </tr>\n",
       "  </tbody>\n",
       "</table>\n",
       "</div>"
      ],
      "text/plain": [
       "      X1     X2      X3       X4       X5       X6  X7  X8  X9  X11  X12  \\\n",
       "0  11.89  54734   80364  25000.0  25000.0  19080.0  36   1   8    0    5   \n",
       "1  10.71  55742  114426   7000.0   7000.0    673.0  36   1   9    0    5   \n",
       "2  16.99  57167  137225  25000.0  25000.0  24725.0  36   3  17    1    5   \n",
       "3  13.11  57245  138150   1200.0   1200.0   1200.0  36   2  11   10    4   \n",
       "4  13.57  57416  139635  10800.0  10800.0  10692.0  36   2  12    6    5   \n",
       "\n",
       "       X13  X14  X17  X20    X21  X22    X23  X24   X25  X26   X27  X28  \\\n",
       "0  85000.0    1    2    4  19.48  0.0  -9320  0.0   0.0  0.0  10.0  0.0   \n",
       "1  65000.0    0    1   33  14.29  0.0  -6793  0.0   0.0  0.0   7.0  0.0   \n",
       "2  70000.0    1    2   33  10.50  0.0  -7013  0.0  41.0  0.0  10.0  0.0   \n",
       "3  54000.0    0    2   42   5.47  0.0 -12486  0.0  64.0  0.0   5.0  0.0   \n",
       "4  32000.0    0    2    6  11.63  0.0  -8378  1.0  58.0  0.0  14.0  0.0   \n",
       "\n",
       "       X29   X30   X31  X32  Issue_Month  Issue_Year  Has_Delinq  \\\n",
       "0  28854.0  52.1  42.0    0            8        2019           0   \n",
       "1  33623.0  76.7   7.0    0            5        2019           0   \n",
       "2  19878.0  66.3  17.0    0            8        2019           1   \n",
       "3   2584.0  40.4  31.0    0            3        2019           1   \n",
       "4   3511.0  25.6  40.0    0           11        2019           1   \n",
       "\n",
       "   Has_PublicRecord  \n",
       "0                 0  \n",
       "1                 0  \n",
       "2                 0  \n",
       "3                 0  \n",
       "4                 0  "
      ]
     },
     "execution_count": 877,
     "metadata": {},
     "output_type": "execute_result"
    }
   ],
   "source": [
    "loan_df = pd.read_csv('Data for Cleaning & Modeling.csv')\n",
    "loan_df = preprocessLoanData(loan_df)\n",
    "loan_df.head()"
   ]
  },
  {
   "cell_type": "markdown",
   "metadata": {},
   "source": [
    "## Save the processed training dataset to a pickle file"
   ]
  },
  {
   "cell_type": "code",
   "execution_count": 878,
   "metadata": {},
   "outputs": [],
   "source": [
    "loan_df.to_pickle('loan_df_train_model_ready.pkl')"
   ]
  },
  {
   "cell_type": "markdown",
   "metadata": {},
   "source": [
    "# Create preprocessing function for hold out set"
   ]
  },
  {
   "cell_type": "code",
   "execution_count": 879,
   "metadata": {},
   "outputs": [],
   "source": [
    "def preprocessHoldLoanData(df):\n",
    "    #Drop NaNs response and all NaNs rows\n",
    "    df = df.dropna(subset=['X2']) \n",
    "    \n",
    "    #X1 \n",
    "    #df['X1'] = df['X1'].str.replace('%','')\n",
    "    #df['X1']  = df['X1'].astype('float64')\n",
    "    \n",
    "    #X2\n",
    "    df['X2'] = df['X2'].astype('int')\n",
    "    \n",
    "    #X3\n",
    "    df['X3'] = df['X3'].astype('int')\n",
    "    \n",
    "    #X4,X5,X6 - remove dollar sign\n",
    "    for field in ['X4','X5','X6']:\n",
    "        df[field] = df[field].str.replace('$','')\n",
    "        df[field] = df[field].str.replace(',','')\n",
    "        df[field]  = df[field].astype('float64')\n",
    "\n",
    "        \n",
    "    #X7\n",
    "    field = 'X7'\n",
    "    df[field] = df[field].str.replace(' months','')\n",
    "    df[field]  = df[field].astype('int')\n",
    "\n",
    "    #X8\n",
    "    #df['X8'] = df['X8'].ffill()\n",
    "    df['X8'].fillna(df['X8'].mode(),inplace=True)\n",
    "    \n",
    "    #X9\n",
    "    #df.loc[df['X9'].isnull(),'X9'] = df['X8']+'1'\n",
    "    df['X9'].fillna(df['X9'].mode(),inplace=True)\n",
    "    \n",
    "    #X10\n",
    "    df = df.drop(['X10'],axis=1)\n",
    "    \n",
    "    #X11\n",
    "    df.loc[df['X11'] == '< 1 year','X11'] = '0' \n",
    "    df['X11'] = df['X11'].apply(lambda x: x.split()[0] if type(x) == str else x )\n",
    "    df.loc[df['X11'] == '10+','X11'] = '10'\n",
    "    df['X11'] = df['X11'].fillna('10')\n",
    "    df['X11'] = df['X11'].astype('int')\n",
    "    \n",
    "    \n",
    "    #X12\n",
    "#     nullIndex = df.loc[df['X12'].isnull()].index.tolist()\n",
    "#     size = len(nullIndex)//2\n",
    "#     fillRentIndex = np.random.choice(nullIndex,size,replace=False)\n",
    "#     df.loc[fillRentIndex,'X12'] = 'RENT'\n",
    "#     nullIndex = df.loc[df['X12'].isnull()].index.tolist()\n",
    "#     size = len(nullIndex)\n",
    "#     fillMortIndex = np.random.choice(nullIndex,size,replace=False)\n",
    "#     df.loc[fillMortIndex,'X12'] ='MORTGAGE'\n",
    "    \n",
    "    #X13\n",
    "    df.loc[df['X13'].isnull(),'X13'] = df['X13'].median()\n",
    "    \n",
    "    #X14 map to integers \n",
    "    field = 'X14'\n",
    "    df[field] = df[field].map({'not verified':0,'VERIFIED - income':1,'VERIFIED - income source':2})    \n",
    "    \n",
    "    #X15, #X23  - Date Fields\n",
    "    field = 'X15'\n",
    "    #df[field].value_counts()\n",
    "    df[field] = pd.to_datetime(df[field], format='%Y-%m-%d')\n",
    "    a = df[field]\n",
    "    \n",
    "    field = 'X23'\n",
    "    b = pd.to_datetime(df[field], format='%Y-%m-%d')\n",
    "    df[field] = (b-a).dt.days\n",
    "    \n",
    "    #Feature Engineering\n",
    "    df['Issue_Month'] = df['X15'].dt.month\n",
    "    df['Issue_Year'] = df['X15'].dt.year\n",
    "    \n",
    "    #Drop X15 field\n",
    "    df = df.drop(['X15'],axis=1)\n",
    "    \n",
    "    #X16\n",
    "    df = df.drop(['X16'],axis=1)\n",
    "    \n",
    "    #X17\n",
    "    field='X17'\n",
    "    df[field] = pd.Categorical(df[field])\n",
    "    \n",
    "    #X18\n",
    "    df = df.drop(['X18'],axis=1)\n",
    "    \n",
    "    #X19\n",
    "    field = 'X19'\n",
    "    df = df.drop([field],axis=1)\n",
    "    \n",
    "    #X20\n",
    "    field = 'X20'\n",
    "    #df[field].value_counts()\n",
    "    df[field] = pd.Categorical(df[field])\n",
    "    \n",
    "    #X25 Try with zero first\n",
    "    df.loc[df['X25'].isnull(),'X25'] = 0.0\n",
    "    df['Has_Delinq'] = df['X25'].apply(lambda x: 0 if x==0 else 1)\n",
    "    \n",
    "    #X26 #Try with zero first\n",
    "    df.loc[df['X26'].isnull(),'X26'] = 0.0\n",
    "    df['Has_PublicRecord'] = df['X26'].apply(lambda x: 0 if x==0 else 1)\n",
    "    \n",
    "    #X30\n",
    "    field = 'X30'\n",
    "    df.loc[df[field].isnull(),field] = '0%'\n",
    "    df[field] = df[field].str.replace('%','')\n",
    "    df[field]  = df[field].astype('float64')\n",
    "    \n",
    "    \n",
    "    #X32\n",
    "    field = 'X32'\n",
    "    df[field] = df[field].map({'f':0,'w':1})\n",
    "    df[field] = pd.Categorical(df[field])\n",
    "    \n",
    "    #Make Categoricaldf['X8'] = df['X8'].cat.codes\n",
    "    field = 'X8'\n",
    "    df[field] = pd.Categorical(df[field])\n",
    "    field = 'X9'\n",
    "    df[field] = pd.Categorical(df[field])\n",
    "    field = 'X12'\n",
    "    df[field] = pd.Categorical(df[field])\n",
    "    field='X17'\n",
    "    df[field] = pd.Categorical(df[field])\n",
    "    df['X8'] = df['X8'].cat.codes\n",
    "    df['X9'] = df['X9'].cat.codes\n",
    "    df['X12'] = df['X12'].cat.codes\n",
    "    df['X17'] = df['X17'].cat.codes\n",
    "    df['X20'] = df['X20'].cat.codes\n",
    "    df['X32'] = df['X32'].cat.codes\n",
    "    \n",
    "    return df"
   ]
  },
  {
   "cell_type": "markdown",
   "metadata": {},
   "source": [
    "## Read the hold out set and process using above function"
   ]
  },
  {
   "cell_type": "code",
   "execution_count": 880,
   "metadata": {},
   "outputs": [
    {
     "name": "stdout",
     "output_type": "stream",
     "text": [
      "<class 'pandas.core.frame.DataFrame'>\n",
      "Int64Index: 80000 entries, 0 to 79999\n",
      "Data columns (total 30 columns):\n",
      "X2                  80000 non-null int64\n",
      "X3                  80000 non-null int64\n",
      "X4                  80000 non-null float64\n",
      "X5                  80000 non-null float64\n",
      "X6                  80000 non-null float64\n",
      "X7                  80000 non-null int64\n",
      "X8                  80000 non-null int8\n",
      "X9                  80000 non-null int8\n",
      "X11                 80000 non-null int64\n",
      "X12                 80000 non-null int8\n",
      "X13                 80000 non-null float64\n",
      "X14                 80000 non-null int64\n",
      "X17                 80000 non-null int8\n",
      "X20                 80000 non-null int8\n",
      "X21                 80000 non-null float64\n",
      "X22                 80000 non-null int64\n",
      "X23                 80000 non-null int64\n",
      "X24                 80000 non-null int64\n",
      "X25                 80000 non-null float64\n",
      "X26                 80000 non-null float64\n",
      "X27                 80000 non-null int64\n",
      "X28                 80000 non-null int64\n",
      "X29                 80000 non-null int64\n",
      "X30                 80000 non-null float64\n",
      "X31                 80000 non-null int64\n",
      "X32                 80000 non-null int8\n",
      "Issue_Month         80000 non-null int64\n",
      "Issue_Year          80000 non-null int64\n",
      "Has_Delinq          80000 non-null int64\n",
      "Has_PublicRecord    80000 non-null int64\n",
      "dtypes: float64(8), int64(16), int8(6)\n",
      "memory usage: 15.7 MB\n"
     ]
    }
   ],
   "source": [
    "hold_loan_df = pd.read_csv('Holdout for Testing.csv')\n",
    "hold_loan_df = preprocessHoldLoanData(hold_loan_df.drop(['X1'],axis=1))\n",
    "hold_loan_df.info()"
   ]
  },
  {
   "cell_type": "code",
   "execution_count": 881,
   "metadata": {},
   "outputs": [
    {
     "data": {
      "text/html": [
       "<div>\n",
       "<style scoped>\n",
       "    .dataframe tbody tr th:only-of-type {\n",
       "        vertical-align: middle;\n",
       "    }\n",
       "\n",
       "    .dataframe tbody tr th {\n",
       "        vertical-align: top;\n",
       "    }\n",
       "\n",
       "    .dataframe thead th {\n",
       "        text-align: right;\n",
       "    }\n",
       "</style>\n",
       "<table border=\"1\" class=\"dataframe\">\n",
       "  <thead>\n",
       "    <tr style=\"text-align: right;\">\n",
       "      <th></th>\n",
       "      <th>X2</th>\n",
       "      <th>X3</th>\n",
       "      <th>X4</th>\n",
       "      <th>X5</th>\n",
       "      <th>X6</th>\n",
       "      <th>X7</th>\n",
       "      <th>X8</th>\n",
       "      <th>X9</th>\n",
       "      <th>X11</th>\n",
       "      <th>X12</th>\n",
       "      <th>X13</th>\n",
       "      <th>X14</th>\n",
       "      <th>X17</th>\n",
       "      <th>X20</th>\n",
       "      <th>X21</th>\n",
       "      <th>X22</th>\n",
       "      <th>X23</th>\n",
       "      <th>X24</th>\n",
       "      <th>X25</th>\n",
       "      <th>X26</th>\n",
       "      <th>X27</th>\n",
       "      <th>X28</th>\n",
       "      <th>X29</th>\n",
       "      <th>X30</th>\n",
       "      <th>X31</th>\n",
       "      <th>X32</th>\n",
       "      <th>Issue_Month</th>\n",
       "      <th>Issue_Year</th>\n",
       "      <th>Has_Delinq</th>\n",
       "      <th>Has_PublicRecord</th>\n",
       "    </tr>\n",
       "  </thead>\n",
       "  <tbody>\n",
       "    <tr>\n",
       "      <th>0</th>\n",
       "      <td>44409194</td>\n",
       "      <td>47416907</td>\n",
       "      <td>6000.0</td>\n",
       "      <td>6000.0</td>\n",
       "      <td>6000.0</td>\n",
       "      <td>36</td>\n",
       "      <td>2</td>\n",
       "      <td>14</td>\n",
       "      <td>10</td>\n",
       "      <td>0</td>\n",
       "      <td>68000.0</td>\n",
       "      <td>1</td>\n",
       "      <td>2</td>\n",
       "      <td>30</td>\n",
       "      <td>28.31</td>\n",
       "      <td>0</td>\n",
       "      <td>232</td>\n",
       "      <td>1</td>\n",
       "      <td>26.0</td>\n",
       "      <td>0.0</td>\n",
       "      <td>18</td>\n",
       "      <td>0</td>\n",
       "      <td>19861</td>\n",
       "      <td>64.5</td>\n",
       "      <td>33</td>\n",
       "      <td>0</td>\n",
       "      <td>3</td>\n",
       "      <td>2019</td>\n",
       "      <td>1</td>\n",
       "      <td>0</td>\n",
       "    </tr>\n",
       "    <tr>\n",
       "      <th>1</th>\n",
       "      <td>44017917</td>\n",
       "      <td>47034722</td>\n",
       "      <td>24000.0</td>\n",
       "      <td>24000.0</td>\n",
       "      <td>24000.0</td>\n",
       "      <td>36</td>\n",
       "      <td>0</td>\n",
       "      <td>0</td>\n",
       "      <td>8</td>\n",
       "      <td>2</td>\n",
       "      <td>110480.0</td>\n",
       "      <td>1</td>\n",
       "      <td>2</td>\n",
       "      <td>4</td>\n",
       "      <td>16.03</td>\n",
       "      <td>0</td>\n",
       "      <td>-18366</td>\n",
       "      <td>1</td>\n",
       "      <td>0.0</td>\n",
       "      <td>0.0</td>\n",
       "      <td>12</td>\n",
       "      <td>0</td>\n",
       "      <td>17001</td>\n",
       "      <td>26.2</td>\n",
       "      <td>36</td>\n",
       "      <td>1</td>\n",
       "      <td>3</td>\n",
       "      <td>2019</td>\n",
       "      <td>0</td>\n",
       "      <td>0</td>\n",
       "    </tr>\n",
       "    <tr>\n",
       "      <th>2</th>\n",
       "      <td>44259158</td>\n",
       "      <td>47306871</td>\n",
       "      <td>35000.0</td>\n",
       "      <td>35000.0</td>\n",
       "      <td>35000.0</td>\n",
       "      <td>36</td>\n",
       "      <td>2</td>\n",
       "      <td>11</td>\n",
       "      <td>10</td>\n",
       "      <td>0</td>\n",
       "      <td>86000.0</td>\n",
       "      <td>1</td>\n",
       "      <td>2</td>\n",
       "      <td>33</td>\n",
       "      <td>32.49</td>\n",
       "      <td>0</td>\n",
       "      <td>-7470</td>\n",
       "      <td>0</td>\n",
       "      <td>0.0</td>\n",
       "      <td>0.0</td>\n",
       "      <td>16</td>\n",
       "      <td>0</td>\n",
       "      <td>25797</td>\n",
       "      <td>49.9</td>\n",
       "      <td>33</td>\n",
       "      <td>1</td>\n",
       "      <td>3</td>\n",
       "      <td>2019</td>\n",
       "      <td>0</td>\n",
       "      <td>0</td>\n",
       "    </tr>\n",
       "    <tr>\n",
       "      <th>3</th>\n",
       "      <td>44429213</td>\n",
       "      <td>47476932</td>\n",
       "      <td>10000.0</td>\n",
       "      <td>10000.0</td>\n",
       "      <td>10000.0</td>\n",
       "      <td>60</td>\n",
       "      <td>3</td>\n",
       "      <td>15</td>\n",
       "      <td>10</td>\n",
       "      <td>2</td>\n",
       "      <td>30000.0</td>\n",
       "      <td>2</td>\n",
       "      <td>2</td>\n",
       "      <td>4</td>\n",
       "      <td>32.96</td>\n",
       "      <td>0</td>\n",
       "      <td>-7347</td>\n",
       "      <td>1</td>\n",
       "      <td>0.0</td>\n",
       "      <td>114.0</td>\n",
       "      <td>13</td>\n",
       "      <td>1</td>\n",
       "      <td>9586</td>\n",
       "      <td>43.8</td>\n",
       "      <td>21</td>\n",
       "      <td>1</td>\n",
       "      <td>3</td>\n",
       "      <td>2019</td>\n",
       "      <td>0</td>\n",
       "      <td>1</td>\n",
       "    </tr>\n",
       "    <tr>\n",
       "      <th>4</th>\n",
       "      <td>44299188</td>\n",
       "      <td>47346901</td>\n",
       "      <td>24000.0</td>\n",
       "      <td>24000.0</td>\n",
       "      <td>24000.0</td>\n",
       "      <td>60</td>\n",
       "      <td>1</td>\n",
       "      <td>5</td>\n",
       "      <td>10</td>\n",
       "      <td>0</td>\n",
       "      <td>82500.0</td>\n",
       "      <td>1</td>\n",
       "      <td>2</td>\n",
       "      <td>33</td>\n",
       "      <td>31.03</td>\n",
       "      <td>0</td>\n",
       "      <td>262</td>\n",
       "      <td>0</td>\n",
       "      <td>48.0</td>\n",
       "      <td>0.0</td>\n",
       "      <td>27</td>\n",
       "      <td>0</td>\n",
       "      <td>31842</td>\n",
       "      <td>41.3</td>\n",
       "      <td>43</td>\n",
       "      <td>1</td>\n",
       "      <td>3</td>\n",
       "      <td>2019</td>\n",
       "      <td>1</td>\n",
       "      <td>0</td>\n",
       "    </tr>\n",
       "  </tbody>\n",
       "</table>\n",
       "</div>"
      ],
      "text/plain": [
       "         X2        X3       X4       X5       X6  X7  X8  X9  X11  X12  \\\n",
       "0  44409194  47416907   6000.0   6000.0   6000.0  36   2  14   10    0   \n",
       "1  44017917  47034722  24000.0  24000.0  24000.0  36   0   0    8    2   \n",
       "2  44259158  47306871  35000.0  35000.0  35000.0  36   2  11   10    0   \n",
       "3  44429213  47476932  10000.0  10000.0  10000.0  60   3  15   10    2   \n",
       "4  44299188  47346901  24000.0  24000.0  24000.0  60   1   5   10    0   \n",
       "\n",
       "        X13  X14  X17  X20    X21  X22    X23  X24   X25    X26  X27  X28  \\\n",
       "0   68000.0    1    2   30  28.31    0    232    1  26.0    0.0   18    0   \n",
       "1  110480.0    1    2    4  16.03    0 -18366    1   0.0    0.0   12    0   \n",
       "2   86000.0    1    2   33  32.49    0  -7470    0   0.0    0.0   16    0   \n",
       "3   30000.0    2    2    4  32.96    0  -7347    1   0.0  114.0   13    1   \n",
       "4   82500.0    1    2   33  31.03    0    262    0  48.0    0.0   27    0   \n",
       "\n",
       "     X29   X30  X31  X32  Issue_Month  Issue_Year  Has_Delinq  \\\n",
       "0  19861  64.5   33    0            3        2019           1   \n",
       "1  17001  26.2   36    1            3        2019           0   \n",
       "2  25797  49.9   33    1            3        2019           0   \n",
       "3   9586  43.8   21    1            3        2019           0   \n",
       "4  31842  41.3   43    1            3        2019           1   \n",
       "\n",
       "   Has_PublicRecord  \n",
       "0                 0  \n",
       "1                 0  \n",
       "2                 0  \n",
       "3                 1  \n",
       "4                 0  "
      ]
     },
     "execution_count": 881,
     "metadata": {},
     "output_type": "execute_result"
    }
   ],
   "source": [
    "hold_loan_df.head()"
   ]
  },
  {
   "cell_type": "markdown",
   "metadata": {},
   "source": [
    "## Save processed hold out set to a pickle file"
   ]
  },
  {
   "cell_type": "code",
   "execution_count": 885,
   "metadata": {},
   "outputs": [],
   "source": [
    "hold_loan_df.to_pickle('loan_df_holdout_model_ready.pkl')"
   ]
  },
  {
   "cell_type": "markdown",
   "metadata": {},
   "source": [
    "# Applying ML models"
   ]
  },
  {
   "cell_type": "markdown",
   "metadata": {},
   "source": [
    "## Decision Tree Regressor"
   ]
  },
  {
   "cell_type": "code",
   "execution_count": 2,
   "metadata": {},
   "outputs": [],
   "source": [
    "from sklearn.model_selection import train_test_split\n",
    "from sklearn.tree import DecisionTreeRegressor\n",
    "from sklearn.metrics import mean_squared_error\n",
    "from math import sqrt"
   ]
  },
  {
   "cell_type": "code",
   "execution_count": 10,
   "metadata": {},
   "outputs": [
    {
     "name": "stdout",
     "output_type": "stream",
     "text": [
      "(338989, 28) (338989,)\n",
      "(237292, 28) (237292,) (101697, 28) (101697,)\n",
      "Test RMSE : 2.14\n",
      "Train RMSE : 2.12\n",
      "Test RMSE: 2.14 , Train RMSE 2.12 for Decison Tree\n"
     ]
    }
   ],
   "source": [
    "dt_model_loan_df = pd.read_pickle('loan_df_train_model_ready.pkl')\n",
    "\n",
    "#X2 and X3 are ids and can be removed from the model\n",
    "dt_model_loan_df = dt_model_loan_df.drop(['X2'],axis=1)\n",
    "dt_model_loan_df = dt_model_loan_df.drop(['X3'],axis=1)\n",
    "\n",
    "#Create train and response dataset\n",
    "x = dt_model_loan_df.drop(['X1'],axis=1)\n",
    "y = dt_model_loan_df['X1']\n",
    "print(x.shape,y.shape)\n",
    "\n",
    "x_train,x_test,y_train,y_test = train_test_split(x,y,test_size=.3)\n",
    "print(x_train.shape,y_train.shape,x_test.shape,y_test.shape)\n",
    "\n",
    "#create random forest Regressor\n",
    "dt_model1 = DecisionTreeRegressor(max_depth=5,min_samples_leaf=0.11, random_state=0)\n",
    "\n",
    "#fit the model\n",
    "dt_model1.fit(x_train,y_train)\n",
    "\n",
    "def predict(model):\n",
    "    #Predict on split test set\n",
    "    y_pred = model.predict(x_test)\n",
    "    rmse = sqrt(mean_squared_error(y_test, y_pred))\n",
    "    print('Test RMSE : {}'.format(round(rmse,2)))\n",
    "    test_rmse = rmse\n",
    "    \n",
    "    #predict on split train set\n",
    "    y_train_pred = model.predict(x_train)\n",
    "    rmse = sqrt(mean_squared_error(y_train, y_train_pred))\n",
    "    print('Train RMSE : {}'.format(round(rmse,2)))\n",
    "    train_rmse = rmse\n",
    "    \n",
    "    return(test_rmse,train_rmse)\n",
    "\n",
    "dt_rmse_scores = predict(dt_model1)\n",
    "print('Test RMSE: {} , Train RMSE {} for Decison Tree'.format(round(dt_rmse_scores[0],2),round(dt_rmse_scores[1],2)))"
   ]
  },
  {
   "cell_type": "markdown",
   "metadata": {},
   "source": [
    "## Random Forest Regressor"
   ]
  },
  {
   "cell_type": "code",
   "execution_count": 13,
   "metadata": {},
   "outputs": [],
   "source": [
    "from sklearn.model_selection import train_test_split\n",
    "from sklearn.ensemble import RandomForestRegressor\n",
    "from sklearn.metrics import mean_squared_error\n",
    "from math import sqrt"
   ]
  },
  {
   "cell_type": "code",
   "execution_count": 75,
   "metadata": {},
   "outputs": [
    {
     "name": "stdout",
     "output_type": "stream",
     "text": [
      "(338989, 27) (338989,)\n",
      "(237292, 27) (237292,) (101697, 27) (101697,)\n",
      "Test RMSE : 1.5\n",
      "Train RMSE : 1.49\n",
      "Test RMSE: 1.5 , Train RMSE 1.49 for Random Forest\n"
     ]
    }
   ],
   "source": [
    "rf_model_loan_df = pd.read_pickle('loan_df_train_model_ready.pkl')\n",
    "\n",
    "#X2 and X3 are ids and can be removed from the model\n",
    "rf_model_loan_df = rf_model_loan_df.drop(['X2'],axis=1)\n",
    "rf_model_loan_df = rf_model_loan_df.drop(['X3'],axis=1)\n",
    "\n",
    "#Create train and response dataset\n",
    "x = rf_model_loan_df.drop(['X1','X8'],axis=1)\n",
    "y = rf_model_loan_df['X1']\n",
    "print(x.shape,y.shape)\n",
    "\n",
    "x_train,x_test,y_train,y_test = train_test_split(x,y,test_size=.3)\n",
    "print(x_train.shape,y_train.shape,x_test.shape,y_test.shape)\n",
    "\n",
    "#create random forest Regressor\n",
    "rf_model1 = RandomForestRegressor(n_estimators=300,max_depth=8,random_state=0,n_jobs=-1)\n",
    "\n",
    "#fit the model\n",
    "rf_model1.fit(x_train,y_train)\n",
    "\n",
    "rf_rmse_scores = predict(rf_model1)\n",
    "print('Test RMSE: {} , Train RMSE {} for Random Forest'.format(round(rf_rmse_scores[0],2),round(rf_rmse_scores[1],2)))"
   ]
  },
  {
   "cell_type": "markdown",
   "metadata": {},
   "source": [
    "### Grid Search CV for Random Forest"
   ]
  },
  {
   "cell_type": "markdown",
   "metadata": {},
   "source": [
    "**Tried running Grid Search CV but it took long time to execute hence had to cancel it**"
   ]
  },
  {
   "cell_type": "code",
   "execution_count": null,
   "metadata": {},
   "outputs": [],
   "source": [
    "# from sklearn.model_selection import GridSearchCV\n",
    "# rf_gridSearch1=RandomForestRegressor(random_state=0,n_jobs=-1)\n",
    "# param_grid = { \n",
    "#     'n_estimators': [300],\n",
    "#     'max_features': ['auto'],\n",
    "#     'max_depth' : [7,8,9,10]\n",
    "# }\n",
    "\n",
    "# CV_rfc = GridSearchCV(estimator=rf_gridSearch1, param_grid=param_grid, cv= 5,n_jobs=3)\n",
    "# CV_rfc.fit(x_train, y_train)\n",
    "# CV_rfc.best_params_"
   ]
  },
  {
   "cell_type": "code",
   "execution_count": null,
   "metadata": {},
   "outputs": [],
   "source": [
    "# clf2 = RandomForestRegressor(n_estimators=300,\n",
    "#                              max_depth=12,\n",
    "#                              max_features='auto',\n",
    "#                              random_state=42,\n",
    "#                              n_jobs=-1)\n",
    "# clf2.fit(x_train,y_train)\n",
    "# y_pred = clf2.predict(x_test)\n",
    "# rmse = sqrt(mean_squared_error(y_test, y_pred))\n",
    "# print('Test RMSE : {}'.format(round(rmse,2)))\n",
    "\n",
    "# y_train_pred = clf2.predict(x_train)\n",
    "# rmse = sqrt(mean_squared_error(y_train, y_train_pred))\n",
    "# print('Train RMSE : {}'.format(round(rmse,2)))"
   ]
  },
  {
   "cell_type": "code",
   "execution_count": null,
   "metadata": {},
   "outputs": [],
   "source": [
    "result_comparison = pd.DataFrame({'Predicted':y_pred,'Actual':y_test})\n",
    "result_comparison.tail(20)"
   ]
  },
  {
   "cell_type": "markdown",
   "metadata": {},
   "source": [
    "### Feature Importances"
   ]
  },
  {
   "cell_type": "code",
   "execution_count": 15,
   "metadata": {},
   "outputs": [
    {
     "data": {
      "image/png": "[encoded data removed]",
      "text/plain": [
       "<Figure size 576x576 with 1 Axes>"
      ]
     },
     "metadata": {
      "needs_background": "light"
     },
     "output_type": "display_data"
    }
   ],
   "source": [
    "#Feature importance\n",
    "features = x_train.columns\n",
    "importances = rf_model1.feature_importances_\n",
    "indices = np.argsort(importances)\n",
    "\n",
    "plt.figure(figsize=(8,8))\n",
    "plt.barh(range(len(indices)), importances[indices], align='center')\n",
    "plt.yticks(range(len(indices)), [features[i] for i in indices]);\n",
    "plt.xlabel('Relative Importance')\n",
    "plt.show()"
   ]
  },
  {
   "cell_type": "markdown",
   "metadata": {},
   "source": [
    "## AdaBoost"
   ]
  },
  {
   "cell_type": "code",
   "execution_count": 16,
   "metadata": {},
   "outputs": [],
   "source": [
    "from sklearn.tree import DecisionTreeRegressor\n",
    "from sklearn.ensemble import AdaBoostRegressor"
   ]
  },
  {
   "cell_type": "code",
   "execution_count": 18,
   "metadata": {},
   "outputs": [
    {
     "name": "stdout",
     "output_type": "stream",
     "text": [
      "(338989, 28) (338989,)\n",
      "(237292, 28) (237292,) (101697, 28) (101697,)\n",
      "Test RMSE : 2.45\n",
      "Train RMSE : 2.45\n",
      "Test RMSE: 2.45 , Train RMSE 2.45 for AdaBoost\n"
     ]
    }
   ],
   "source": [
    "# # Fit ada to the training set\n",
    "# ada.fit(x_train, y_train)\n",
    "ada_model_loan_df = pd.read_pickle('loan_df_train_model_ready.pkl')\n",
    "\n",
    "#X2 and X3 are ids and can be removed from the model\n",
    "ada_model_loan_df = ada_model_loan_df.drop(['X2'],axis=1)\n",
    "ada_model_loan_df = ada_model_loan_df.drop(['X3'],axis=1)\n",
    "\n",
    "#Create train and response dataset\n",
    "x = ada_model_loan_df.drop(['X1'],axis=1)\n",
    "y = ada_model_loan_df['X1']\n",
    "print(x.shape,y.shape)\n",
    "\n",
    "x_train,x_test,y_train,y_test = train_test_split(x,y,test_size=.3)\n",
    "print(x_train.shape,y_train.shape,x_test.shape,y_test.shape)\n",
    "\n",
    "#create AdaBoost Regressor\n",
    "dt = DecisionTreeRegressor(max_depth=2, random_state=1)\n",
    "ada_model1 = AdaBoostRegressor(base_estimator=dt, n_estimators=300, random_state=1)\n",
    "\n",
    "#fit the model\n",
    "ada_model1.fit(x_train,y_train)\n",
    "\n",
    "#predict and check accuracy\n",
    "ada_rmse_scores = predict(ada_model1)\n",
    "print('Test RMSE: {} , Train RMSE {} for AdaBoost'.format(round(ada_rmse_scores[0],2),\n",
    "                                                               round(ada_rmse_scores[1],2)))"
   ]
  },
  {
   "cell_type": "markdown",
   "metadata": {},
   "source": [
    "## GBM"
   ]
  },
  {
   "cell_type": "code",
   "execution_count": 20,
   "metadata": {},
   "outputs": [],
   "source": [
    "# Import GradientBoostingRegressor\n",
    "from sklearn.ensemble import GradientBoostingRegressor"
   ]
  },
  {
   "cell_type": "code",
   "execution_count": 22,
   "metadata": {},
   "outputs": [
    {
     "name": "stdout",
     "output_type": "stream",
     "text": [
      "(338989, 28) (338989,)\n",
      "(237292, 28) (237292,) (101697, 28) (101697,)\n",
      "Test RMSE : 1.48\n",
      "Train RMSE : 1.48\n",
      "Test RMSE: 1.48 , Train RMSE 1.48 for GBM\n"
     ]
    }
   ],
   "source": [
    "gbm_model_loan_df = pd.read_pickle('loan_df_train_model_ready.pkl')\n",
    "\n",
    "#X2 and X3 are ids and can be removed from the model\n",
    "gbm_model_loan_df = gbm_model_loan_df.drop(['X2'],axis=1)\n",
    "gbm_model_loan_df = gbm_model_loan_df.drop(['X3'],axis=1)\n",
    "\n",
    "#Create train and response dataset\n",
    "x = gbm_model_loan_df.drop(['X1'],axis=1)\n",
    "y = gbm_model_loan_df['X1']\n",
    "print(x.shape,y.shape)\n",
    "\n",
    "x_train,x_test,y_train,y_test = train_test_split(x,y,test_size=.3)\n",
    "print(x_train.shape,y_train.shape,x_test.shape,y_test.shape)\n",
    "\n",
    "# Instantiate gb\n",
    "gbm_model1 = GradientBoostingRegressor(max_depth=2,n_estimators=300,random_state=2)\n",
    "\n",
    "# Fit gb to the training set\n",
    "gbm_model1.fit(x_train, y_train)\n",
    "\n",
    "\n",
    "gbm_rmse_scores = predict(gbm_model1)\n",
    "print('Test RMSE: {} , Train RMSE {} for GBM'.format(round(gbm_rmse_scores[0],2),\n",
    "                                                               round(gbm_rmse_scores[1],2)))\n",
    "\n"
   ]
  },
  {
   "cell_type": "markdown",
   "metadata": {},
   "source": [
    "## XGBOOST"
   ]
  },
  {
   "cell_type": "code",
   "execution_count": 24,
   "metadata": {},
   "outputs": [],
   "source": [
    "import os\n",
    "os.environ['KMP_DUPLICATE_LIB_OK']='True'\n",
    "from xgboost import XGBRegressor"
   ]
  },
  {
   "cell_type": "code",
   "execution_count": 34,
   "metadata": {},
   "outputs": [
    {
     "name": "stdout",
     "output_type": "stream",
     "text": [
      "(338989, 28) (338989,)\n",
      "(237292, 28) (237292,) (101697, 28) (101697,)\n",
      "Test RMSE : 1.33\n",
      "Train RMSE : 1.31\n",
      "Test RMSE: 1.33 , Train RMSE 1.31 for XGBOOST!!\n"
     ]
    }
   ],
   "source": [
    "xgb_model_loan_df = pd.read_pickle('loan_df_train_model_ready.pkl')\n",
    "\n",
    "#X2 and X3 are ids and can be removed from the model\n",
    "xgb_model_loan_df = xgb_model_loan_df.drop(['X2'],axis=1)\n",
    "xgb_model_loan_df = xgb_model_loan_df.drop(['X3'],axis=1)\n",
    "\n",
    "#Create train and response dataset\n",
    "x = xgb_model_loan_df.drop(['X1'],axis=1)\n",
    "y = xgb_model_loan_df['X1']\n",
    "print(x.shape,y.shape)\n",
    "\n",
    "x_train,x_test,y_train,y_test = train_test_split(x,y,test_size=.3)\n",
    "print(x_train.shape,y_train.shape,x_test.shape,y_test.shape)\n",
    "\n",
    "# Instantiate gb\n",
    "xgb_model1 = XGBRegressor(max_depth=4,n_estimators=250,n_jobs=4)\n",
    "\n",
    "# Fit gb to the training set\n",
    "xgb_model1.fit(x_train, y_train)\n",
    "\n",
    "\n",
    "xgb_rmse_scores = predict(xgb_model1)\n",
    "print('Test RMSE: {} , Train RMSE {} for XGBOOST!!'.format(round(xgb_rmse_scores[0],2),\n",
    "                                                               round(xgb_rmse_scores[1],2)))"
   ]
  },
  {
   "cell_type": "markdown",
   "metadata": {},
   "source": [
    "## LightGBM"
   ]
  },
  {
   "cell_type": "code",
   "execution_count": 36,
   "metadata": {},
   "outputs": [],
   "source": [
    "import lightgbm as lgb"
   ]
  },
  {
   "cell_type": "code",
   "execution_count": 66,
   "metadata": {},
   "outputs": [
    {
     "name": "stdout",
     "output_type": "stream",
     "text": [
      "(338989, 28) (338989,)\n",
      "(237292, 28) (237292,) (101697, 28) (101697,)\n",
      "Starting training...\n",
      "[1]\tvalid_0's l2: 16.217\tvalid_0's l1: 3.21857\n",
      "Training until validation scores don't improve for 5 rounds.\n",
      "[2]\tvalid_0's l2: 13.8116\tvalid_0's l1: 2.95749\n",
      "[3]\tvalid_0's l2: 11.8545\tvalid_0's l1: 2.72555\n",
      "[4]\tvalid_0's l2: 10.2428\tvalid_0's l1: 2.51708\n",
      "[5]\tvalid_0's l2: 8.91808\tvalid_0's l1: 2.339\n",
      "[6]\tvalid_0's l2: 7.83059\tvalid_0's l1: 2.18358\n",
      "[7]\tvalid_0's l2: 6.93532\tvalid_0's l1: 2.03505\n",
      "[8]\tvalid_0's l2: 6.19655\tvalid_0's l1: 1.90765\n",
      "[9]\tvalid_0's l2: 5.5889\tvalid_0's l1: 1.7935\n",
      "[10]\tvalid_0's l2: 5.09309\tvalid_0's l1: 1.69321\n",
      "[11]\tvalid_0's l2: 4.67906\tvalid_0's l1: 1.60348\n",
      "[12]\tvalid_0's l2: 4.34526\tvalid_0's l1: 1.52565\n",
      "[13]\tvalid_0's l2: 4.05278\tvalid_0's l1: 1.4572\n",
      "[14]\tvalid_0's l2: 3.81926\tvalid_0's l1: 1.39439\n",
      "[15]\tvalid_0's l2: 3.61431\tvalid_0's l1: 1.3404\n",
      "[16]\tvalid_0's l2: 3.44732\tvalid_0's l1: 1.29148\n",
      "[17]\tvalid_0's l2: 3.31132\tvalid_0's l1: 1.24763\n",
      "[18]\tvalid_0's l2: 3.19373\tvalid_0's l1: 1.21149\n",
      "[19]\tvalid_0's l2: 3.09868\tvalid_0's l1: 1.1817\n",
      "[20]\tvalid_0's l2: 3.01631\tvalid_0's l1: 1.15287\n",
      "[21]\tvalid_0's l2: 2.9456\tvalid_0's l1: 1.13443\n",
      "[22]\tvalid_0's l2: 2.87802\tvalid_0's l1: 1.11389\n",
      "[23]\tvalid_0's l2: 2.82357\tvalid_0's l1: 1.0967\n",
      "[24]\tvalid_0's l2: 2.77453\tvalid_0's l1: 1.07938\n",
      "[25]\tvalid_0's l2: 2.72413\tvalid_0's l1: 1.0638\n",
      "[26]\tvalid_0's l2: 2.68374\tvalid_0's l1: 1.05139\n",
      "[27]\tvalid_0's l2: 2.65097\tvalid_0's l1: 1.04014\n",
      "[28]\tvalid_0's l2: 2.62098\tvalid_0's l1: 1.03008\n",
      "[29]\tvalid_0's l2: 2.59286\tvalid_0's l1: 1.02084\n",
      "[30]\tvalid_0's l2: 2.56743\tvalid_0's l1: 1.01381\n",
      "[31]\tvalid_0's l2: 2.54203\tvalid_0's l1: 1.00736\n",
      "[32]\tvalid_0's l2: 2.51865\tvalid_0's l1: 1.00115\n",
      "[33]\tvalid_0's l2: 2.4976\tvalid_0's l1: 0.993459\n",
      "[34]\tvalid_0's l2: 2.48175\tvalid_0's l1: 0.987509\n",
      "[35]\tvalid_0's l2: 2.46136\tvalid_0's l1: 0.982245\n",
      "[36]\tvalid_0's l2: 2.44256\tvalid_0's l1: 0.977851\n",
      "[37]\tvalid_0's l2: 2.43016\tvalid_0's l1: 0.97356\n",
      "[38]\tvalid_0's l2: 2.4142\tvalid_0's l1: 0.96955\n",
      "[39]\tvalid_0's l2: 2.40399\tvalid_0's l1: 0.965713\n",
      "[40]\tvalid_0's l2: 2.3897\tvalid_0's l1: 0.962185\n",
      "[41]\tvalid_0's l2: 2.37285\tvalid_0's l1: 0.95738\n",
      "[42]\tvalid_0's l2: 2.36068\tvalid_0's l1: 0.954967\n",
      "[43]\tvalid_0's l2: 2.34918\tvalid_0's l1: 0.952017\n",
      "[44]\tvalid_0's l2: 2.33672\tvalid_0's l1: 0.949529\n",
      "[45]\tvalid_0's l2: 2.32497\tvalid_0's l1: 0.947037\n",
      "[46]\tvalid_0's l2: 2.31243\tvalid_0's l1: 0.942747\n",
      "[47]\tvalid_0's l2: 2.30092\tvalid_0's l1: 0.940629\n",
      "[48]\tvalid_0's l2: 2.29136\tvalid_0's l1: 0.937761\n",
      "[49]\tvalid_0's l2: 2.28067\tvalid_0's l1: 0.935324\n",
      "[50]\tvalid_0's l2: 2.27248\tvalid_0's l1: 0.93134\n",
      "[51]\tvalid_0's l2: 2.26221\tvalid_0's l1: 0.929158\n",
      "[52]\tvalid_0's l2: 2.25358\tvalid_0's l1: 0.925407\n",
      "[53]\tvalid_0's l2: 2.24386\tvalid_0's l1: 0.92323\n",
      "[54]\tvalid_0's l2: 2.23794\tvalid_0's l1: 0.9221\n",
      "[55]\tvalid_0's l2: 2.23172\tvalid_0's l1: 0.919779\n",
      "[56]\tvalid_0's l2: 2.22072\tvalid_0's l1: 0.918248\n",
      "[57]\tvalid_0's l2: 2.2143\tvalid_0's l1: 0.917053\n",
      "[58]\tvalid_0's l2: 2.20616\tvalid_0's l1: 0.915111\n",
      "[59]\tvalid_0's l2: 2.19937\tvalid_0's l1: 0.910013\n",
      "[60]\tvalid_0's l2: 2.19129\tvalid_0's l1: 0.908783\n",
      "[61]\tvalid_0's l2: 2.18301\tvalid_0's l1: 0.907621\n",
      "[62]\tvalid_0's l2: 2.17854\tvalid_0's l1: 0.906805\n",
      "[63]\tvalid_0's l2: 2.17191\tvalid_0's l1: 0.902074\n",
      "[64]\tvalid_0's l2: 2.16786\tvalid_0's l1: 0.901574\n",
      "[65]\tvalid_0's l2: 2.16077\tvalid_0's l1: 0.900531\n",
      "[66]\tvalid_0's l2: 2.15306\tvalid_0's l1: 0.899385\n",
      "[67]\tvalid_0's l2: 2.14445\tvalid_0's l1: 0.898254\n",
      "[68]\tvalid_0's l2: 2.13854\tvalid_0's l1: 0.893671\n",
      "[69]\tvalid_0's l2: 2.13287\tvalid_0's l1: 0.892602\n",
      "[70]\tvalid_0's l2: 2.12894\tvalid_0's l1: 0.892187\n",
      "[71]\tvalid_0's l2: 2.12376\tvalid_0's l1: 0.890911\n",
      "[72]\tvalid_0's l2: 2.11949\tvalid_0's l1: 0.888878\n",
      "[73]\tvalid_0's l2: 2.11557\tvalid_0's l1: 0.886165\n",
      "[74]\tvalid_0's l2: 2.10865\tvalid_0's l1: 0.885192\n",
      "[75]\tvalid_0's l2: 2.10549\tvalid_0's l1: 0.883609\n",
      "[76]\tvalid_0's l2: 2.10136\tvalid_0's l1: 0.88279\n",
      "[77]\tvalid_0's l2: 2.09795\tvalid_0's l1: 0.882353\n",
      "[78]\tvalid_0's l2: 2.09091\tvalid_0's l1: 0.881348\n",
      "[79]\tvalid_0's l2: 2.08747\tvalid_0's l1: 0.878228\n",
      "[80]\tvalid_0's l2: 2.08226\tvalid_0's l1: 0.877159\n",
      "[81]\tvalid_0's l2: 2.07804\tvalid_0's l1: 0.876406\n",
      "[82]\tvalid_0's l2: 2.07347\tvalid_0's l1: 0.87561\n",
      "[83]\tvalid_0's l2: 2.07025\tvalid_0's l1: 0.873329\n",
      "[84]\tvalid_0's l2: 2.06665\tvalid_0's l1: 0.872923\n",
      "[85]\tvalid_0's l2: 2.06382\tvalid_0's l1: 0.872474\n",
      "[86]\tvalid_0's l2: 2.06079\tvalid_0's l1: 0.872264\n",
      "[87]\tvalid_0's l2: 2.05654\tvalid_0's l1: 0.871371\n",
      "[88]\tvalid_0's l2: 2.05388\tvalid_0's l1: 0.871166\n",
      "[89]\tvalid_0's l2: 2.0503\tvalid_0's l1: 0.870906\n",
      "[90]\tvalid_0's l2: 2.04707\tvalid_0's l1: 0.868503\n",
      "[91]\tvalid_0's l2: 2.0449\tvalid_0's l1: 0.868287\n",
      "[92]\tvalid_0's l2: 2.04252\tvalid_0's l1: 0.867775\n",
      "[93]\tvalid_0's l2: 2.04061\tvalid_0's l1: 0.867271\n",
      "[94]\tvalid_0's l2: 2.03738\tvalid_0's l1: 0.866916\n",
      "[95]\tvalid_0's l2: 2.03551\tvalid_0's l1: 0.866207\n",
      "[96]\tvalid_0's l2: 2.03217\tvalid_0's l1: 0.865577\n",
      "[97]\tvalid_0's l2: 2.02927\tvalid_0's l1: 0.865303\n",
      "[98]\tvalid_0's l2: 2.02663\tvalid_0's l1: 0.863465\n",
      "[99]\tvalid_0's l2: 2.02315\tvalid_0's l1: 0.862632\n",
      "[100]\tvalid_0's l2: 2.01943\tvalid_0's l1: 0.861853\n",
      "[101]\tvalid_0's l2: 2.01642\tvalid_0's l1: 0.861522\n",
      "[102]\tvalid_0's l2: 2.01287\tvalid_0's l1: 0.860939\n",
      "[103]\tvalid_0's l2: 2.00957\tvalid_0's l1: 0.8603\n",
      "[104]\tvalid_0's l2: 2.00628\tvalid_0's l1: 0.859725\n",
      "[105]\tvalid_0's l2: 2.00265\tvalid_0's l1: 0.859058\n",
      "[106]\tvalid_0's l2: 2.00036\tvalid_0's l1: 0.857227\n",
      "[107]\tvalid_0's l2: 1.9986\tvalid_0's l1: 0.856991\n",
      "[108]\tvalid_0's l2: 1.99328\tvalid_0's l1: 0.85617\n",
      "[109]\tvalid_0's l2: 1.99111\tvalid_0's l1: 0.854119\n",
      "[110]\tvalid_0's l2: 1.98913\tvalid_0's l1: 0.853469\n",
      "[111]\tvalid_0's l2: 1.98654\tvalid_0's l1: 0.852971\n",
      "[112]\tvalid_0's l2: 1.98507\tvalid_0's l1: 0.851469\n",
      "[113]\tvalid_0's l2: 1.98093\tvalid_0's l1: 0.850827\n",
      "[114]\tvalid_0's l2: 1.97844\tvalid_0's l1: 0.850331\n",
      "[115]\tvalid_0's l2: 1.97612\tvalid_0's l1: 0.850127\n",
      "[116]\tvalid_0's l2: 1.97492\tvalid_0's l1: 0.849762\n",
      "[117]\tvalid_0's l2: 1.97367\tvalid_0's l1: 0.849377\n",
      "[118]\tvalid_0's l2: 1.96979\tvalid_0's l1: 0.84884\n",
      "[119]\tvalid_0's l2: 1.96479\tvalid_0's l1: 0.847961\n",
      "[120]\tvalid_0's l2: 1.96352\tvalid_0's l1: 0.847649\n",
      "[121]\tvalid_0's l2: 1.96156\tvalid_0's l1: 0.847457\n",
      "[122]\tvalid_0's l2: 1.95983\tvalid_0's l1: 0.84708\n",
      "[123]\tvalid_0's l2: 1.95699\tvalid_0's l1: 0.846186\n",
      "[124]\tvalid_0's l2: 1.95512\tvalid_0's l1: 0.845701\n",
      "[125]\tvalid_0's l2: 1.95351\tvalid_0's l1: 0.845558\n",
      "[126]\tvalid_0's l2: 1.95058\tvalid_0's l1: 0.844997\n",
      "[127]\tvalid_0's l2: 1.94554\tvalid_0's l1: 0.844319\n",
      "[128]\tvalid_0's l2: 1.94461\tvalid_0's l1: 0.844\n",
      "[129]\tvalid_0's l2: 1.94115\tvalid_0's l1: 0.843508\n",
      "[130]\tvalid_0's l2: 1.9395\tvalid_0's l1: 0.842285\n",
      "[131]\tvalid_0's l2: 1.93606\tvalid_0's l1: 0.84152\n",
      "[132]\tvalid_0's l2: 1.93459\tvalid_0's l1: 0.841374\n",
      "[133]\tvalid_0's l2: 1.93089\tvalid_0's l1: 0.840736\n",
      "[134]\tvalid_0's l2: 1.9291\tvalid_0's l1: 0.840563\n",
      "[135]\tvalid_0's l2: 1.92804\tvalid_0's l1: 0.839511\n",
      "[136]\tvalid_0's l2: 1.9256\tvalid_0's l1: 0.839001\n",
      "[137]\tvalid_0's l2: 1.92409\tvalid_0's l1: 0.83893\n",
      "[138]\tvalid_0's l2: 1.92121\tvalid_0's l1: 0.838443\n",
      "[139]\tvalid_0's l2: 1.91961\tvalid_0's l1: 0.838343\n",
      "[140]\tvalid_0's l2: 1.91776\tvalid_0's l1: 0.838074\n",
      "[141]\tvalid_0's l2: 1.91576\tvalid_0's l1: 0.837518\n",
      "[142]\tvalid_0's l2: 1.91479\tvalid_0's l1: 0.83746\n",
      "[143]\tvalid_0's l2: 1.91341\tvalid_0's l1: 0.836882\n",
      "[144]\tvalid_0's l2: 1.91201\tvalid_0's l1: 0.835146\n",
      "[145]\tvalid_0's l2: 1.91071\tvalid_0's l1: 0.833841\n",
      "[146]\tvalid_0's l2: 1.9076\tvalid_0's l1: 0.832988\n",
      "[147]\tvalid_0's l2: 1.90686\tvalid_0's l1: 0.832576\n",
      "[148]\tvalid_0's l2: 1.90577\tvalid_0's l1: 0.83241\n",
      "[149]\tvalid_0's l2: 1.90323\tvalid_0's l1: 0.831519\n",
      "[150]\tvalid_0's l2: 1.90176\tvalid_0's l1: 0.831219\n",
      "[151]\tvalid_0's l2: 1.90051\tvalid_0's l1: 0.831106\n",
      "[152]\tvalid_0's l2: 1.89882\tvalid_0's l1: 0.830738\n",
      "[153]\tvalid_0's l2: 1.89739\tvalid_0's l1: 0.830608\n",
      "[154]\tvalid_0's l2: 1.89597\tvalid_0's l1: 0.830331\n",
      "[155]\tvalid_0's l2: 1.8953\tvalid_0's l1: 0.830214\n",
      "[156]\tvalid_0's l2: 1.89419\tvalid_0's l1: 0.829916\n",
      "[157]\tvalid_0's l2: 1.89298\tvalid_0's l1: 0.829653\n",
      "[158]\tvalid_0's l2: 1.89118\tvalid_0's l1: 0.829532\n",
      "[159]\tvalid_0's l2: 1.88895\tvalid_0's l1: 0.828989\n",
      "[160]\tvalid_0's l2: 1.88574\tvalid_0's l1: 0.828164\n",
      "[161]\tvalid_0's l2: 1.88406\tvalid_0's l1: 0.827771\n",
      "[162]\tvalid_0's l2: 1.88341\tvalid_0's l1: 0.827744\n",
      "[163]\tvalid_0's l2: 1.88253\tvalid_0's l1: 0.826662\n",
      "[164]\tvalid_0's l2: 1.88183\tvalid_0's l1: 0.826694\n",
      "[165]\tvalid_0's l2: 1.87981\tvalid_0's l1: 0.82623\n",
      "[166]\tvalid_0's l2: 1.87788\tvalid_0's l1: 0.825982\n",
      "[167]\tvalid_0's l2: 1.87483\tvalid_0's l1: 0.824717\n",
      "[168]\tvalid_0's l2: 1.87381\tvalid_0's l1: 0.823334\n",
      "[169]\tvalid_0's l2: 1.87236\tvalid_0's l1: 0.82298\n",
      "[170]\tvalid_0's l2: 1.87077\tvalid_0's l1: 0.822785\n",
      "[171]\tvalid_0's l2: 1.86912\tvalid_0's l1: 0.822383\n",
      "[172]\tvalid_0's l2: 1.86695\tvalid_0's l1: 0.821972\n",
      "[173]\tvalid_0's l2: 1.86636\tvalid_0's l1: 0.821886\n",
      "[174]\tvalid_0's l2: 1.86567\tvalid_0's l1: 0.821717\n",
      "[175]\tvalid_0's l2: 1.86505\tvalid_0's l1: 0.821573\n",
      "[176]\tvalid_0's l2: 1.86372\tvalid_0's l1: 0.821209\n",
      "[177]\tvalid_0's l2: 1.86145\tvalid_0's l1: 0.820817\n",
      "[178]\tvalid_0's l2: 1.86\tvalid_0's l1: 0.820625\n",
      "[179]\tvalid_0's l2: 1.85864\tvalid_0's l1: 0.820593\n",
      "[180]\tvalid_0's l2: 1.85748\tvalid_0's l1: 0.819686\n",
      "[181]\tvalid_0's l2: 1.85539\tvalid_0's l1: 0.819069\n",
      "[182]\tvalid_0's l2: 1.85457\tvalid_0's l1: 0.818997\n",
      "[183]\tvalid_0's l2: 1.85433\tvalid_0's l1: 0.818991\n"
     ]
    },
    {
     "name": "stdout",
     "output_type": "stream",
     "text": [
      "[184]\tvalid_0's l2: 1.8539\tvalid_0's l1: 0.81891\n",
      "[185]\tvalid_0's l2: 1.85294\tvalid_0's l1: 0.818806\n",
      "[186]\tvalid_0's l2: 1.85215\tvalid_0's l1: 0.818434\n",
      "[187]\tvalid_0's l2: 1.85174\tvalid_0's l1: 0.818384\n",
      "[188]\tvalid_0's l2: 1.85085\tvalid_0's l1: 0.818347\n",
      "[189]\tvalid_0's l2: 1.85036\tvalid_0's l1: 0.818312\n",
      "[190]\tvalid_0's l2: 1.84961\tvalid_0's l1: 0.818111\n",
      "[191]\tvalid_0's l2: 1.84877\tvalid_0's l1: 0.817835\n",
      "[192]\tvalid_0's l2: 1.84758\tvalid_0's l1: 0.81751\n",
      "[193]\tvalid_0's l2: 1.84605\tvalid_0's l1: 0.816994\n",
      "[194]\tvalid_0's l2: 1.84541\tvalid_0's l1: 0.816328\n",
      "[195]\tvalid_0's l2: 1.84515\tvalid_0's l1: 0.816294\n",
      "[196]\tvalid_0's l2: 1.84459\tvalid_0's l1: 0.816161\n",
      "[197]\tvalid_0's l2: 1.84394\tvalid_0's l1: 0.816068\n",
      "[198]\tvalid_0's l2: 1.843\tvalid_0's l1: 0.815701\n",
      "[199]\tvalid_0's l2: 1.8428\tvalid_0's l1: 0.81559\n",
      "[200]\tvalid_0's l2: 1.84069\tvalid_0's l1: 0.814383\n",
      "[201]\tvalid_0's l2: 1.83932\tvalid_0's l1: 0.814064\n",
      "[202]\tvalid_0's l2: 1.83851\tvalid_0's l1: 0.814017\n",
      "[203]\tvalid_0's l2: 1.83726\tvalid_0's l1: 0.813702\n",
      "[204]\tvalid_0's l2: 1.83572\tvalid_0's l1: 0.813456\n",
      "[205]\tvalid_0's l2: 1.83533\tvalid_0's l1: 0.813019\n",
      "[206]\tvalid_0's l2: 1.8343\tvalid_0's l1: 0.812964\n",
      "[207]\tvalid_0's l2: 1.83348\tvalid_0's l1: 0.812921\n",
      "[208]\tvalid_0's l2: 1.83266\tvalid_0's l1: 0.812182\n",
      "[209]\tvalid_0's l2: 1.83188\tvalid_0's l1: 0.812136\n",
      "[210]\tvalid_0's l2: 1.83106\tvalid_0's l1: 0.812052\n",
      "[211]\tvalid_0's l2: 1.83008\tvalid_0's l1: 0.811775\n",
      "[212]\tvalid_0's l2: 1.82962\tvalid_0's l1: 0.81167\n",
      "[213]\tvalid_0's l2: 1.82917\tvalid_0's l1: 0.811462\n",
      "[214]\tvalid_0's l2: 1.82794\tvalid_0's l1: 0.811206\n",
      "[215]\tvalid_0's l2: 1.8273\tvalid_0's l1: 0.810317\n",
      "[216]\tvalid_0's l2: 1.82698\tvalid_0's l1: 0.810263\n",
      "[217]\tvalid_0's l2: 1.82641\tvalid_0's l1: 0.810054\n",
      "[218]\tvalid_0's l2: 1.8249\tvalid_0's l1: 0.809619\n",
      "[219]\tvalid_0's l2: 1.82461\tvalid_0's l1: 0.80955\n",
      "[220]\tvalid_0's l2: 1.82418\tvalid_0's l1: 0.809487\n",
      "[221]\tvalid_0's l2: 1.82332\tvalid_0's l1: 0.80935\n",
      "[222]\tvalid_0's l2: 1.82182\tvalid_0's l1: 0.80903\n",
      "[223]\tvalid_0's l2: 1.8206\tvalid_0's l1: 0.808945\n",
      "[224]\tvalid_0's l2: 1.81957\tvalid_0's l1: 0.808576\n",
      "[225]\tvalid_0's l2: 1.81931\tvalid_0's l1: 0.808485\n",
      "[226]\tvalid_0's l2: 1.81851\tvalid_0's l1: 0.808391\n",
      "[227]\tvalid_0's l2: 1.81804\tvalid_0's l1: 0.808363\n",
      "[228]\tvalid_0's l2: 1.81701\tvalid_0's l1: 0.808166\n",
      "[229]\tvalid_0's l2: 1.81685\tvalid_0's l1: 0.808101\n",
      "[230]\tvalid_0's l2: 1.81633\tvalid_0's l1: 0.807929\n",
      "[231]\tvalid_0's l2: 1.81574\tvalid_0's l1: 0.807905\n",
      "[232]\tvalid_0's l2: 1.81539\tvalid_0's l1: 0.807795\n",
      "[233]\tvalid_0's l2: 1.81459\tvalid_0's l1: 0.806999\n",
      "[234]\tvalid_0's l2: 1.81333\tvalid_0's l1: 0.806752\n",
      "[235]\tvalid_0's l2: 1.8126\tvalid_0's l1: 0.80671\n",
      "[236]\tvalid_0's l2: 1.8113\tvalid_0's l1: 0.806387\n",
      "[237]\tvalid_0's l2: 1.81095\tvalid_0's l1: 0.80626\n",
      "[238]\tvalid_0's l2: 1.8101\tvalid_0's l1: 0.806002\n",
      "[239]\tvalid_0's l2: 1.80884\tvalid_0's l1: 0.805888\n",
      "[240]\tvalid_0's l2: 1.80812\tvalid_0's l1: 0.805684\n",
      "[241]\tvalid_0's l2: 1.80771\tvalid_0's l1: 0.805625\n",
      "[242]\tvalid_0's l2: 1.80625\tvalid_0's l1: 0.805357\n",
      "[243]\tvalid_0's l2: 1.80591\tvalid_0's l1: 0.80534\n",
      "[244]\tvalid_0's l2: 1.80472\tvalid_0's l1: 0.805157\n",
      "[245]\tvalid_0's l2: 1.80421\tvalid_0's l1: 0.805117\n",
      "[246]\tvalid_0's l2: 1.80337\tvalid_0's l1: 0.804867\n",
      "[247]\tvalid_0's l2: 1.80256\tvalid_0's l1: 0.804399\n",
      "[248]\tvalid_0's l2: 1.80244\tvalid_0's l1: 0.804403\n",
      "[249]\tvalid_0's l2: 1.80199\tvalid_0's l1: 0.803787\n",
      "[250]\tvalid_0's l2: 1.80146\tvalid_0's l1: 0.80345\n",
      "[251]\tvalid_0's l2: 1.80057\tvalid_0's l1: 0.803087\n",
      "[252]\tvalid_0's l2: 1.80033\tvalid_0's l1: 0.803089\n",
      "[253]\tvalid_0's l2: 1.80018\tvalid_0's l1: 0.803044\n",
      "[254]\tvalid_0's l2: 1.79967\tvalid_0's l1: 0.802956\n",
      "[255]\tvalid_0's l2: 1.79948\tvalid_0's l1: 0.802875\n",
      "[256]\tvalid_0's l2: 1.79914\tvalid_0's l1: 0.802779\n",
      "[257]\tvalid_0's l2: 1.79861\tvalid_0's l1: 0.802778\n",
      "[258]\tvalid_0's l2: 1.79787\tvalid_0's l1: 0.802731\n",
      "[259]\tvalid_0's l2: 1.79673\tvalid_0's l1: 0.802619\n",
      "[260]\tvalid_0's l2: 1.79644\tvalid_0's l1: 0.802627\n",
      "[261]\tvalid_0's l2: 1.7961\tvalid_0's l1: 0.802593\n",
      "[262]\tvalid_0's l2: 1.79598\tvalid_0's l1: 0.80256\n",
      "[263]\tvalid_0's l2: 1.79586\tvalid_0's l1: 0.802477\n",
      "[264]\tvalid_0's l2: 1.79535\tvalid_0's l1: 0.802188\n",
      "[265]\tvalid_0's l2: 1.79512\tvalid_0's l1: 0.802132\n",
      "[266]\tvalid_0's l2: 1.79421\tvalid_0's l1: 0.801821\n",
      "[267]\tvalid_0's l2: 1.79405\tvalid_0's l1: 0.801769\n",
      "[268]\tvalid_0's l2: 1.79391\tvalid_0's l1: 0.801686\n",
      "[269]\tvalid_0's l2: 1.7935\tvalid_0's l1: 0.801651\n",
      "[270]\tvalid_0's l2: 1.79339\tvalid_0's l1: 0.801587\n",
      "[271]\tvalid_0's l2: 1.79245\tvalid_0's l1: 0.801413\n",
      "[272]\tvalid_0's l2: 1.79209\tvalid_0's l1: 0.801366\n",
      "[273]\tvalid_0's l2: 1.79188\tvalid_0's l1: 0.80133\n",
      "[274]\tvalid_0's l2: 1.79164\tvalid_0's l1: 0.801335\n",
      "[275]\tvalid_0's l2: 1.79163\tvalid_0's l1: 0.801282\n",
      "[276]\tvalid_0's l2: 1.79022\tvalid_0's l1: 0.800765\n",
      "[277]\tvalid_0's l2: 1.78926\tvalid_0's l1: 0.800496\n",
      "[278]\tvalid_0's l2: 1.78899\tvalid_0's l1: 0.800481\n",
      "[279]\tvalid_0's l2: 1.78832\tvalid_0's l1: 0.800453\n",
      "[280]\tvalid_0's l2: 1.78798\tvalid_0's l1: 0.800152\n",
      "[281]\tvalid_0's l2: 1.7876\tvalid_0's l1: 0.799958\n",
      "[282]\tvalid_0's l2: 1.78698\tvalid_0's l1: 0.799901\n",
      "[283]\tvalid_0's l2: 1.78621\tvalid_0's l1: 0.799752\n",
      "[284]\tvalid_0's l2: 1.78586\tvalid_0's l1: 0.799586\n",
      "[285]\tvalid_0's l2: 1.78472\tvalid_0's l1: 0.799474\n",
      "[286]\tvalid_0's l2: 1.78414\tvalid_0's l1: 0.799304\n",
      "[287]\tvalid_0's l2: 1.78412\tvalid_0's l1: 0.799294\n",
      "[288]\tvalid_0's l2: 1.78384\tvalid_0's l1: 0.799002\n",
      "[289]\tvalid_0's l2: 1.78332\tvalid_0's l1: 0.798872\n",
      "[290]\tvalid_0's l2: 1.78332\tvalid_0's l1: 0.798887\n",
      "[291]\tvalid_0's l2: 1.78299\tvalid_0's l1: 0.798813\n",
      "[292]\tvalid_0's l2: 1.78275\tvalid_0's l1: 0.798736\n",
      "[293]\tvalid_0's l2: 1.78234\tvalid_0's l1: 0.798722\n",
      "[294]\tvalid_0's l2: 1.78185\tvalid_0's l1: 0.798592\n",
      "[295]\tvalid_0's l2: 1.78163\tvalid_0's l1: 0.798552\n",
      "[296]\tvalid_0's l2: 1.78073\tvalid_0's l1: 0.798389\n",
      "[297]\tvalid_0's l2: 1.78008\tvalid_0's l1: 0.798277\n",
      "[298]\tvalid_0's l2: 1.77937\tvalid_0's l1: 0.798094\n",
      "[299]\tvalid_0's l2: 1.77887\tvalid_0's l1: 0.797844\n",
      "[300]\tvalid_0's l2: 1.77856\tvalid_0's l1: 0.797645\n",
      "Did not meet early stopping. Best iteration is:\n",
      "[300]\tvalid_0's l2: 1.77856\tvalid_0's l1: 0.797645\n",
      "Test RMSE : 1.33\n",
      "Train RMSE : 1.33\n",
      "Test RMSE: 1.33 , Train RMSE 1.33 for LightGBM!!\n"
     ]
    }
   ],
   "source": [
    "lgbm_model_loan_df = pd.read_pickle('loan_df_train_model_ready.pkl')\n",
    "\n",
    "#X2 and X3 are ids and can be removed from the model\n",
    "lgbm_model_loan_df = lgbm_model_loan_df.drop(['X2'],axis=1)\n",
    "lgbm_model_loan_df = lgbm_model_loan_df.drop(['X3'],axis=1)\n",
    "\n",
    "#Create train and response dataset\n",
    "x = lgbm_model_loan_df.drop(['X1'],axis=1)\n",
    "y = lgbm_model_loan_df['X1']\n",
    "print(x.shape,y.shape)\n",
    "\n",
    "x_train,x_test,y_train,y_test = train_test_split(x,y,test_size=.3)\n",
    "print(x_train.shape,y_train.shape,x_test.shape,y_test.shape)\n",
    "\n",
    "# create dataset for lightgbm\n",
    "lgb_train = lgb.Dataset(x_train, y_train)\n",
    "lgb_eval = lgb.Dataset(x_test, y_test, reference=lgb_train)\n",
    "\n",
    "# specify your configurations as a dict\n",
    "params = {\n",
    "    'boosting_type': 'gbdt',\n",
    "    'objective': 'regression',\n",
    "    'metric': {'l2', 'l1'},\n",
    "    'num_leaves': 8,\n",
    "    'learning_rate': 0.1,\n",
    "    'feature_fraction': 0.9,\n",
    "    'bagging_fraction': 0.8,\n",
    "    'bagging_freq': 5,\n",
    "    'verbose': 0\n",
    "}\n",
    "\n",
    "print('Starting training...')\n",
    "# train\n",
    "lgbm_model1 = lgb.train(params,\n",
    "                lgb_train,\n",
    "                num_boost_round=300,\n",
    "                valid_sets=lgb_eval,\n",
    "                early_stopping_rounds=5)\n",
    "\n",
    "\n",
    "lgbm_rmse_scores = predict(lgbm_model1)\n",
    "print('Test RMSE: {} , Train RMSE {} for LightGBM!!'.format(round(lgbm_rmse_scores[0],2),\n",
    "                                                               round(lgbm_rmse_scores[1],2)))\n"
   ]
  },
  {
   "cell_type": "code",
   "execution_count": 53,
   "metadata": {},
   "outputs": [
    {
     "name": "stdout",
     "output_type": "stream",
     "text": [
      "Test RMSE : 1.33\n",
      "Train RMSE : 1.33\n",
      "Test RMSE: 1.33 , Train RMSE 1.33 for LightGBM!!\n"
     ]
    }
   ],
   "source": [
    "lgbm_rmse_scores = predict(lgbm_model1)\n",
    "print('Test RMSE: {} , Train RMSE {} for LightGBM!!'.format(round(lgbm_rmse_scores[0],2),\n",
    "                                                               round(lgbm_rmse_scores[1],2)))"
   ]
  },
  {
   "cell_type": "code",
   "execution_count": null,
   "metadata": {},
   "outputs": [],
   "source": [
    "y_pred = np.round(y_pred,2)\n",
    "result_comparison = pd.DataFrame({'Predicted':y_pred,'Actual':y_test})\n",
    "result_comparison.tail(20)"
   ]
  },
  {
   "cell_type": "markdown",
   "metadata": {},
   "source": [
    "## Trying Standardization of Continous Features"
   ]
  },
  {
   "cell_type": "markdown",
   "metadata": {},
   "source": [
    "### LGBM"
   ]
  },
  {
   "cell_type": "code",
   "execution_count": 60,
   "metadata": {},
   "outputs": [],
   "source": [
    "def standardizeColumn(col):\n",
    "    \"\"\"\n",
    "    Calculate and return the standardized column\n",
    "    \"\"\"\n",
    "    result = (col - np.mean(col))/np.std(col)\n",
    "    return result"
   ]
  },
  {
   "cell_type": "code",
   "execution_count": 62,
   "metadata": {},
   "outputs": [
    {
     "name": "stdout",
     "output_type": "stream",
     "text": [
      "(338989, 28) (338989,)\n",
      "(237292, 28) (237292,) (101697, 28) (101697,)\n",
      "Starting training...\n",
      "[1]\tvalid_0's l2: 16.2374\tvalid_0's l1: 3.21886\n",
      "Training until validation scores don't improve for 5 rounds.\n",
      "[2]\tvalid_0's l2: 13.8321\tvalid_0's l1: 2.9582\n",
      "[3]\tvalid_0's l2: 11.8739\tvalid_0's l1: 2.72676\n",
      "[4]\tvalid_0's l2: 10.2622\tvalid_0's l1: 2.51893\n",
      "[5]\tvalid_0's l2: 8.93061\tvalid_0's l1: 2.34043\n",
      "[6]\tvalid_0's l2: 7.84125\tvalid_0's l1: 2.18529\n",
      "[7]\tvalid_0's l2: 6.9398\tvalid_0's l1: 2.03638\n",
      "[8]\tvalid_0's l2: 6.20045\tvalid_0's l1: 1.91114\n",
      "[9]\tvalid_0's l2: 5.5918\tvalid_0's l1: 1.79708\n",
      "[10]\tvalid_0's l2: 5.09592\tvalid_0's l1: 1.69745\n",
      "[11]\tvalid_0's l2: 4.67797\tvalid_0's l1: 1.60858\n",
      "[12]\tvalid_0's l2: 4.34406\tvalid_0's l1: 1.52933\n",
      "[13]\tvalid_0's l2: 4.0506\tvalid_0's l1: 1.45785\n",
      "[14]\tvalid_0's l2: 3.80536\tvalid_0's l1: 1.39195\n",
      "[15]\tvalid_0's l2: 3.6106\tvalid_0's l1: 1.33874\n",
      "[16]\tvalid_0's l2: 3.43541\tvalid_0's l1: 1.29084\n",
      "[17]\tvalid_0's l2: 3.29984\tvalid_0's l1: 1.25134\n",
      "[18]\tvalid_0's l2: 3.18458\tvalid_0's l1: 1.21659\n",
      "[19]\tvalid_0's l2: 3.08382\tvalid_0's l1: 1.1855\n",
      "[20]\tvalid_0's l2: 3.00157\tvalid_0's l1: 1.15496\n",
      "[21]\tvalid_0's l2: 2.92817\tvalid_0's l1: 1.12992\n",
      "[22]\tvalid_0's l2: 2.8658\tvalid_0's l1: 1.10924\n",
      "[23]\tvalid_0's l2: 2.81807\tvalid_0's l1: 1.09386\n",
      "[24]\tvalid_0's l2: 2.76865\tvalid_0's l1: 1.07856\n",
      "[25]\tvalid_0's l2: 2.72945\tvalid_0's l1: 1.06731\n",
      "[26]\tvalid_0's l2: 2.68995\tvalid_0's l1: 1.05338\n",
      "[27]\tvalid_0's l2: 2.64746\tvalid_0's l1: 1.03975\n",
      "[28]\tvalid_0's l2: 2.61916\tvalid_0's l1: 1.02987\n",
      "[29]\tvalid_0's l2: 2.59158\tvalid_0's l1: 1.02122\n",
      "[30]\tvalid_0's l2: 2.56614\tvalid_0's l1: 1.01301\n",
      "[31]\tvalid_0's l2: 2.54141\tvalid_0's l1: 1.0075\n",
      "[32]\tvalid_0's l2: 2.51933\tvalid_0's l1: 1.00087\n",
      "[33]\tvalid_0's l2: 2.50134\tvalid_0's l1: 0.993812\n",
      "[34]\tvalid_0's l2: 2.48272\tvalid_0's l1: 0.987566\n",
      "[35]\tvalid_0's l2: 2.46693\tvalid_0's l1: 0.982183\n",
      "[36]\tvalid_0's l2: 2.44845\tvalid_0's l1: 0.976326\n",
      "[37]\tvalid_0's l2: 2.43559\tvalid_0's l1: 0.971773\n",
      "[38]\tvalid_0's l2: 2.4197\tvalid_0's l1: 0.968893\n",
      "[39]\tvalid_0's l2: 2.40262\tvalid_0's l1: 0.964029\n",
      "[40]\tvalid_0's l2: 2.38656\tvalid_0's l1: 0.959782\n",
      "[41]\tvalid_0's l2: 2.3752\tvalid_0's l1: 0.956388\n",
      "[42]\tvalid_0's l2: 2.36329\tvalid_0's l1: 0.953557\n",
      "[43]\tvalid_0's l2: 2.35228\tvalid_0's l1: 0.949141\n",
      "[44]\tvalid_0's l2: 2.33891\tvalid_0's l1: 0.946698\n",
      "[45]\tvalid_0's l2: 2.32673\tvalid_0's l1: 0.944013\n",
      "[46]\tvalid_0's l2: 2.31626\tvalid_0's l1: 0.941342\n",
      "[47]\tvalid_0's l2: 2.30779\tvalid_0's l1: 0.935076\n",
      "[48]\tvalid_0's l2: 2.29877\tvalid_0's l1: 0.932851\n",
      "[49]\tvalid_0's l2: 2.28806\tvalid_0's l1: 0.930697\n",
      "[50]\tvalid_0's l2: 2.27983\tvalid_0's l1: 0.929359\n",
      "[51]\tvalid_0's l2: 2.27079\tvalid_0's l1: 0.927947\n",
      "[52]\tvalid_0's l2: 2.26057\tvalid_0's l1: 0.926224\n",
      "[53]\tvalid_0's l2: 2.25362\tvalid_0's l1: 0.921508\n",
      "[54]\tvalid_0's l2: 2.24484\tvalid_0's l1: 0.919423\n",
      "[55]\tvalid_0's l2: 2.23759\tvalid_0's l1: 0.918558\n",
      "[56]\tvalid_0's l2: 2.23006\tvalid_0's l1: 0.917529\n",
      "[57]\tvalid_0's l2: 2.22264\tvalid_0's l1: 0.916509\n",
      "[58]\tvalid_0's l2: 2.21642\tvalid_0's l1: 0.912075\n",
      "[59]\tvalid_0's l2: 2.20452\tvalid_0's l1: 0.910617\n",
      "[60]\tvalid_0's l2: 2.19931\tvalid_0's l1: 0.909287\n",
      "[61]\tvalid_0's l2: 2.19377\tvalid_0's l1: 0.9045\n",
      "[62]\tvalid_0's l2: 2.18616\tvalid_0's l1: 0.903454\n",
      "[63]\tvalid_0's l2: 2.1793\tvalid_0's l1: 0.902241\n",
      "[64]\tvalid_0's l2: 2.17308\tvalid_0's l1: 0.900119\n",
      "[65]\tvalid_0's l2: 2.1674\tvalid_0's l1: 0.89828\n",
      "[66]\tvalid_0's l2: 2.16187\tvalid_0's l1: 0.897296\n",
      "[67]\tvalid_0's l2: 2.15638\tvalid_0's l1: 0.896552\n",
      "[68]\tvalid_0's l2: 2.15226\tvalid_0's l1: 0.895122\n",
      "[69]\tvalid_0's l2: 2.14801\tvalid_0's l1: 0.894221\n",
      "[70]\tvalid_0's l2: 2.14308\tvalid_0's l1: 0.893559\n",
      "[71]\tvalid_0's l2: 2.13815\tvalid_0's l1: 0.890048\n",
      "[72]\tvalid_0's l2: 2.13244\tvalid_0's l1: 0.889215\n",
      "[73]\tvalid_0's l2: 2.12783\tvalid_0's l1: 0.888659\n",
      "[74]\tvalid_0's l2: 2.12382\tvalid_0's l1: 0.886281\n",
      "[75]\tvalid_0's l2: 2.12053\tvalid_0's l1: 0.885331\n",
      "[76]\tvalid_0's l2: 2.11724\tvalid_0's l1: 0.884818\n",
      "[77]\tvalid_0's l2: 2.11074\tvalid_0's l1: 0.883971\n",
      "[78]\tvalid_0's l2: 2.10655\tvalid_0's l1: 0.880984\n",
      "[79]\tvalid_0's l2: 2.10159\tvalid_0's l1: 0.879299\n",
      "[80]\tvalid_0's l2: 2.09791\tvalid_0's l1: 0.878819\n",
      "[81]\tvalid_0's l2: 2.09386\tvalid_0's l1: 0.878053\n",
      "[82]\tvalid_0's l2: 2.09067\tvalid_0's l1: 0.877858\n",
      "[83]\tvalid_0's l2: 2.08574\tvalid_0's l1: 0.877234\n",
      "[84]\tvalid_0's l2: 2.08327\tvalid_0's l1: 0.87691\n",
      "[85]\tvalid_0's l2: 2.08102\tvalid_0's l1: 0.876669\n",
      "[86]\tvalid_0's l2: 2.07823\tvalid_0's l1: 0.876264\n",
      "[87]\tvalid_0's l2: 2.07504\tvalid_0's l1: 0.875527\n",
      "[88]\tvalid_0's l2: 2.07146\tvalid_0's l1: 0.874908\n",
      "[89]\tvalid_0's l2: 2.06896\tvalid_0's l1: 0.874076\n",
      "[90]\tvalid_0's l2: 2.0658\tvalid_0's l1: 0.871205\n",
      "[91]\tvalid_0's l2: 2.06367\tvalid_0's l1: 0.870998\n",
      "[92]\tvalid_0's l2: 2.06044\tvalid_0's l1: 0.870368\n",
      "[93]\tvalid_0's l2: 2.05793\tvalid_0's l1: 0.869821\n",
      "[94]\tvalid_0's l2: 2.05556\tvalid_0's l1: 0.867799\n",
      "[95]\tvalid_0's l2: 2.05226\tvalid_0's l1: 0.86723\n",
      "[96]\tvalid_0's l2: 2.04982\tvalid_0's l1: 0.866854\n",
      "[97]\tvalid_0's l2: 2.04573\tvalid_0's l1: 0.866483\n",
      "[98]\tvalid_0's l2: 2.04351\tvalid_0's l1: 0.866287\n",
      "[99]\tvalid_0's l2: 2.04162\tvalid_0's l1: 0.864557\n",
      "[100]\tvalid_0's l2: 2.0395\tvalid_0's l1: 0.86439\n",
      "[101]\tvalid_0's l2: 2.03576\tvalid_0's l1: 0.863977\n",
      "[102]\tvalid_0's l2: 2.03438\tvalid_0's l1: 0.863598\n",
      "[103]\tvalid_0's l2: 2.02954\tvalid_0's l1: 0.862709\n",
      "[104]\tvalid_0's l2: 2.02819\tvalid_0's l1: 0.862194\n",
      "[105]\tvalid_0's l2: 2.02468\tvalid_0's l1: 0.861127\n",
      "[106]\tvalid_0's l2: 2.02274\tvalid_0's l1: 0.86062\n",
      "[107]\tvalid_0's l2: 2.02016\tvalid_0's l1: 0.860273\n",
      "[108]\tvalid_0's l2: 2.01458\tvalid_0's l1: 0.85923\n",
      "[109]\tvalid_0's l2: 2.01244\tvalid_0's l1: 0.859046\n",
      "[110]\tvalid_0's l2: 2.01135\tvalid_0's l1: 0.85899\n",
      "[111]\tvalid_0's l2: 2.00808\tvalid_0's l1: 0.85669\n",
      "[112]\tvalid_0's l2: 2.00406\tvalid_0's l1: 0.855984\n",
      "[113]\tvalid_0's l2: 2.0004\tvalid_0's l1: 0.855498\n",
      "[114]\tvalid_0's l2: 1.99593\tvalid_0's l1: 0.854772\n",
      "[115]\tvalid_0's l2: 1.99469\tvalid_0's l1: 0.854444\n",
      "[116]\tvalid_0's l2: 1.99194\tvalid_0's l1: 0.85391\n",
      "[117]\tvalid_0's l2: 1.99078\tvalid_0's l1: 0.853914\n",
      "[118]\tvalid_0's l2: 1.98906\tvalid_0's l1: 0.853758\n",
      "[119]\tvalid_0's l2: 1.98776\tvalid_0's l1: 0.853129\n",
      "[120]\tvalid_0's l2: 1.98603\tvalid_0's l1: 0.851598\n",
      "[121]\tvalid_0's l2: 1.98301\tvalid_0's l1: 0.851026\n",
      "[122]\tvalid_0's l2: 1.98076\tvalid_0's l1: 0.850576\n",
      "[123]\tvalid_0's l2: 1.97815\tvalid_0's l1: 0.848652\n",
      "[124]\tvalid_0's l2: 1.97581\tvalid_0's l1: 0.84827\n",
      "[125]\tvalid_0's l2: 1.97435\tvalid_0's l1: 0.847981\n",
      "[126]\tvalid_0's l2: 1.97216\tvalid_0's l1: 0.8477\n",
      "[127]\tvalid_0's l2: 1.97111\tvalid_0's l1: 0.847616\n",
      "[128]\tvalid_0's l2: 1.96725\tvalid_0's l1: 0.846985\n",
      "[129]\tvalid_0's l2: 1.96553\tvalid_0's l1: 0.846175\n",
      "[130]\tvalid_0's l2: 1.96362\tvalid_0's l1: 0.845664\n",
      "[131]\tvalid_0's l2: 1.96162\tvalid_0's l1: 0.845461\n",
      "[132]\tvalid_0's l2: 1.95865\tvalid_0's l1: 0.844968\n",
      "[133]\tvalid_0's l2: 1.9555\tvalid_0's l1: 0.844493\n",
      "[134]\tvalid_0's l2: 1.95363\tvalid_0's l1: 0.844128\n",
      "[135]\tvalid_0's l2: 1.95222\tvalid_0's l1: 0.844036\n",
      "[136]\tvalid_0's l2: 1.95092\tvalid_0's l1: 0.84257\n",
      "[137]\tvalid_0's l2: 1.94962\tvalid_0's l1: 0.841272\n",
      "[138]\tvalid_0's l2: 1.94905\tvalid_0's l1: 0.841246\n",
      "[139]\tvalid_0's l2: 1.94783\tvalid_0's l1: 0.841215\n",
      "[140]\tvalid_0's l2: 1.94692\tvalid_0's l1: 0.841197\n",
      "[141]\tvalid_0's l2: 1.94483\tvalid_0's l1: 0.840724\n",
      "[142]\tvalid_0's l2: 1.94301\tvalid_0's l1: 0.839818\n",
      "[143]\tvalid_0's l2: 1.9416\tvalid_0's l1: 0.839474\n",
      "[144]\tvalid_0's l2: 1.94036\tvalid_0's l1: 0.839303\n",
      "[145]\tvalid_0's l2: 1.93907\tvalid_0's l1: 0.837975\n",
      "[146]\tvalid_0's l2: 1.93793\tvalid_0's l1: 0.837948\n",
      "[147]\tvalid_0's l2: 1.93653\tvalid_0's l1: 0.837502\n",
      "[148]\tvalid_0's l2: 1.93505\tvalid_0's l1: 0.837156\n",
      "[149]\tvalid_0's l2: 1.93426\tvalid_0's l1: 0.83695\n",
      "[150]\tvalid_0's l2: 1.93321\tvalid_0's l1: 0.836892\n",
      "[151]\tvalid_0's l2: 1.93228\tvalid_0's l1: 0.836704\n",
      "[152]\tvalid_0's l2: 1.92848\tvalid_0's l1: 0.836088\n",
      "[153]\tvalid_0's l2: 1.92644\tvalid_0's l1: 0.835784\n",
      "[154]\tvalid_0's l2: 1.92422\tvalid_0's l1: 0.835357\n",
      "[155]\tvalid_0's l2: 1.92287\tvalid_0's l1: 0.834767\n",
      "[156]\tvalid_0's l2: 1.9201\tvalid_0's l1: 0.834186\n",
      "[157]\tvalid_0's l2: 1.91839\tvalid_0's l1: 0.833176\n",
      "[158]\tvalid_0's l2: 1.91773\tvalid_0's l1: 0.833209\n",
      "[159]\tvalid_0's l2: 1.91626\tvalid_0's l1: 0.83283\n",
      "[160]\tvalid_0's l2: 1.91566\tvalid_0's l1: 0.832794\n",
      "[161]\tvalid_0's l2: 1.91361\tvalid_0's l1: 0.832616\n",
      "[162]\tvalid_0's l2: 1.91192\tvalid_0's l1: 0.832441\n",
      "[163]\tvalid_0's l2: 1.91063\tvalid_0's l1: 0.832269\n",
      "[164]\tvalid_0's l2: 1.90948\tvalid_0's l1: 0.831257\n",
      "[165]\tvalid_0's l2: 1.90786\tvalid_0's l1: 0.83083\n"
     ]
    },
    {
     "name": "stdout",
     "output_type": "stream",
     "text": [
      "[166]\tvalid_0's l2: 1.90647\tvalid_0's l1: 0.830552\n",
      "[167]\tvalid_0's l2: 1.9024\tvalid_0's l1: 0.829496\n",
      "[168]\tvalid_0's l2: 1.90167\tvalid_0's l1: 0.829334\n",
      "[169]\tvalid_0's l2: 1.90057\tvalid_0's l1: 0.829214\n",
      "[170]\tvalid_0's l2: 1.89853\tvalid_0's l1: 0.828863\n",
      "[171]\tvalid_0's l2: 1.89748\tvalid_0's l1: 0.828814\n",
      "[172]\tvalid_0's l2: 1.89641\tvalid_0's l1: 0.827464\n",
      "[173]\tvalid_0's l2: 1.89598\tvalid_0's l1: 0.827421\n",
      "[174]\tvalid_0's l2: 1.89538\tvalid_0's l1: 0.827296\n",
      "[175]\tvalid_0's l2: 1.89245\tvalid_0's l1: 0.826554\n",
      "[176]\tvalid_0's l2: 1.89047\tvalid_0's l1: 0.826133\n",
      "[177]\tvalid_0's l2: 1.88987\tvalid_0's l1: 0.826101\n",
      "[178]\tvalid_0's l2: 1.88804\tvalid_0's l1: 0.825702\n",
      "[179]\tvalid_0's l2: 1.88755\tvalid_0's l1: 0.825714\n",
      "[180]\tvalid_0's l2: 1.88711\tvalid_0's l1: 0.825412\n",
      "[181]\tvalid_0's l2: 1.88596\tvalid_0's l1: 0.825287\n",
      "[182]\tvalid_0's l2: 1.88361\tvalid_0's l1: 0.824903\n",
      "[183]\tvalid_0's l2: 1.88303\tvalid_0's l1: 0.824874\n",
      "[184]\tvalid_0's l2: 1.88195\tvalid_0's l1: 0.823707\n",
      "[185]\tvalid_0's l2: 1.8817\tvalid_0's l1: 0.823635\n",
      "[186]\tvalid_0's l2: 1.88111\tvalid_0's l1: 0.823509\n",
      "[187]\tvalid_0's l2: 1.87927\tvalid_0's l1: 0.823092\n",
      "[188]\tvalid_0's l2: 1.87804\tvalid_0's l1: 0.822783\n",
      "[189]\tvalid_0's l2: 1.87605\tvalid_0's l1: 0.822364\n",
      "[190]\tvalid_0's l2: 1.87455\tvalid_0's l1: 0.821942\n",
      "[191]\tvalid_0's l2: 1.874\tvalid_0's l1: 0.821673\n",
      "[192]\tvalid_0's l2: 1.87307\tvalid_0's l1: 0.821626\n",
      "[193]\tvalid_0's l2: 1.87282\tvalid_0's l1: 0.821487\n",
      "[194]\tvalid_0's l2: 1.87138\tvalid_0's l1: 0.821146\n",
      "[195]\tvalid_0's l2: 1.87078\tvalid_0's l1: 0.820465\n",
      "[196]\tvalid_0's l2: 1.87005\tvalid_0's l1: 0.820193\n",
      "[197]\tvalid_0's l2: 1.86959\tvalid_0's l1: 0.820174\n",
      "[198]\tvalid_0's l2: 1.86868\tvalid_0's l1: 0.820034\n",
      "[199]\tvalid_0's l2: 1.86753\tvalid_0's l1: 0.819527\n",
      "[200]\tvalid_0's l2: 1.86669\tvalid_0's l1: 0.818792\n",
      "[201]\tvalid_0's l2: 1.86601\tvalid_0's l1: 0.818626\n",
      "[202]\tvalid_0's l2: 1.86426\tvalid_0's l1: 0.817993\n",
      "[203]\tvalid_0's l2: 1.86382\tvalid_0's l1: 0.817453\n",
      "[204]\tvalid_0's l2: 1.86347\tvalid_0's l1: 0.817476\n",
      "[205]\tvalid_0's l2: 1.86321\tvalid_0's l1: 0.817486\n",
      "[206]\tvalid_0's l2: 1.86274\tvalid_0's l1: 0.817385\n",
      "[207]\tvalid_0's l2: 1.86234\tvalid_0's l1: 0.817344\n",
      "[208]\tvalid_0's l2: 1.86128\tvalid_0's l1: 0.817126\n",
      "[209]\tvalid_0's l2: 1.86074\tvalid_0's l1: 0.81699\n",
      "[210]\tvalid_0's l2: 1.86008\tvalid_0's l1: 0.816415\n",
      "[211]\tvalid_0's l2: 1.85907\tvalid_0's l1: 0.816257\n",
      "[212]\tvalid_0's l2: 1.85829\tvalid_0's l1: 0.81621\n",
      "[213]\tvalid_0's l2: 1.85711\tvalid_0's l1: 0.81589\n",
      "[214]\tvalid_0's l2: 1.85684\tvalid_0's l1: 0.815615\n",
      "[215]\tvalid_0's l2: 1.85569\tvalid_0's l1: 0.815418\n",
      "[216]\tvalid_0's l2: 1.85478\tvalid_0's l1: 0.815383\n",
      "[217]\tvalid_0's l2: 1.85422\tvalid_0's l1: 0.814873\n",
      "[218]\tvalid_0's l2: 1.85253\tvalid_0's l1: 0.814398\n",
      "[219]\tvalid_0's l2: 1.85181\tvalid_0's l1: 0.81421\n",
      "[220]\tvalid_0's l2: 1.8514\tvalid_0's l1: 0.814033\n",
      "[221]\tvalid_0's l2: 1.8512\tvalid_0's l1: 0.813977\n",
      "[222]\tvalid_0's l2: 1.85035\tvalid_0's l1: 0.81377\n",
      "[223]\tvalid_0's l2: 1.84931\tvalid_0's l1: 0.813511\n",
      "[224]\tvalid_0's l2: 1.84918\tvalid_0's l1: 0.813451\n",
      "[225]\tvalid_0's l2: 1.84778\tvalid_0's l1: 0.813307\n",
      "[226]\tvalid_0's l2: 1.84751\tvalid_0's l1: 0.813259\n",
      "[227]\tvalid_0's l2: 1.84661\tvalid_0's l1: 0.81321\n",
      "[228]\tvalid_0's l2: 1.84572\tvalid_0's l1: 0.81314\n",
      "[229]\tvalid_0's l2: 1.84572\tvalid_0's l1: 0.813062\n",
      "[230]\tvalid_0's l2: 1.84561\tvalid_0's l1: 0.813089\n",
      "[231]\tvalid_0's l2: 1.84529\tvalid_0's l1: 0.813049\n",
      "[232]\tvalid_0's l2: 1.84401\tvalid_0's l1: 0.812631\n",
      "[233]\tvalid_0's l2: 1.84393\tvalid_0's l1: 0.812621\n",
      "[234]\tvalid_0's l2: 1.84382\tvalid_0's l1: 0.812595\n",
      "[235]\tvalid_0's l2: 1.84347\tvalid_0's l1: 0.812601\n",
      "[236]\tvalid_0's l2: 1.84304\tvalid_0's l1: 0.812457\n",
      "[237]\tvalid_0's l2: 1.84255\tvalid_0's l1: 0.812321\n",
      "[238]\tvalid_0's l2: 1.84232\tvalid_0's l1: 0.812265\n",
      "[239]\tvalid_0's l2: 1.84176\tvalid_0's l1: 0.811898\n",
      "[240]\tvalid_0's l2: 1.84092\tvalid_0's l1: 0.811698\n",
      "[241]\tvalid_0's l2: 1.83998\tvalid_0's l1: 0.811444\n",
      "[242]\tvalid_0's l2: 1.83881\tvalid_0's l1: 0.81118\n",
      "[243]\tvalid_0's l2: 1.83823\tvalid_0's l1: 0.810667\n",
      "[244]\tvalid_0's l2: 1.83798\tvalid_0's l1: 0.810587\n",
      "[245]\tvalid_0's l2: 1.83783\tvalid_0's l1: 0.810585\n",
      "[246]\tvalid_0's l2: 1.8372\tvalid_0's l1: 0.810538\n",
      "[247]\tvalid_0's l2: 1.83598\tvalid_0's l1: 0.810409\n",
      "[248]\tvalid_0's l2: 1.83554\tvalid_0's l1: 0.810336\n",
      "[249]\tvalid_0's l2: 1.83506\tvalid_0's l1: 0.80991\n",
      "[250]\tvalid_0's l2: 1.83412\tvalid_0's l1: 0.809818\n",
      "[251]\tvalid_0's l2: 1.83347\tvalid_0's l1: 0.809808\n",
      "[252]\tvalid_0's l2: 1.83335\tvalid_0's l1: 0.809747\n",
      "[253]\tvalid_0's l2: 1.83328\tvalid_0's l1: 0.809698\n",
      "[254]\tvalid_0's l2: 1.83302\tvalid_0's l1: 0.809678\n",
      "[255]\tvalid_0's l2: 1.83225\tvalid_0's l1: 0.809593\n",
      "[256]\tvalid_0's l2: 1.83181\tvalid_0's l1: 0.809567\n",
      "[257]\tvalid_0's l2: 1.83168\tvalid_0's l1: 0.809402\n",
      "[258]\tvalid_0's l2: 1.8314\tvalid_0's l1: 0.809423\n",
      "[259]\tvalid_0's l2: 1.83091\tvalid_0's l1: 0.809345\n",
      "[260]\tvalid_0's l2: 1.83001\tvalid_0's l1: 0.809005\n",
      "[261]\tvalid_0's l2: 1.82964\tvalid_0's l1: 0.809014\n",
      "[262]\tvalid_0's l2: 1.82933\tvalid_0's l1: 0.808942\n",
      "[263]\tvalid_0's l2: 1.82903\tvalid_0's l1: 0.808959\n",
      "[264]\tvalid_0's l2: 1.8286\tvalid_0's l1: 0.808857\n",
      "[265]\tvalid_0's l2: 1.82786\tvalid_0's l1: 0.808643\n",
      "[266]\tvalid_0's l2: 1.82777\tvalid_0's l1: 0.808565\n",
      "[267]\tvalid_0's l2: 1.82729\tvalid_0's l1: 0.80845\n",
      "[268]\tvalid_0's l2: 1.82668\tvalid_0's l1: 0.808268\n",
      "[269]\tvalid_0's l2: 1.8261\tvalid_0's l1: 0.807617\n",
      "[270]\tvalid_0's l2: 1.8262\tvalid_0's l1: 0.807606\n",
      "[271]\tvalid_0's l2: 1.82529\tvalid_0's l1: 0.807292\n",
      "[272]\tvalid_0's l2: 1.82393\tvalid_0's l1: 0.807001\n",
      "[273]\tvalid_0's l2: 1.82295\tvalid_0's l1: 0.806769\n",
      "[274]\tvalid_0's l2: 1.82221\tvalid_0's l1: 0.806515\n",
      "[275]\tvalid_0's l2: 1.82181\tvalid_0's l1: 0.806177\n",
      "[276]\tvalid_0's l2: 1.82157\tvalid_0's l1: 0.806152\n",
      "[277]\tvalid_0's l2: 1.82135\tvalid_0's l1: 0.806131\n",
      "[278]\tvalid_0's l2: 1.82079\tvalid_0's l1: 0.805497\n",
      "[279]\tvalid_0's l2: 1.82026\tvalid_0's l1: 0.805454\n",
      "[280]\tvalid_0's l2: 1.82007\tvalid_0's l1: 0.805457\n",
      "[281]\tvalid_0's l2: 1.81988\tvalid_0's l1: 0.805281\n",
      "[282]\tvalid_0's l2: 1.81953\tvalid_0's l1: 0.804924\n",
      "[283]\tvalid_0's l2: 1.81902\tvalid_0's l1: 0.804772\n",
      "[284]\tvalid_0's l2: 1.81741\tvalid_0's l1: 0.804237\n",
      "[285]\tvalid_0's l2: 1.81729\tvalid_0's l1: 0.804226\n",
      "[286]\tvalid_0's l2: 1.81682\tvalid_0's l1: 0.803873\n",
      "[287]\tvalid_0's l2: 1.81589\tvalid_0's l1: 0.803672\n",
      "[288]\tvalid_0's l2: 1.81574\tvalid_0's l1: 0.803622\n",
      "[289]\tvalid_0's l2: 1.8153\tvalid_0's l1: 0.803368\n",
      "[290]\tvalid_0's l2: 1.8152\tvalid_0's l1: 0.803341\n",
      "[291]\tvalid_0's l2: 1.8151\tvalid_0's l1: 0.803296\n",
      "[292]\tvalid_0's l2: 1.8138\tvalid_0's l1: 0.803096\n",
      "[293]\tvalid_0's l2: 1.8134\tvalid_0's l1: 0.802812\n",
      "[294]\tvalid_0's l2: 1.81328\tvalid_0's l1: 0.802754\n",
      "[295]\tvalid_0's l2: 1.81314\tvalid_0's l1: 0.802636\n",
      "[296]\tvalid_0's l2: 1.81195\tvalid_0's l1: 0.802275\n",
      "[297]\tvalid_0's l2: 1.81075\tvalid_0's l1: 0.802023\n",
      "[298]\tvalid_0's l2: 1.81007\tvalid_0's l1: 0.801799\n",
      "[299]\tvalid_0's l2: 1.80968\tvalid_0's l1: 0.801764\n",
      "[300]\tvalid_0's l2: 1.80964\tvalid_0's l1: 0.801683\n",
      "Did not meet early stopping. Best iteration is:\n",
      "[300]\tvalid_0's l2: 1.80964\tvalid_0's l1: 0.801683\n",
      "Test RMSE : 1.35\n",
      "Train RMSE : 1.32\n",
      "Test RMSE: 1.35 , Train RMSE 1.32 for LightGBM!!\n"
     ]
    }
   ],
   "source": [
    "lgbm_model_loan_df = pd.read_pickle('loan_df_train_model_ready.pkl')\n",
    "\n",
    "#X2 and X3 are ids and can be removed from the model\n",
    "lgbm_model_loan_df = lgbm_model_loan_df.drop(['X2'],axis=1)\n",
    "lgbm_model_loan_df = lgbm_model_loan_df.drop(['X3'],axis=1)\n",
    "\n",
    "#Create train and response dataset\n",
    "x = lgbm_model_loan_df.drop(['X1'],axis=1)\n",
    "y = lgbm_model_loan_df['X1']\n",
    "print(x.shape,y.shape)\n",
    "\n",
    "cat_cols = ['X7','X8','X9','X11','X12','X14','X17','X20','X32',\n",
    "            'Issue_Month','Issue_Year','Has_Delinq','Has_PublicRecord']\n",
    "for col in x.columns :\n",
    "    if col not in cat_cols:\n",
    "        x[col]= standardizeColumn(x[col])\n",
    "\n",
    "x_train,x_test,y_train,y_test = train_test_split(x,y,test_size=.3)\n",
    "print(x_train.shape,y_train.shape,x_test.shape,y_test.shape)\n",
    "\n",
    "# create dataset for lightgbm\n",
    "lgb_train = lgb.Dataset(x_train, y_train)\n",
    "lgb_eval = lgb.Dataset(x_test, y_test, reference=lgb_train)\n",
    "\n",
    "# specify your configurations as a dict\n",
    "params = {\n",
    "    'boosting_type': 'gbdt',\n",
    "    'objective': 'regression',\n",
    "    'metric': {'l2', 'l1'},\n",
    "    'num_leaves': 8,\n",
    "    'learning_rate': 0.1,\n",
    "    'feature_fraction': 0.9,\n",
    "    'bagging_fraction': 0.8,\n",
    "    'bagging_freq': 5,\n",
    "    'verbose': 0\n",
    "}\n",
    "\n",
    "print('Starting training...')\n",
    "# train\n",
    "lgbm_model2 = lgb.train(params,\n",
    "                lgb_train,\n",
    "                num_boost_round=300,\n",
    "                valid_sets=lgb_eval,\n",
    "                early_stopping_rounds=5)\n",
    "\n",
    "\n",
    "lgbm2_rmse_scores = predict(lgbm_model2)\n",
    "print('Test RMSE: {} , Train RMSE {} for LightGBM!!'.format(round(lgbm2_rmse_scores[0],2),\n",
    "                                                               round(lgbm2_rmse_scores[1],2)))\n",
    "\n"
   ]
  },
  {
   "cell_type": "markdown",
   "metadata": {},
   "source": [
    "### Random Forest"
   ]
  },
  {
   "cell_type": "code",
   "execution_count": 64,
   "metadata": {},
   "outputs": [
    {
     "name": "stdout",
     "output_type": "stream",
     "text": [
      "(338989, 28) (338989,)\n",
      "(237292, 28) (237292,) (101697, 28) (101697,)\n",
      "Test RMSE : 1.5\n",
      "Train RMSE : 1.49\n",
      "Test RMSE: 1.5 , Train RMSE 1.49 for Random Forest\n"
     ]
    }
   ],
   "source": [
    "rf_model_loan_df = pd.read_pickle('loan_df_train_model_ready.pkl')\n",
    "\n",
    "#X2 and X3 are ids and can be removed from the model\n",
    "rf_model_loan_df = rf_model_loan_df.drop(['X2'],axis=1)\n",
    "rf_model_loan_df = rf_model_loan_df.drop(['X3'],axis=1)\n",
    "\n",
    "#Create train and response dataset\n",
    "x = rf_model_loan_df.drop(['X1'],axis=1)\n",
    "y = rf_model_loan_df['X1']\n",
    "print(x.shape,y.shape)\n",
    "\n",
    "cat_cols = ['X7','X8','X9','X11','X12','X14','X17','X20','X32',\n",
    "            'Issue_Month','Issue_Year','Has_Delinq','Has_PublicRecord']\n",
    "for col in x.columns :\n",
    "    if col not in cat_cols:\n",
    "        x[col]= standardizeColumn(x[col])\n",
    "\n",
    "x_train,x_test,y_train,y_test = train_test_split(x,y,test_size=.3)\n",
    "print(x_train.shape,y_train.shape,x_test.shape,y_test.shape)\n",
    "\n",
    "#create random forest Regressor\n",
    "rf_model2 = RandomForestRegressor(n_estimators=300,max_depth=8,random_state=0,n_jobs=-1)\n",
    "\n",
    "#fit the model\n",
    "rf_model2.fit(x_train,y_train)\n",
    "\n",
    "rf2_rmse_scores = predict(rf_model2)\n",
    "print('Test RMSE: {} , Train RMSE {} for Random Forest'.format(round(rf2_rmse_scores[0],2),round(rf2_rmse_scores[1],2)))"
   ]
  },
  {
   "cell_type": "code",
   "execution_count": null,
   "metadata": {},
   "outputs": [],
   "source": [
    "models = ['Random Forest','GBM','XGBOOST','LightGBM','SVM','SGD','Perceptron',\n",
    "         'Kernel ridge','KNN']"
   ]
  },
  {
   "cell_type": "markdown",
   "metadata": {},
   "source": [
    "## Trying dummy encoding of Categorical variables"
   ]
  },
  {
   "cell_type": "markdown",
   "metadata": {},
   "source": [
    "### Random Forest"
   ]
  },
  {
   "cell_type": "code",
   "execution_count": 71,
   "metadata": {},
   "outputs": [
    {
     "name": "stdout",
     "output_type": "stream",
     "text": [
      "(338989, 28) (338989,)\n",
      "(237292, 161) (237292,) (101697, 161) (101697,)\n",
      "Test RMSE : 1.5\n",
      "Train RMSE : 1.48\n",
      "Test RMSE: 1.5 , Train RMSE 1.48 for Random Forest\n"
     ]
    }
   ],
   "source": [
    "rf_model_loan_df = pd.read_pickle('loan_df_train_model_ready.pkl')\n",
    "\n",
    "#X2 and X3 are ids and can be removed from the model\n",
    "rf_model_loan_df = rf_model_loan_df.drop(['X2'],axis=1)\n",
    "rf_model_loan_df = rf_model_loan_df.drop(['X3'],axis=1)\n",
    "\n",
    "#Create train and response dataset\n",
    "x = rf_model_loan_df.drop(['X1'],axis=1)\n",
    "y = rf_model_loan_df['X1']\n",
    "print(x.shape,y.shape)\n",
    "\n",
    "cat_cols = ['X7','X8','X9','X11','X12','X14','X17','X20','X32',\n",
    "            'Issue_Month','Issue_Year','Has_Delinq','Has_PublicRecord']\n",
    "for col in x.columns :\n",
    "    if col not in cat_cols:\n",
    "        x[col]= standardizeColumn(x[col])\n",
    "        \n",
    "        \n",
    "cat_cols = ['X7','X8','X9','X11','X12','X14','X17','X20',\n",
    "            'Issue_Month','Issue_Year']       \n",
    "x = pd.get_dummies(x,columns=cat_cols)\n",
    "\n",
    "x_train,x_test,y_train,y_test = train_test_split(x,y,test_size=.3)\n",
    "print(x_train.shape,y_train.shape,x_test.shape,y_test.shape)\n",
    "\n",
    "#create random forest Regressor\n",
    "rf_model3 = RandomForestRegressor(n_estimators=200,max_depth=12,random_state=0,n_jobs=4)\n",
    "\n",
    "#fit the model\n",
    "rf_model3.fit(x_train,y_train)\n",
    "\n",
    "rf3_rmse_scores = predict(rf_model3)\n",
    "print('Test RMSE: {} , Train RMSE {} for Random Forest'.format(round(rf3_rmse_scores[0],2),round(rf3_rmse_scores[1],2)))"
   ]
  },
  {
   "cell_type": "markdown",
   "metadata": {},
   "source": [
    "### LGBM"
   ]
  },
  {
   "cell_type": "code",
   "execution_count": 72,
   "metadata": {},
   "outputs": [
    {
     "name": "stdout",
     "output_type": "stream",
     "text": [
      "(338989, 28) (338989,)\n",
      "(237292, 161) (237292,) (101697, 161) (101697,)\n",
      "Starting training...\n",
      "[1]\tvalid_0's l2: 16.8941\tvalid_0's l1: 3.25328\n",
      "Training until validation scores don't improve for 5 rounds.\n",
      "[2]\tvalid_0's l2: 14.3998\tvalid_0's l1: 2.99858\n",
      "[3]\tvalid_0's l2: 12.4293\tvalid_0's l1: 2.79514\n",
      "[4]\tvalid_0's l2: 11.1594\tvalid_0's l1: 2.6161\n",
      "[5]\tvalid_0's l2: 9.74351\tvalid_0's l1: 2.43761\n",
      "[6]\tvalid_0's l2: 8.59328\tvalid_0's l1: 2.28311\n",
      "[7]\tvalid_0's l2: 7.68248\tvalid_0's l1: 2.1549\n",
      "[8]\tvalid_0's l2: 6.91385\tvalid_0's l1: 2.03544\n",
      "[9]\tvalid_0's l2: 6.29026\tvalid_0's l1: 1.93054\n",
      "[10]\tvalid_0's l2: 5.78291\tvalid_0's l1: 1.83342\n",
      "[11]\tvalid_0's l2: 5.35622\tvalid_0's l1: 1.74972\n",
      "[12]\tvalid_0's l2: 5.01105\tvalid_0's l1: 1.67338\n",
      "[13]\tvalid_0's l2: 4.74622\tvalid_0's l1: 1.61259\n",
      "[14]\tvalid_0's l2: 4.49948\tvalid_0's l1: 1.55\n",
      "[15]\tvalid_0's l2: 4.28464\tvalid_0's l1: 1.49553\n",
      "[16]\tvalid_0's l2: 4.10836\tvalid_0's l1: 1.44875\n",
      "[17]\tvalid_0's l2: 3.95677\tvalid_0's l1: 1.41351\n",
      "[18]\tvalid_0's l2: 3.84686\tvalid_0's l1: 1.38583\n",
      "[19]\tvalid_0's l2: 3.76052\tvalid_0's l1: 1.36948\n",
      "[20]\tvalid_0's l2: 3.65106\tvalid_0's l1: 1.33608\n",
      "[21]\tvalid_0's l2: 3.56012\tvalid_0's l1: 1.30921\n",
      "[22]\tvalid_0's l2: 3.4761\tvalid_0's l1: 1.28292\n",
      "[23]\tvalid_0's l2: 3.39659\tvalid_0's l1: 1.25731\n",
      "[24]\tvalid_0's l2: 3.34337\tvalid_0's l1: 1.24846\n",
      "[25]\tvalid_0's l2: 3.28266\tvalid_0's l1: 1.22786\n",
      "[26]\tvalid_0's l2: 3.2377\tvalid_0's l1: 1.21874\n",
      "[27]\tvalid_0's l2: 3.19969\tvalid_0's l1: 1.21124\n",
      "[28]\tvalid_0's l2: 3.14927\tvalid_0's l1: 1.18776\n",
      "[29]\tvalid_0's l2: 3.1094\tvalid_0's l1: 1.17919\n",
      "[30]\tvalid_0's l2: 3.08005\tvalid_0's l1: 1.17017\n",
      "[31]\tvalid_0's l2: 3.04604\tvalid_0's l1: 1.15943\n",
      "[32]\tvalid_0's l2: 3.01417\tvalid_0's l1: 1.15048\n",
      "[33]\tvalid_0's l2: 2.98613\tvalid_0's l1: 1.1392\n",
      "[34]\tvalid_0's l2: 2.95626\tvalid_0's l1: 1.13504\n",
      "[35]\tvalid_0's l2: 2.9273\tvalid_0's l1: 1.11999\n",
      "[36]\tvalid_0's l2: 2.90061\tvalid_0's l1: 1.11033\n",
      "[37]\tvalid_0's l2: 2.88104\tvalid_0's l1: 1.1053\n",
      "[38]\tvalid_0's l2: 2.85823\tvalid_0's l1: 1.10224\n",
      "[39]\tvalid_0's l2: 2.8339\tvalid_0's l1: 1.09656\n",
      "[40]\tvalid_0's l2: 2.81092\tvalid_0's l1: 1.08962\n",
      "[41]\tvalid_0's l2: 2.78997\tvalid_0's l1: 1.07868\n",
      "[42]\tvalid_0's l2: 2.76914\tvalid_0's l1: 1.07491\n",
      "[43]\tvalid_0's l2: 2.74963\tvalid_0's l1: 1.06277\n",
      "[44]\tvalid_0's l2: 2.73302\tvalid_0's l1: 1.05645\n",
      "[45]\tvalid_0's l2: 2.71199\tvalid_0's l1: 1.05361\n",
      "[46]\tvalid_0's l2: 2.69487\tvalid_0's l1: 1.05088\n",
      "[47]\tvalid_0's l2: 2.67435\tvalid_0's l1: 1.04822\n",
      "[48]\tvalid_0's l2: 2.66077\tvalid_0's l1: 1.03883\n",
      "[49]\tvalid_0's l2: 2.63898\tvalid_0's l1: 1.03599\n",
      "[50]\tvalid_0's l2: 2.62316\tvalid_0's l1: 1.03301\n",
      "[51]\tvalid_0's l2: 2.61089\tvalid_0's l1: 1.02764\n",
      "[52]\tvalid_0's l2: 2.59768\tvalid_0's l1: 1.0258\n",
      "[53]\tvalid_0's l2: 2.58198\tvalid_0's l1: 1.02261\n",
      "[54]\tvalid_0's l2: 2.57193\tvalid_0's l1: 1.02082\n",
      "[55]\tvalid_0's l2: 2.5605\tvalid_0's l1: 1.01809\n",
      "[56]\tvalid_0's l2: 2.54576\tvalid_0's l1: 1.01639\n",
      "[57]\tvalid_0's l2: 2.53452\tvalid_0's l1: 1.01026\n",
      "[58]\tvalid_0's l2: 2.52548\tvalid_0's l1: 1.00737\n",
      "[59]\tvalid_0's l2: 2.51515\tvalid_0's l1: 1.00501\n",
      "[60]\tvalid_0's l2: 2.50232\tvalid_0's l1: 1.00321\n",
      "[61]\tvalid_0's l2: 2.48924\tvalid_0's l1: 1.00166\n",
      "[62]\tvalid_0's l2: 2.47824\tvalid_0's l1: 0.999821\n",
      "[63]\tvalid_0's l2: 2.46964\tvalid_0's l1: 0.995985\n",
      "[64]\tvalid_0's l2: 2.46093\tvalid_0's l1: 0.994337\n",
      "[65]\tvalid_0's l2: 2.4542\tvalid_0's l1: 0.989667\n",
      "[66]\tvalid_0's l2: 2.44534\tvalid_0's l1: 0.986879\n",
      "[67]\tvalid_0's l2: 2.43563\tvalid_0's l1: 0.985586\n",
      "[68]\tvalid_0's l2: 2.42645\tvalid_0's l1: 0.983234\n",
      "[69]\tvalid_0's l2: 2.42013\tvalid_0's l1: 0.98049\n",
      "[70]\tvalid_0's l2: 2.41241\tvalid_0's l1: 0.978818\n",
      "[71]\tvalid_0's l2: 2.40512\tvalid_0's l1: 0.976363\n",
      "[72]\tvalid_0's l2: 2.39886\tvalid_0's l1: 0.974348\n",
      "[73]\tvalid_0's l2: 2.3906\tvalid_0's l1: 0.97183\n",
      "[74]\tvalid_0's l2: 2.38371\tvalid_0's l1: 0.96992\n",
      "[75]\tvalid_0's l2: 2.37774\tvalid_0's l1: 0.965521\n",
      "[76]\tvalid_0's l2: 2.36899\tvalid_0's l1: 0.963913\n",
      "[77]\tvalid_0's l2: 2.36044\tvalid_0's l1: 0.962553\n",
      "[78]\tvalid_0's l2: 2.35264\tvalid_0's l1: 0.960998\n",
      "[79]\tvalid_0's l2: 2.34749\tvalid_0's l1: 0.959119\n",
      "[80]\tvalid_0's l2: 2.34291\tvalid_0's l1: 0.957422\n",
      "[81]\tvalid_0's l2: 2.33639\tvalid_0's l1: 0.956286\n",
      "[82]\tvalid_0's l2: 2.33131\tvalid_0's l1: 0.953641\n",
      "[83]\tvalid_0's l2: 2.32561\tvalid_0's l1: 0.951532\n",
      "[84]\tvalid_0's l2: 2.31767\tvalid_0's l1: 0.950017\n",
      "[85]\tvalid_0's l2: 2.31281\tvalid_0's l1: 0.948044\n",
      "[86]\tvalid_0's l2: 2.30754\tvalid_0's l1: 0.946017\n",
      "[87]\tvalid_0's l2: 2.29941\tvalid_0's l1: 0.945096\n",
      "[88]\tvalid_0's l2: 2.29221\tvalid_0's l1: 0.944086\n",
      "[89]\tvalid_0's l2: 2.28806\tvalid_0's l1: 0.941103\n",
      "[90]\tvalid_0's l2: 2.28402\tvalid_0's l1: 0.940423\n",
      "[91]\tvalid_0's l2: 2.2805\tvalid_0's l1: 0.93857\n",
      "[92]\tvalid_0's l2: 2.27635\tvalid_0's l1: 0.93664\n",
      "[93]\tvalid_0's l2: 2.27189\tvalid_0's l1: 0.935603\n",
      "[94]\tvalid_0's l2: 2.26858\tvalid_0's l1: 0.933348\n",
      "[95]\tvalid_0's l2: 2.26126\tvalid_0's l1: 0.932521\n",
      "[96]\tvalid_0's l2: 2.25659\tvalid_0's l1: 0.930681\n",
      "[97]\tvalid_0's l2: 2.25256\tvalid_0's l1: 0.929972\n",
      "[98]\tvalid_0's l2: 2.24913\tvalid_0's l1: 0.928293\n",
      "[99]\tvalid_0's l2: 2.24484\tvalid_0's l1: 0.927052\n",
      "[100]\tvalid_0's l2: 2.23906\tvalid_0's l1: 0.926542\n",
      "[101]\tvalid_0's l2: 2.23578\tvalid_0's l1: 0.925923\n",
      "[102]\tvalid_0's l2: 2.23199\tvalid_0's l1: 0.924888\n",
      "[103]\tvalid_0's l2: 2.22613\tvalid_0's l1: 0.923955\n",
      "[104]\tvalid_0's l2: 2.22131\tvalid_0's l1: 0.922535\n",
      "[105]\tvalid_0's l2: 2.2184\tvalid_0's l1: 0.921948\n",
      "[106]\tvalid_0's l2: 2.21561\tvalid_0's l1: 0.920482\n",
      "[107]\tvalid_0's l2: 2.21235\tvalid_0's l1: 0.91982\n",
      "[108]\tvalid_0's l2: 2.20705\tvalid_0's l1: 0.918918\n",
      "[109]\tvalid_0's l2: 2.20437\tvalid_0's l1: 0.917328\n",
      "[110]\tvalid_0's l2: 2.19888\tvalid_0's l1: 0.916566\n",
      "[111]\tvalid_0's l2: 2.19636\tvalid_0's l1: 0.914535\n",
      "[112]\tvalid_0's l2: 2.19354\tvalid_0's l1: 0.914157\n",
      "[113]\tvalid_0's l2: 2.19063\tvalid_0's l1: 0.912435\n",
      "[114]\tvalid_0's l2: 2.18805\tvalid_0's l1: 0.912156\n",
      "[115]\tvalid_0's l2: 2.18561\tvalid_0's l1: 0.911295\n",
      "[116]\tvalid_0's l2: 2.18336\tvalid_0's l1: 0.909678\n",
      "[117]\tvalid_0's l2: 2.18008\tvalid_0's l1: 0.908993\n",
      "[118]\tvalid_0's l2: 2.17623\tvalid_0's l1: 0.908025\n",
      "[119]\tvalid_0's l2: 2.16952\tvalid_0's l1: 0.906184\n",
      "[120]\tvalid_0's l2: 2.16557\tvalid_0's l1: 0.905209\n",
      "[121]\tvalid_0's l2: 2.1629\tvalid_0's l1: 0.903738\n",
      "[122]\tvalid_0's l2: 2.16061\tvalid_0's l1: 0.903262\n",
      "[123]\tvalid_0's l2: 2.15726\tvalid_0's l1: 0.902913\n",
      "[124]\tvalid_0's l2: 2.15418\tvalid_0's l1: 0.902286\n",
      "[125]\tvalid_0's l2: 2.15161\tvalid_0's l1: 0.90052\n",
      "[126]\tvalid_0's l2: 2.14974\tvalid_0's l1: 0.899824\n",
      "[127]\tvalid_0's l2: 2.14634\tvalid_0's l1: 0.899548\n",
      "[128]\tvalid_0's l2: 2.14387\tvalid_0's l1: 0.898952\n",
      "[129]\tvalid_0's l2: 2.14145\tvalid_0's l1: 0.898262\n",
      "[130]\tvalid_0's l2: 2.13626\tvalid_0's l1: 0.897122\n",
      "[131]\tvalid_0's l2: 2.13431\tvalid_0's l1: 0.895878\n",
      "[132]\tvalid_0's l2: 2.13081\tvalid_0's l1: 0.895326\n",
      "[133]\tvalid_0's l2: 2.12724\tvalid_0's l1: 0.894676\n",
      "[134]\tvalid_0's l2: 2.12544\tvalid_0's l1: 0.893744\n",
      "[135]\tvalid_0's l2: 2.12096\tvalid_0's l1: 0.893348\n",
      "[136]\tvalid_0's l2: 2.11506\tvalid_0's l1: 0.892378\n",
      "[137]\tvalid_0's l2: 2.11334\tvalid_0's l1: 0.891954\n",
      "[138]\tvalid_0's l2: 2.10921\tvalid_0's l1: 0.891374\n",
      "[139]\tvalid_0's l2: 2.1068\tvalid_0's l1: 0.890212\n",
      "[140]\tvalid_0's l2: 2.10457\tvalid_0's l1: 0.889573\n",
      "[141]\tvalid_0's l2: 2.10212\tvalid_0's l1: 0.889319\n",
      "[142]\tvalid_0's l2: 2.0983\tvalid_0's l1: 0.888426\n",
      "[143]\tvalid_0's l2: 2.09661\tvalid_0's l1: 0.887502\n",
      "[144]\tvalid_0's l2: 2.09453\tvalid_0's l1: 0.886889\n",
      "[145]\tvalid_0's l2: 2.09277\tvalid_0's l1: 0.885084\n",
      "[146]\tvalid_0's l2: 2.0901\tvalid_0's l1: 0.884324\n",
      "[147]\tvalid_0's l2: 2.08835\tvalid_0's l1: 0.883005\n",
      "[148]\tvalid_0's l2: 2.08626\tvalid_0's l1: 0.882626\n",
      "[149]\tvalid_0's l2: 2.08276\tvalid_0's l1: 0.882003\n",
      "[150]\tvalid_0's l2: 2.08106\tvalid_0's l1: 0.880601\n",
      "[151]\tvalid_0's l2: 2.07832\tvalid_0's l1: 0.879837\n",
      "[152]\tvalid_0's l2: 2.0758\tvalid_0's l1: 0.879197\n",
      "[153]\tvalid_0's l2: 2.07374\tvalid_0's l1: 0.87877\n",
      "[154]\tvalid_0's l2: 2.07259\tvalid_0's l1: 0.877778\n",
      "[155]\tvalid_0's l2: 2.07138\tvalid_0's l1: 0.877463\n",
      "[156]\tvalid_0's l2: 2.07031\tvalid_0's l1: 0.876982\n",
      "[157]\tvalid_0's l2: 2.06811\tvalid_0's l1: 0.876636\n",
      "[158]\tvalid_0's l2: 2.06473\tvalid_0's l1: 0.87572\n",
      "[159]\tvalid_0's l2: 2.06336\tvalid_0's l1: 0.875605\n",
      "[160]\tvalid_0's l2: 2.06195\tvalid_0's l1: 0.875293\n",
      "[161]\tvalid_0's l2: 2.05972\tvalid_0's l1: 0.874882\n",
      "[162]\tvalid_0's l2: 2.05818\tvalid_0's l1: 0.87433\n",
      "[163]\tvalid_0's l2: 2.0572\tvalid_0's l1: 0.873975\n",
      "[164]\tvalid_0's l2: 2.05579\tvalid_0's l1: 0.873535\n",
      "[165]\tvalid_0's l2: 2.05382\tvalid_0's l1: 0.872757\n",
      "[166]\tvalid_0's l2: 2.05107\tvalid_0's l1: 0.872018\n",
      "[167]\tvalid_0's l2: 2.04816\tvalid_0's l1: 0.87138\n"
     ]
    },
    {
     "name": "stdout",
     "output_type": "stream",
     "text": [
      "[168]\tvalid_0's l2: 2.04691\tvalid_0's l1: 0.870742\n",
      "[169]\tvalid_0's l2: 2.04477\tvalid_0's l1: 0.870097\n",
      "[170]\tvalid_0's l2: 2.04341\tvalid_0's l1: 0.869805\n",
      "[171]\tvalid_0's l2: 2.04031\tvalid_0's l1: 0.869137\n",
      "[172]\tvalid_0's l2: 2.03945\tvalid_0's l1: 0.86861\n",
      "[173]\tvalid_0's l2: 2.037\tvalid_0's l1: 0.868112\n",
      "[174]\tvalid_0's l2: 2.03598\tvalid_0's l1: 0.868057\n",
      "[175]\tvalid_0's l2: 2.03446\tvalid_0's l1: 0.867565\n",
      "[176]\tvalid_0's l2: 2.03325\tvalid_0's l1: 0.866995\n",
      "[177]\tvalid_0's l2: 2.03224\tvalid_0's l1: 0.866724\n",
      "[178]\tvalid_0's l2: 2.02859\tvalid_0's l1: 0.866004\n",
      "[179]\tvalid_0's l2: 2.0263\tvalid_0's l1: 0.865818\n",
      "[180]\tvalid_0's l2: 2.02479\tvalid_0's l1: 0.865681\n",
      "[181]\tvalid_0's l2: 2.02186\tvalid_0's l1: 0.86449\n",
      "[182]\tvalid_0's l2: 2.02023\tvalid_0's l1: 0.864258\n",
      "[183]\tvalid_0's l2: 2.0194\tvalid_0's l1: 0.864098\n",
      "[184]\tvalid_0's l2: 2.01724\tvalid_0's l1: 0.863058\n",
      "[185]\tvalid_0's l2: 2.01616\tvalid_0's l1: 0.86247\n",
      "[186]\tvalid_0's l2: 2.0153\tvalid_0's l1: 0.862249\n",
      "[187]\tvalid_0's l2: 2.01457\tvalid_0's l1: 0.861866\n",
      "[188]\tvalid_0's l2: 2.01351\tvalid_0's l1: 0.86159\n",
      "[189]\tvalid_0's l2: 2.01218\tvalid_0's l1: 0.861277\n",
      "[190]\tvalid_0's l2: 2.01144\tvalid_0's l1: 0.860743\n",
      "[191]\tvalid_0's l2: 2.01007\tvalid_0's l1: 0.860496\n",
      "[192]\tvalid_0's l2: 2.00878\tvalid_0's l1: 0.860216\n",
      "[193]\tvalid_0's l2: 2.00763\tvalid_0's l1: 0.859342\n",
      "[194]\tvalid_0's l2: 2.00743\tvalid_0's l1: 0.859339\n",
      "[195]\tvalid_0's l2: 2.00637\tvalid_0's l1: 0.858922\n",
      "[196]\tvalid_0's l2: 2.00431\tvalid_0's l1: 0.858526\n",
      "[197]\tvalid_0's l2: 2.00335\tvalid_0's l1: 0.858465\n",
      "[198]\tvalid_0's l2: 2.00261\tvalid_0's l1: 0.858481\n",
      "[199]\tvalid_0's l2: 2.00092\tvalid_0's l1: 0.858267\n",
      "[200]\tvalid_0's l2: 1.99937\tvalid_0's l1: 0.857996\n",
      "[201]\tvalid_0's l2: 1.99859\tvalid_0's l1: 0.857968\n",
      "[202]\tvalid_0's l2: 1.99795\tvalid_0's l1: 0.857599\n",
      "[203]\tvalid_0's l2: 1.99588\tvalid_0's l1: 0.857218\n",
      "[204]\tvalid_0's l2: 1.9952\tvalid_0's l1: 0.856661\n",
      "[205]\tvalid_0's l2: 1.99355\tvalid_0's l1: 0.856516\n",
      "[206]\tvalid_0's l2: 1.99198\tvalid_0's l1: 0.856183\n",
      "[207]\tvalid_0's l2: 1.99131\tvalid_0's l1: 0.856086\n",
      "[208]\tvalid_0's l2: 1.98997\tvalid_0's l1: 0.855908\n",
      "[209]\tvalid_0's l2: 1.98816\tvalid_0's l1: 0.855554\n",
      "[210]\tvalid_0's l2: 1.98467\tvalid_0's l1: 0.854941\n",
      "[211]\tvalid_0's l2: 1.98218\tvalid_0's l1: 0.854421\n",
      "[212]\tvalid_0's l2: 1.98147\tvalid_0's l1: 0.85405\n",
      "[213]\tvalid_0's l2: 1.98018\tvalid_0's l1: 0.853937\n",
      "[214]\tvalid_0's l2: 1.97746\tvalid_0's l1: 0.853356\n",
      "[215]\tvalid_0's l2: 1.97629\tvalid_0's l1: 0.853029\n",
      "[216]\tvalid_0's l2: 1.97572\tvalid_0's l1: 0.852706\n",
      "[217]\tvalid_0's l2: 1.97488\tvalid_0's l1: 0.852279\n",
      "[218]\tvalid_0's l2: 1.97262\tvalid_0's l1: 0.851357\n",
      "[219]\tvalid_0's l2: 1.97104\tvalid_0's l1: 0.85108\n",
      "[220]\tvalid_0's l2: 1.97071\tvalid_0's l1: 0.850996\n",
      "[221]\tvalid_0's l2: 1.97039\tvalid_0's l1: 0.850958\n",
      "[222]\tvalid_0's l2: 1.96982\tvalid_0's l1: 0.850772\n",
      "[223]\tvalid_0's l2: 1.96903\tvalid_0's l1: 0.850584\n",
      "[224]\tvalid_0's l2: 1.96776\tvalid_0's l1: 0.850267\n",
      "[225]\tvalid_0's l2: 1.96728\tvalid_0's l1: 0.849983\n",
      "[226]\tvalid_0's l2: 1.96694\tvalid_0's l1: 0.849896\n",
      "[227]\tvalid_0's l2: 1.9663\tvalid_0's l1: 0.849558\n",
      "[228]\tvalid_0's l2: 1.96529\tvalid_0's l1: 0.849012\n",
      "[229]\tvalid_0's l2: 1.9647\tvalid_0's l1: 0.848636\n",
      "[230]\tvalid_0's l2: 1.96447\tvalid_0's l1: 0.848604\n",
      "[231]\tvalid_0's l2: 1.96265\tvalid_0's l1: 0.848399\n",
      "[232]\tvalid_0's l2: 1.9618\tvalid_0's l1: 0.847755\n",
      "[233]\tvalid_0's l2: 1.96122\tvalid_0's l1: 0.847613\n",
      "[234]\tvalid_0's l2: 1.95961\tvalid_0's l1: 0.847452\n",
      "[235]\tvalid_0's l2: 1.95883\tvalid_0's l1: 0.846854\n",
      "[236]\tvalid_0's l2: 1.9581\tvalid_0's l1: 0.846638\n",
      "[237]\tvalid_0's l2: 1.95746\tvalid_0's l1: 0.846277\n",
      "[238]\tvalid_0's l2: 1.95531\tvalid_0's l1: 0.84542\n",
      "[239]\tvalid_0's l2: 1.95483\tvalid_0's l1: 0.845337\n",
      "[240]\tvalid_0's l2: 1.95449\tvalid_0's l1: 0.845247\n",
      "[241]\tvalid_0's l2: 1.95403\tvalid_0's l1: 0.845122\n",
      "[242]\tvalid_0's l2: 1.95339\tvalid_0's l1: 0.844923\n",
      "[243]\tvalid_0's l2: 1.95287\tvalid_0's l1: 0.844787\n",
      "[244]\tvalid_0's l2: 1.95228\tvalid_0's l1: 0.844428\n",
      "[245]\tvalid_0's l2: 1.95221\tvalid_0's l1: 0.844363\n",
      "[246]\tvalid_0's l2: 1.95175\tvalid_0's l1: 0.844127\n",
      "[247]\tvalid_0's l2: 1.94886\tvalid_0's l1: 0.843669\n",
      "[248]\tvalid_0's l2: 1.94675\tvalid_0's l1: 0.843243\n",
      "[249]\tvalid_0's l2: 1.9462\tvalid_0's l1: 0.842916\n",
      "[250]\tvalid_0's l2: 1.94569\tvalid_0's l1: 0.842728\n",
      "[251]\tvalid_0's l2: 1.94406\tvalid_0's l1: 0.842455\n",
      "[252]\tvalid_0's l2: 1.94336\tvalid_0's l1: 0.842401\n",
      "[253]\tvalid_0's l2: 1.94244\tvalid_0's l1: 0.842379\n",
      "[254]\tvalid_0's l2: 1.94198\tvalid_0's l1: 0.842378\n",
      "[255]\tvalid_0's l2: 1.94163\tvalid_0's l1: 0.8423\n",
      "[256]\tvalid_0's l2: 1.94039\tvalid_0's l1: 0.842239\n",
      "[257]\tvalid_0's l2: 1.93923\tvalid_0's l1: 0.842151\n",
      "[258]\tvalid_0's l2: 1.9386\tvalid_0's l1: 0.841784\n",
      "[259]\tvalid_0's l2: 1.9381\tvalid_0's l1: 0.841551\n",
      "[260]\tvalid_0's l2: 1.93692\tvalid_0's l1: 0.841196\n",
      "[261]\tvalid_0's l2: 1.93651\tvalid_0's l1: 0.841088\n",
      "[262]\tvalid_0's l2: 1.93466\tvalid_0's l1: 0.840616\n",
      "[263]\tvalid_0's l2: 1.93416\tvalid_0's l1: 0.840322\n",
      "[264]\tvalid_0's l2: 1.93305\tvalid_0's l1: 0.840172\n",
      "[265]\tvalid_0's l2: 1.93309\tvalid_0's l1: 0.84016\n",
      "[266]\tvalid_0's l2: 1.93218\tvalid_0's l1: 0.839197\n",
      "[267]\tvalid_0's l2: 1.93131\tvalid_0's l1: 0.839003\n",
      "[268]\tvalid_0's l2: 1.9307\tvalid_0's l1: 0.838694\n",
      "[269]\tvalid_0's l2: 1.93004\tvalid_0's l1: 0.838584\n",
      "[270]\tvalid_0's l2: 1.92945\tvalid_0's l1: 0.838113\n",
      "[271]\tvalid_0's l2: 1.929\tvalid_0's l1: 0.837963\n",
      "[272]\tvalid_0's l2: 1.92764\tvalid_0's l1: 0.837208\n",
      "[273]\tvalid_0's l2: 1.92682\tvalid_0's l1: 0.836882\n",
      "[274]\tvalid_0's l2: 1.92518\tvalid_0's l1: 0.836422\n",
      "[275]\tvalid_0's l2: 1.92485\tvalid_0's l1: 0.836154\n",
      "[276]\tvalid_0's l2: 1.92448\tvalid_0's l1: 0.835795\n",
      "[277]\tvalid_0's l2: 1.92325\tvalid_0's l1: 0.835705\n",
      "[278]\tvalid_0's l2: 1.9227\tvalid_0's l1: 0.83547\n",
      "[279]\tvalid_0's l2: 1.92212\tvalid_0's l1: 0.835463\n",
      "[280]\tvalid_0's l2: 1.92167\tvalid_0's l1: 0.834957\n",
      "[281]\tvalid_0's l2: 1.921\tvalid_0's l1: 0.834831\n",
      "[282]\tvalid_0's l2: 1.92021\tvalid_0's l1: 0.834813\n",
      "[283]\tvalid_0's l2: 1.91982\tvalid_0's l1: 0.8348\n",
      "[284]\tvalid_0's l2: 1.91939\tvalid_0's l1: 0.834773\n",
      "[285]\tvalid_0's l2: 1.91862\tvalid_0's l1: 0.834707\n",
      "[286]\tvalid_0's l2: 1.91817\tvalid_0's l1: 0.834472\n",
      "[287]\tvalid_0's l2: 1.91753\tvalid_0's l1: 0.834241\n",
      "[288]\tvalid_0's l2: 1.91534\tvalid_0's l1: 0.833782\n",
      "[289]\tvalid_0's l2: 1.91486\tvalid_0's l1: 0.833548\n",
      "[290]\tvalid_0's l2: 1.91449\tvalid_0's l1: 0.83345\n",
      "[291]\tvalid_0's l2: 1.91378\tvalid_0's l1: 0.832836\n",
      "[292]\tvalid_0's l2: 1.91337\tvalid_0's l1: 0.832567\n",
      "[293]\tvalid_0's l2: 1.91325\tvalid_0's l1: 0.832558\n",
      "[294]\tvalid_0's l2: 1.91282\tvalid_0's l1: 0.832435\n",
      "[295]\tvalid_0's l2: 1.91219\tvalid_0's l1: 0.831848\n",
      "[296]\tvalid_0's l2: 1.91185\tvalid_0's l1: 0.831751\n",
      "[297]\tvalid_0's l2: 1.91077\tvalid_0's l1: 0.831508\n",
      "[298]\tvalid_0's l2: 1.91039\tvalid_0's l1: 0.831366\n",
      "[299]\tvalid_0's l2: 1.90881\tvalid_0's l1: 0.83103\n",
      "[300]\tvalid_0's l2: 1.90675\tvalid_0's l1: 0.83065\n",
      "Did not meet early stopping. Best iteration is:\n",
      "[300]\tvalid_0's l2: 1.90675\tvalid_0's l1: 0.83065\n",
      "Test RMSE : 1.38\n",
      "Train RMSE : 1.36\n",
      "Test RMSE: 1.38 , Train RMSE 1.36 for LightGBM!!\n"
     ]
    }
   ],
   "source": [
    "lgbm_model_loan_df = pd.read_pickle('loan_df_train_model_ready.pkl')\n",
    "\n",
    "#X2 and X3 are ids and can be removed from the model\n",
    "lgbm_model_loan_df = lgbm_model_loan_df.drop(['X2'],axis=1)\n",
    "lgbm_model_loan_df = lgbm_model_loan_df.drop(['X3'],axis=1)\n",
    "\n",
    "#Create train and response dataset\n",
    "x = lgbm_model_loan_df.drop(['X1'],axis=1)\n",
    "y = lgbm_model_loan_df['X1']\n",
    "print(x.shape,y.shape)\n",
    "\n",
    "cat_cols = ['X7','X8','X9','X11','X12','X14','X17','X20','X32',\n",
    "            'Issue_Month','Issue_Year','Has_Delinq','Has_PublicRecord']\n",
    "for col in x.columns :\n",
    "    if col not in cat_cols:\n",
    "        x[col]= standardizeColumn(x[col])\n",
    "        \n",
    "        \n",
    "cat_cols = ['X7','X8','X9','X11','X12','X14','X17','X20',\n",
    "            'Issue_Month','Issue_Year']       \n",
    "x = pd.get_dummies(x,columns=cat_cols)\n",
    "\n",
    "x_train,x_test,y_train,y_test = train_test_split(x,y,test_size=.3)\n",
    "print(x_train.shape,y_train.shape,x_test.shape,y_test.shape)\n",
    "\n",
    "# create dataset for lightgbm\n",
    "lgb_train = lgb.Dataset(x_train, y_train)\n",
    "lgb_eval = lgb.Dataset(x_test, y_test, reference=lgb_train)\n",
    "\n",
    "# specify your configurations as a dict\n",
    "params = {\n",
    "    'boosting_type': 'gbdt',\n",
    "    'objective': 'regression',\n",
    "    'metric': {'l2', 'l1'},\n",
    "    'num_leaves': 8,\n",
    "    'learning_rate': 0.1,\n",
    "    'feature_fraction': 0.9,\n",
    "    'bagging_fraction': 0.8,\n",
    "    'bagging_freq': 5,\n",
    "    'verbose': 0\n",
    "}\n",
    "\n",
    "print('Starting training...')\n",
    "# train\n",
    "lgbm_model3 = lgb.train(params,\n",
    "                lgb_train,\n",
    "                num_boost_round=300,\n",
    "                valid_sets=lgb_eval,\n",
    "                early_stopping_rounds=5)\n",
    "\n",
    "\n",
    "lgbm3_rmse_scores = predict(lgbm_model3)\n",
    "print('Test RMSE: {} , Train RMSE {} for LightGBM!!'.format(round(lgbm3_rmse_scores[0],2),\n",
    "                                                               round(lgbm3_rmse_scores[1],2)))\n",
    "\n",
    "\n"
   ]
  },
  {
   "cell_type": "markdown",
   "metadata": {},
   "source": [
    "# Model Comparison and Selection"
   ]
  },
  {
   "cell_type": "markdown",
   "metadata": {},
   "source": [
    "**Tried 10 models and collected RMSE. Grid searchwas tired but it never completed.**"
   ]
  },
  {
   "cell_type": "markdown",
   "metadata": {},
   "source": [
    "## Comparison"
   ]
  },
  {
   "cell_type": "code",
   "execution_count": 78,
   "metadata": {},
   "outputs": [],
   "source": [
    "scores = [dt_rmse_scores,\n",
    "rf_rmse_scores,\n",
    "ada_rmse_scores,\n",
    "gbm_rmse_scores,\n",
    "xgb_rmse_scores,\n",
    "lgbm_rmse_scores,\n",
    "lgbm2_rmse_scores,\n",
    "rf2_rmse_scores,\n",
    "rf3_rmse_scores,\n",
    "lgbm3_rmse_scores]"
   ]
  },
  {
   "cell_type": "code",
   "execution_count": 123,
   "metadata": {},
   "outputs": [
    {
     "data": {
      "text/html": [
       "<div>\n",
       "<style scoped>\n",
       "    .dataframe tbody tr th:only-of-type {\n",
       "        vertical-align: middle;\n",
       "    }\n",
       "\n",
       "    .dataframe tbody tr th {\n",
       "        vertical-align: top;\n",
       "    }\n",
       "\n",
       "    .dataframe thead th {\n",
       "        text-align: right;\n",
       "    }\n",
       "</style>\n",
       "<table border=\"1\" class=\"dataframe\">\n",
       "  <thead>\n",
       "    <tr style=\"text-align: right;\">\n",
       "      <th></th>\n",
       "      <th>Test</th>\n",
       "      <th>Train</th>\n",
       "    </tr>\n",
       "  </thead>\n",
       "  <tbody>\n",
       "    <tr>\n",
       "      <th>5. XGBOOST</th>\n",
       "      <td>1.331017</td>\n",
       "      <td>1.306313</td>\n",
       "    </tr>\n",
       "    <tr>\n",
       "      <th>6. Light GBM</th>\n",
       "      <td>1.333628</td>\n",
       "      <td>1.330274</td>\n",
       "    </tr>\n",
       "    <tr>\n",
       "      <th>7. Light GBM (standardizeColumns)</th>\n",
       "      <td>1.345227</td>\n",
       "      <td>1.323373</td>\n",
       "    </tr>\n",
       "    <tr>\n",
       "      <th>10. Light GBM (Dummy Encoding)</th>\n",
       "      <td>1.380851</td>\n",
       "      <td>1.363830</td>\n",
       "    </tr>\n",
       "    <tr>\n",
       "      <th>4. GBM</th>\n",
       "      <td>1.481212</td>\n",
       "      <td>1.476347</td>\n",
       "    </tr>\n",
       "    <tr>\n",
       "      <th>8. Random Forest (standardizeColumns)</th>\n",
       "      <td>1.496715</td>\n",
       "      <td>1.491634</td>\n",
       "    </tr>\n",
       "    <tr>\n",
       "      <th>9. Random Forest (Dummy Encoding)</th>\n",
       "      <td>1.497997</td>\n",
       "      <td>1.480496</td>\n",
       "    </tr>\n",
       "    <tr>\n",
       "      <th>2. Random Forest</th>\n",
       "      <td>1.503094</td>\n",
       "      <td>1.486468</td>\n",
       "    </tr>\n",
       "    <tr>\n",
       "      <th>1. Decision Tree</th>\n",
       "      <td>2.140285</td>\n",
       "      <td>2.122166</td>\n",
       "    </tr>\n",
       "    <tr>\n",
       "      <th>3. Ada Boost</th>\n",
       "      <td>2.449948</td>\n",
       "      <td>2.449939</td>\n",
       "    </tr>\n",
       "  </tbody>\n",
       "</table>\n",
       "</div>"
      ],
      "text/plain": [
       "                                           Test     Train\n",
       "5. XGBOOST                             1.331017  1.306313\n",
       "6. Light GBM                           1.333628  1.330274\n",
       "7. Light GBM (standardizeColumns)      1.345227  1.323373\n",
       "10. Light GBM (Dummy Encoding)         1.380851  1.363830\n",
       "4. GBM                                 1.481212  1.476347\n",
       "8. Random Forest (standardizeColumns)  1.496715  1.491634\n",
       "9. Random Forest (Dummy Encoding)      1.497997  1.480496\n",
       "2. Random Forest                       1.503094  1.486468\n",
       "1. Decision Tree                       2.140285  2.122166\n",
       "3. Ada Boost                           2.449948  2.449939"
      ]
     },
     "execution_count": 123,
     "metadata": {},
     "output_type": "execute_result"
    }
   ],
   "source": [
    "pd.DataFrame(scores,columns=['Test','Train'],index=['1. Decision Tree',\n",
    "                                                   '2. Random Forest',\n",
    "                                                   '3. Ada Boost',\n",
    "                                                   '4. GBM',\n",
    "                                                   '5. XGBOOST',\n",
    "                                                   '6. Light GBM',\n",
    "                                                   '7. Light GBM (standardizeColumns)',\n",
    "                                                   '8. Random Forest (standardizeColumns)',\n",
    "                                                   '9. Random Forest (Dummy Encoding)',\n",
    "                                                   '10. Light GBM (Dummy Encoding)']).sort_values(['Test'])"
   ]
  },
  {
   "cell_type": "markdown",
   "metadata": {},
   "source": [
    "**Explanation**\n",
    "\n",
    "**As can be seen in the table above model num 5 - XGBOOST has lowest TEST RMSE score and the train \n",
    "rmse is also close, which signifies a good fit. Other models like Decision tree and Random forest have higher test RMSE hence they were rejected. Even Standardization and Dummy Encoding did not play a great role in improving model performance. Another good candidate is LightGBM, which has a very quick training time and has accuracy on par with XGBOOST. If we are pressed for time, then lightGBM can be selected**\n",
    "\n",
    "**We note that Gradient Boosted Methods performed really well in this learning task because they start with a minimal depth and subsequently learn from the errors of previous model, which works really well when you have large number of columns as in this case.**\n",
    "\n",
    "**Grid Search CV was not able to complete in time hence hyperparameter tuning was not performed.** \n",
    "\n",
    "**Further improvement can be made by extracting information from Description field X16 using NLP techniques but I ran out of time to try that. I will further improve this model after submitting this assignment.**\n",
    "\n",
    "**Given this limitation and acceptable score of XGBOOST, I Will select it as my final model below**"
   ]
  },
  {
   "cell_type": "markdown",
   "metadata": {},
   "source": [
    "## Final Model"
   ]
  },
  {
   "cell_type": "code",
   "execution_count": 139,
   "metadata": {},
   "outputs": [],
   "source": [
    "final_model = xgb_model1"
   ]
  },
  {
   "cell_type": "markdown",
   "metadata": {},
   "source": [
    "# Submission - Running on Hold out Set"
   ]
  },
  {
   "cell_type": "markdown",
   "metadata": {},
   "source": [
    "## Read in Processed hold out file"
   ]
  },
  {
   "cell_type": "code",
   "execution_count": 84,
   "metadata": {},
   "outputs": [],
   "source": [
    "hold_loan_df = pd.read_pickle('loan_df_holdout_model_ready.pkl')"
   ]
  },
  {
   "cell_type": "code",
   "execution_count": 107,
   "metadata": {},
   "outputs": [],
   "source": [
    "hold_model_df = hold_loan_df.drop(['X2','X3'],axis=1)"
   ]
  },
  {
   "cell_type": "markdown",
   "metadata": {},
   "source": [
    "## Run final model on hold out set"
   ]
  },
  {
   "cell_type": "code",
   "execution_count": 140,
   "metadata": {},
   "outputs": [],
   "source": [
    "y_pred = np.round(final_model.predict(hold_model_df),2)"
   ]
  },
  {
   "cell_type": "code",
   "execution_count": 141,
   "metadata": {},
   "outputs": [],
   "source": [
    "obsid = hold_loan_df['X2']\n",
    "final_pred = pd.Series(y_pred,name='X1')\n",
    "submission = pd.concat([obsid,final_pred],axis=1)"
   ]
  },
  {
   "cell_type": "markdown",
   "metadata": {},
   "source": [
    "## Create Submission file"
   ]
  },
  {
   "cell_type": "code",
   "execution_count": 142,
   "metadata": {},
   "outputs": [],
   "source": [
    "submission.to_csv('submission_loans_raghavatal.csv',index=False)"
   ]
  }
 ],
 "metadata": {
  "kernelspec": {
   "display_name": "Python 3",
   "language": "python",
   "name": "python3"
  },
  "language_info": {
   "codemirror_mode": {
    "name": "ipython",
    "version": 3
   },
   "file_extension": ".py",
   "mimetype": "text/x-python",
   "name": "python",
   "nbconvert_exporter": "python",
   "pygments_lexer": "ipython3",
   "version": "3.6.7"
  },
  "toc": {
   "base_numbering": 1,
   "nav_menu": {},
   "number_sections": true,
   "sideBar": true,
   "skip_h1_title": false,
   "title_cell": "Table of Contents",
   "title_sidebar": "Contents",
   "toc_cell": true,
   "toc_position": {
    "height": "calc(100% - 180px)",
    "left": "10px",
    "top": "150px",
    "width": "363.578125px"
   },
   "toc_section_display": true,
   "toc_window_display": true
  }
 },
 "nbformat": 4,
 "nbformat_minor": 2
}
